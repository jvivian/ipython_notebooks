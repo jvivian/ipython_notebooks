{
 "cells": [
  {
   "cell_type": "markdown",
   "metadata": {},
   "source": [
    "# SRA RNAseq Data\n",
    "Date: 12-30-16 <br>\n",
    "Author: John Vivian"
   ]
  },
  {
   "cell_type": "code",
   "execution_count": 150,
   "metadata": {
    "collapsed": true
   },
   "outputs": [],
   "source": [
    "%matplotlib inline\n",
    "import pandas as pd\n",
    "import numpy as np\n",
    "import matplotlib.pyplot as plt\n",
    "import os\n",
    "import seaborn as sns"
   ]
  },
  {
   "cell_type": "code",
   "execution_count": 151,
   "metadata": {
    "collapsed": false
   },
   "outputs": [
    {
     "data": {
      "text/html": [
       "<style>body {\n",
       "    margin: 0;\n",
       "    font-family: Helvetica;\n",
       "}\n",
       "table.dataframe {\n",
       "    border-collapse: collapse;\n",
       "    border: none;\n",
       "}\n",
       "table.dataframe tr {\n",
       "    border: none;\n",
       "}\n",
       "table.dataframe td, table.dataframe th {\n",
       "    margin: 0;\n",
       "    border: 1px solid white;\n",
       "    padding-left: 0.25em;\n",
       "    padding-right: 0.25em;\n",
       "}\n",
       "table.dataframe th:not(:empty) {\n",
       "    background-color: #fec;\n",
       "    text-align: left;\n",
       "    font-weight: normal;\n",
       "}\n",
       "table.dataframe tr:nth-child(2) th:empty {\n",
       "    border-left: none;\n",
       "    border-right: 1px dashed #888;\n",
       "}\n",
       "table.dataframe td {\n",
       "    border: 2px solid #ccf;\n",
       "    background-color: #f4f4ff;\n",
       "}\n",
       "h3 {\n",
       "    color: white;\n",
       "    background-color: black;\n",
       "    padding: 0.5em;\n",
       "}\n",
       "</style>"
      ],
      "text/plain": [
       "<IPython.core.display.HTML object>"
      ]
     },
     "execution_count": 151,
     "metadata": {},
     "output_type": "execute_result"
    }
   ],
   "source": [
    "from IPython.core.display import HTML\n",
    "css = open('style-table.css').read() + open('style-notebook.css').read()\n",
    "HTML('<style>{}</style>'.format(css))"
   ]
  },
  {
   "cell_type": "code",
   "execution_count": 152,
   "metadata": {
    "collapsed": false
   },
   "outputs": [],
   "source": [
    "df = pd.read_csv('SraRunInfo.csv')"
   ]
  },
  {
   "cell_type": "code",
   "execution_count": 153,
   "metadata": {
    "collapsed": false
   },
   "outputs": [
    {
     "data": {
      "text/html": [
       "<div>\n",
       "<table border=\"1\" class=\"dataframe\">\n",
       "  <thead>\n",
       "    <tr style=\"text-align: right;\">\n",
       "      <th></th>\n",
       "      <th>Run</th>\n",
       "      <th>ReleaseDate</th>\n",
       "      <th>LoadDate</th>\n",
       "      <th>spots</th>\n",
       "      <th>bases</th>\n",
       "      <th>spots_with_mates</th>\n",
       "      <th>avgLength</th>\n",
       "      <th>size_MB</th>\n",
       "      <th>AssemblyName</th>\n",
       "      <th>download_path</th>\n",
       "      <th>...</th>\n",
       "      <th>Affection_Status</th>\n",
       "      <th>Analyte_Type</th>\n",
       "      <th>Histological_Type</th>\n",
       "      <th>Body_Site</th>\n",
       "      <th>CenterName</th>\n",
       "      <th>Submission</th>\n",
       "      <th>dbgap_study_accession</th>\n",
       "      <th>Consent</th>\n",
       "      <th>RunHash</th>\n",
       "      <th>ReadHash</th>\n",
       "    </tr>\n",
       "  </thead>\n",
       "  <tbody>\n",
       "    <tr>\n",
       "      <th>0</th>\n",
       "      <td>SRR5119551</td>\n",
       "      <td>2016-12-24</td>\n",
       "      <td>2016-12-19</td>\n",
       "      <td>58032007</td>\n",
       "      <td>4352400525</td>\n",
       "      <td>0</td>\n",
       "      <td>75</td>\n",
       "      <td>1238</td>\n",
       "      <td>NaN</td>\n",
       "      <td>https://sra-download.ncbi.nlm.nih.gov/srapub/S...</td>\n",
       "      <td>...</td>\n",
       "      <td>NaN</td>\n",
       "      <td>NaN</td>\n",
       "      <td>NaN</td>\n",
       "      <td>NaN</td>\n",
       "      <td>NaN</td>\n",
       "      <td>SRA505228</td>\n",
       "      <td>NaN</td>\n",
       "      <td>public</td>\n",
       "      <td>C8F35FC95F1FA73828E7D1E27DCED8D6</td>\n",
       "      <td>1EE19D5EFE2A20E9BAF59593EE983683</td>\n",
       "    </tr>\n",
       "    <tr>\n",
       "      <th>1</th>\n",
       "      <td>SRR5119552</td>\n",
       "      <td>2016-12-24</td>\n",
       "      <td>2016-12-19</td>\n",
       "      <td>19973392</td>\n",
       "      <td>1218376912</td>\n",
       "      <td>0</td>\n",
       "      <td>61</td>\n",
       "      <td>856</td>\n",
       "      <td>NaN</td>\n",
       "      <td>https://sra-download.ncbi.nlm.nih.gov/srapub/S...</td>\n",
       "      <td>...</td>\n",
       "      <td>NaN</td>\n",
       "      <td>NaN</td>\n",
       "      <td>NaN</td>\n",
       "      <td>NaN</td>\n",
       "      <td>NaN</td>\n",
       "      <td>SRA505228</td>\n",
       "      <td>NaN</td>\n",
       "      <td>public</td>\n",
       "      <td>69832F8A9ADE4101FBEED644C11ECDEE</td>\n",
       "      <td>5EA738BA567FA38E6F3AF73E08C7ECC4</td>\n",
       "    </tr>\n",
       "  </tbody>\n",
       "</table>\n",
       "<p>2 rows × 47 columns</p>\n",
       "</div>"
      ],
      "text/plain": [
       "          Run ReleaseDate    LoadDate     spots       bases  spots_with_mates  \\\n",
       "0  SRR5119551  2016-12-24  2016-12-19  58032007  4352400525                 0   \n",
       "1  SRR5119552  2016-12-24  2016-12-19  19973392  1218376912                 0   \n",
       "\n",
       "   avgLength  size_MB AssemblyName  \\\n",
       "0         75     1238          NaN   \n",
       "1         61      856          NaN   \n",
       "\n",
       "                                       download_path  \\\n",
       "0  https://sra-download.ncbi.nlm.nih.gov/srapub/S...   \n",
       "1  https://sra-download.ncbi.nlm.nih.gov/srapub/S...   \n",
       "\n",
       "                 ...                Affection_Status Analyte_Type  \\\n",
       "0                ...                             NaN          NaN   \n",
       "1                ...                             NaN          NaN   \n",
       "\n",
       "  Histological_Type Body_Site CenterName Submission  dbgap_study_accession  \\\n",
       "0               NaN       NaN        NaN  SRA505228                    NaN   \n",
       "1               NaN       NaN        NaN  SRA505228                    NaN   \n",
       "\n",
       "   Consent                           RunHash                          ReadHash  \n",
       "0   public  C8F35FC95F1FA73828E7D1E27DCED8D6  1EE19D5EFE2A20E9BAF59593EE983683  \n",
       "1   public  69832F8A9ADE4101FBEED644C11ECDEE  5EA738BA567FA38E6F3AF73E08C7ECC4  \n",
       "\n",
       "[2 rows x 47 columns]"
      ]
     },
     "execution_count": 153,
     "metadata": {},
     "output_type": "execute_result"
    }
   ],
   "source": [
    "df.head(2)"
   ]
  },
  {
   "cell_type": "code",
   "execution_count": 154,
   "metadata": {
    "collapsed": false
   },
   "outputs": [
    {
     "name": "stdout",
     "output_type": "stream",
     "text": [
      "Run, ReleaseDate, LoadDate, spots, bases, spots_with_mates, avgLength, size_MB, AssemblyName, download_path, Experiment, LibraryName, LibraryStrategy, LibrarySelection, LibrarySource, LibraryLayout, InsertSize, InsertDev, Platform, Model, SRAStudy, BioProject, Study_Pubmed_id, ProjectID, Sample, BioSample, SampleType, TaxID, ScientificName, SampleName, g1k_pop_code, source, g1k_analysis_group, Subject_ID, Sex, Disease, Tumor, Affection_Status, Analyte_Type, Histological_Type, Body_Site, CenterName, Submission, dbgap_study_accession, Consent, RunHash, ReadHash\n"
     ]
    }
   ],
   "source": [
    "print ', '.join(df.columns)"
   ]
  },
  {
   "cell_type": "code",
   "execution_count": 155,
   "metadata": {
    "collapsed": true
   },
   "outputs": [],
   "source": [
    "cols = ['Run', 'size_MB', 'BioProject', 'LibraryLayout', 'LibraryStrategy', 'Platform', 'Sex', \n",
    "    'Body_Site', 'Histological_Type', 'Tumor', 'Consent']"
   ]
  },
  {
   "cell_type": "code",
   "execution_count": 156,
   "metadata": {
    "collapsed": false
   },
   "outputs": [],
   "source": [
    "df = df[cols]"
   ]
  },
  {
   "cell_type": "code",
   "execution_count": 157,
   "metadata": {
    "collapsed": false
   },
   "outputs": [
    {
     "data": {
      "image/png": "[encoded data removed]",
      "text/plain": [
       "<matplotlib.figure.Figure at 0x148488750>"
      ]
     },
     "metadata": {},
     "output_type": "display_data"
    }
   ],
   "source": [
    "df['LibraryStrategy'].value_counts().plot(kind='bar');"
   ]
  },
  {
   "cell_type": "markdown",
   "metadata": {},
   "source": [
    "Subset for just RNA-Seq data"
   ]
  },
  {
   "cell_type": "code",
   "execution_count": 158,
   "metadata": {
    "collapsed": false
   },
   "outputs": [],
   "source": [
    "rnaseq = df[df['LibraryStrategy'] == 'RNA-Seq']"
   ]
  },
  {
   "cell_type": "code",
   "execution_count": 159,
   "metadata": {
    "collapsed": false
   },
   "outputs": [
    {
     "data": {
      "image/png": "[encoded data removed]",
      "text/plain": [
       "<matplotlib.figure.Figure at 0x149aa13d0>"
      ]
     },
     "metadata": {},
     "output_type": "display_data"
    }
   ],
   "source": [
    "rnaseq['Platform'].value_counts().plot(kind='bar');"
   ]
  },
  {
   "cell_type": "markdown",
   "metadata": {},
   "source": [
    "Subset for just Illumina data"
   ]
  },
  {
   "cell_type": "code",
   "execution_count": 160,
   "metadata": {
    "collapsed": true
   },
   "outputs": [],
   "source": [
    "rnaseq = rnaseq[rnaseq['Platform'] == 'ILLUMINA']"
   ]
  },
  {
   "cell_type": "markdown",
   "metadata": {},
   "source": [
    "Subset for public consent"
   ]
  },
  {
   "cell_type": "code",
   "execution_count": 161,
   "metadata": {
    "collapsed": false
   },
   "outputs": [],
   "source": [
    "rnaseq = rnaseq[rnaseq.Consent == 'public']"
   ]
  },
  {
   "cell_type": "markdown",
   "metadata": {},
   "source": [
    "## Stats"
   ]
  },
  {
   "cell_type": "code",
   "execution_count": 169,
   "metadata": {
    "collapsed": false
   },
   "outputs": [
    {
     "name": "stdout",
     "output_type": "stream",
     "text": [
      "Size of Dataset: 162.61 Terabytes\n"
     ]
    }
   ],
   "source": [
    "print 'Size of Dataset: {} Terabytes'.format(round(rnaseq['size_MB'].sum() * 1.0 / 1000 / 1000, 2))"
   ]
  },
  {
   "cell_type": "code",
   "execution_count": 170,
   "metadata": {
    "collapsed": false
   },
   "outputs": [
    {
     "name": "stdout",
     "output_type": "stream",
     "text": [
      "Unique number of studies: 3805\n"
     ]
    }
   ],
   "source": [
    "print 'Unique number of studies: ' + str(len(df['BioProject'].unique()))"
   ]
  },
  {
   "cell_type": "code",
   "execution_count": 171,
   "metadata": {
    "collapsed": false
   },
   "outputs": [
    {
     "name": "stdout",
     "output_type": "stream",
     "text": [
      "Number of samples: 112279\n"
     ]
    }
   ],
   "source": [
    "print 'Number of samples: ' + str(len(rnaseq))"
   ]
  },
  {
   "cell_type": "code",
   "execution_count": 172,
   "metadata": {
    "collapsed": false
   },
   "outputs": [
    {
     "name": "stdout",
     "output_type": "stream",
     "text": [
      "Number of single-end samples: 56305\n"
     ]
    }
   ],
   "source": [
    "print 'Number of single-end samples: ' + str(rnaseq.LibraryLayout.value_counts().SINGLE)"
   ]
  },
  {
   "cell_type": "code",
   "execution_count": 175,
   "metadata": {
    "collapsed": false
   },
   "outputs": [
    {
     "name": "stdout",
     "output_type": "stream",
     "text": [
      "Number of paired-end samples: 55974\n"
     ]
    }
   ],
   "source": [
    "print 'Number of paired-end samples: ' + str(rnaseq.LibraryLayout.value_counts().PAIRED)"
   ]
  },
  {
   "cell_type": "code",
   "execution_count": 180,
   "metadata": {
    "collapsed": false
   },
   "outputs": [
    {
     "name": "stdout",
     "output_type": "stream",
     "text": [
      "Average Sample size: 367.0MB\n"
     ]
    }
   ],
   "source": [
    "print 'Average Sample size: ' + str(rnaseq.size_MB.median()) + 'MB'"
   ]
  },
  {
   "cell_type": "code",
   "execution_count": 182,
   "metadata": {
    "collapsed": false
   },
   "outputs": [
    {
     "data": {
      "text/plain": [
       "0    1238\n",
       "Name: size_MB, dtype: int64"
      ]
     },
     "execution_count": 182,
     "metadata": {},
     "output_type": "execute_result"
    }
   ],
   "source": [
    "rnaseq[rnaseq['Run'] == 'SRR5119551'].size_MB"
   ]
  },
  {
   "cell_type": "markdown",
   "metadata": {},
   "source": [
    "Make Manifest for run"
   ]
  },
  {
   "cell_type": "code",
   "execution_count": 197,
   "metadata": {
    "collapsed": true
   },
   "outputs": [],
   "source": [
    "with open('SRA-RNAseq-Manifest.tsv', 'w') as f:\n",
    "    for i in xrange(len(rnaseq)):\n",
    "        line = rnaseq.iloc[i]\n",
    "        f.write('{}\\t{}\\t{}\\n'.format(line.Run, line.BioProject, line.LibraryLayout))"
   ]
  },
  {
   "cell_type": "code",
   "execution_count": 206,
   "metadata": {
    "collapsed": false
   },
   "outputs": [
    {
     "data": {
      "text/plain": [
       "112279"
      ]
     },
     "execution_count": 206,
     "metadata": {},
     "output_type": "execute_result"
    }
   ],
   "source": [
    "len(rnaseq)"
   ]
  }
 ],
 "metadata": {
  "kernelspec": {
   "display_name": "Python 2",
   "language": "python",
   "name": "python2"
  },
  "language_info": {
   "codemirror_mode": {
    "name": "ipython",
    "version": 2
   },
   "file_extension": ".py",
   "mimetype": "text/x-python",
   "name": "python",
   "nbconvert_exporter": "python",
   "pygments_lexer": "ipython2",
   "version": "2.7.11"
  }
 },
 "nbformat": 4,
 "nbformat_minor": 0
}
