{
 "cells": [
  {
   "cell_type": "code",
   "execution_count": 281,
   "metadata": {
    "collapsed": true
   },
   "outputs": [],
   "source": [
    "%matplotlib inline\n",
    "import matplotlib.pyplot as plt\n",
    "import seaborn as sns\n",
    "import pandas as pd\n",
    "import numpy as np\n",
    "\n",
    "from bokeh.charts import Scatter, BoxPlot, save, output_file, show\n",
    "from bokeh.embed import autoload_static\n",
    "from bokeh.resources import CDN\n",
    "from bokeh.palettes import Accent3\n",
    "from bokeh.io import output_notebook, output_file\n",
    "\n",
    "import os\n",
    "import pickle"
   ]
  },
  {
   "cell_type": "markdown",
   "metadata": {},
   "source": [
    "# Cell Surface Proteins\n",
    "\n",
    "Look for overexpressed cell surface proteins and compare to known drug targets\n",
    "\n",
    "- For each tissue group\n",
    "    - Split into two groups to compare\n",
    "        - Compute log2 FC for every gene between the two groups\n",
    "        - Plot barplots of all genes with positive L2FC\n",
    "        - ????\n",
    "        - Profit"
   ]
  },
  {
   "cell_type": "code",
   "execution_count": 282,
   "metadata": {
    "collapsed": true
   },
   "outputs": [],
   "source": [
    "df = pd.read_csv('/mnt/rna-seq-analysis/data/xena/deseq2_normalized_tcga_gtex_counts.tsv', sep='\\t', index_col=0)\n",
    "cspa = pd.read_csv('/mnt/rna-seq-analysis/metadata/CSPA_high_confidence.tsv', sep='\\t', index_col=0)"
   ]
  },
  {
   "cell_type": "code",
   "execution_count": 283,
   "metadata": {
    "scrolled": true
   },
   "outputs": [
    {
     "data": {
      "text/html": [
       "<div>\n",
       "<style>\n",
       "    .dataframe thead tr:only-child th {\n",
       "        text-align: right;\n",
       "    }\n",
       "\n",
       "    .dataframe thead th {\n",
       "        text-align: left;\n",
       "    }\n",
       "\n",
       "    .dataframe tbody tr th {\n",
       "        vertical-align: top;\n",
       "    }\n",
       "</style>\n",
       "<table border=\"1\" class=\"dataframe\">\n",
       "  <thead>\n",
       "    <tr style=\"text-align: right;\">\n",
       "      <th></th>\n",
       "      <th>TCGA-AD-5900-01</th>\n",
       "      <th>TCGA-BP-4968-01</th>\n",
       "      <th>TCGA-NG-A4VU-01</th>\n",
       "      <th>TCGA-CG-4305-01</th>\n",
       "      <th>TCGA-AO-A03M-01</th>\n",
       "      <th>TCGA-ZH-A8Y6-01</th>\n",
       "      <th>TCGA-HT-7686-01</th>\n",
       "      <th>TCGA-BR-6458-11</th>\n",
       "      <th>TCGA-29-1699-01</th>\n",
       "      <th>TCGA-KK-A6E1-01</th>\n",
       "      <th>...</th>\n",
       "      <th>GTEX-ZUA1-0226-SM-5NQ9Q</th>\n",
       "      <th>GTEX-Q734-0526-SM-2I3EH</th>\n",
       "      <th>GTEX-Y5V6-0526-SM-4VBRV</th>\n",
       "      <th>GTEX-1192X-3126-SM-5N9BY</th>\n",
       "      <th>GTEX-13X6H-0526-SM-5LU4Q</th>\n",
       "      <th>K-562-SM-3MJHH</th>\n",
       "      <th>GTEX-11GSO-2326-SM-5A5LX</th>\n",
       "      <th>GTEX-YJ8A-1126-SM-5IFJU</th>\n",
       "      <th>GTEX-RU1J-0226-SM-2TF5Y</th>\n",
       "      <th>GTEX-12BJ1-0426-SM-5FQSO</th>\n",
       "    </tr>\n",
       "  </thead>\n",
       "  <tbody>\n",
       "    <tr>\n",
       "      <th>ENSG00000116032.5</th>\n",
       "      <td>4.381288</td>\n",
       "      <td>1.511815</td>\n",
       "      <td>1.430657</td>\n",
       "      <td>0.986667</td>\n",
       "      <td>1.945771</td>\n",
       "      <td>0.903716</td>\n",
       "      <td>0.000000</td>\n",
       "      <td>0.000000</td>\n",
       "      <td>8.441424</td>\n",
       "      <td>3.926956</td>\n",
       "      <td>...</td>\n",
       "      <td>14.301939</td>\n",
       "      <td>77.979912</td>\n",
       "      <td>15.608325</td>\n",
       "      <td>8.313450</td>\n",
       "      <td>31.846108</td>\n",
       "      <td>15.292863</td>\n",
       "      <td>14.530338</td>\n",
       "      <td>17.417563</td>\n",
       "      <td>17.747865</td>\n",
       "      <td>17.676720</td>\n",
       "    </tr>\n",
       "    <tr>\n",
       "      <th>ENSG00000171174.13</th>\n",
       "      <td>87.625753</td>\n",
       "      <td>656.631497</td>\n",
       "      <td>133.766402</td>\n",
       "      <td>154.413440</td>\n",
       "      <td>128.420862</td>\n",
       "      <td>232.255080</td>\n",
       "      <td>128.729659</td>\n",
       "      <td>154.710834</td>\n",
       "      <td>341.643175</td>\n",
       "      <td>244.453014</td>\n",
       "      <td>...</td>\n",
       "      <td>150.170357</td>\n",
       "      <td>172.455574</td>\n",
       "      <td>272.625414</td>\n",
       "      <td>137.765738</td>\n",
       "      <td>130.569042</td>\n",
       "      <td>16.822149</td>\n",
       "      <td>61.350314</td>\n",
       "      <td>592.197153</td>\n",
       "      <td>133.108991</td>\n",
       "      <td>229.797358</td>\n",
       "    </tr>\n",
       "    <tr>\n",
       "      <th>ENSG00000149136.7</th>\n",
       "      <td>7932.321326</td>\n",
       "      <td>4682.089977</td>\n",
       "      <td>7258.436790</td>\n",
       "      <td>3999.949436</td>\n",
       "      <td>5836.533582</td>\n",
       "      <td>2959.670762</td>\n",
       "      <td>8468.201070</td>\n",
       "      <td>3971.274572</td>\n",
       "      <td>6338.336754</td>\n",
       "      <td>8266.242476</td>\n",
       "      <td>...</td>\n",
       "      <td>5958.545231</td>\n",
       "      <td>6014.950501</td>\n",
       "      <td>4380.736621</td>\n",
       "      <td>3552.218287</td>\n",
       "      <td>6362.852322</td>\n",
       "      <td>8834.176959</td>\n",
       "      <td>4249.316508</td>\n",
       "      <td>6886.904540</td>\n",
       "      <td>5096.595360</td>\n",
       "      <td>6787.860414</td>\n",
       "    </tr>\n",
       "    <tr>\n",
       "      <th>ENSG00000078237.5</th>\n",
       "      <td>196.062623</td>\n",
       "      <td>330.583471</td>\n",
       "      <td>273.255431</td>\n",
       "      <td>533.787036</td>\n",
       "      <td>200.025221</td>\n",
       "      <td>212.373322</td>\n",
       "      <td>576.032718</td>\n",
       "      <td>278.915306</td>\n",
       "      <td>336.719011</td>\n",
       "      <td>295.503442</td>\n",
       "      <td>...</td>\n",
       "      <td>294.977487</td>\n",
       "      <td>245.936645</td>\n",
       "      <td>339.220935</td>\n",
       "      <td>263.655119</td>\n",
       "      <td>128.976736</td>\n",
       "      <td>29.566201</td>\n",
       "      <td>416.536345</td>\n",
       "      <td>404.087469</td>\n",
       "      <td>221.848318</td>\n",
       "      <td>203.282278</td>\n",
       "    </tr>\n",
       "    <tr>\n",
       "      <th>ENSG00000146083.11</th>\n",
       "      <td>1343.412332</td>\n",
       "      <td>2331.722131</td>\n",
       "      <td>2469.313472</td>\n",
       "      <td>1886.014639</td>\n",
       "      <td>1978.459577</td>\n",
       "      <td>2124.185077</td>\n",
       "      <td>1780.760286</td>\n",
       "      <td>2426.345260</td>\n",
       "      <td>5307.076163</td>\n",
       "      <td>2677.202284</td>\n",
       "      <td>...</td>\n",
       "      <td>3019.496818</td>\n",
       "      <td>3705.545422</td>\n",
       "      <td>2409.925419</td>\n",
       "      <td>2769.566381</td>\n",
       "      <td>3585.871729</td>\n",
       "      <td>2052.811922</td>\n",
       "      <td>2504.061513</td>\n",
       "      <td>4756.736545</td>\n",
       "      <td>3531.825224</td>\n",
       "      <td>3517.667246</td>\n",
       "    </tr>\n",
       "  </tbody>\n",
       "</table>\n",
       "<p>5 rows × 18273 columns</p>\n",
       "</div>"
      ],
      "text/plain": [
       "                    TCGA-AD-5900-01  TCGA-BP-4968-01  TCGA-NG-A4VU-01  \\\n",
       "ENSG00000116032.5          4.381288         1.511815         1.430657   \n",
       "ENSG00000171174.13        87.625753       656.631497       133.766402   \n",
       "ENSG00000149136.7       7932.321326      4682.089977      7258.436790   \n",
       "ENSG00000078237.5        196.062623       330.583471       273.255431   \n",
       "ENSG00000146083.11      1343.412332      2331.722131      2469.313472   \n",
       "\n",
       "                    TCGA-CG-4305-01  TCGA-AO-A03M-01  TCGA-ZH-A8Y6-01  \\\n",
       "ENSG00000116032.5          0.986667         1.945771         0.903716   \n",
       "ENSG00000171174.13       154.413440       128.420862       232.255080   \n",
       "ENSG00000149136.7       3999.949436      5836.533582      2959.670762   \n",
       "ENSG00000078237.5        533.787036       200.025221       212.373322   \n",
       "ENSG00000146083.11      1886.014639      1978.459577      2124.185077   \n",
       "\n",
       "                    TCGA-HT-7686-01  TCGA-BR-6458-11  TCGA-29-1699-01  \\\n",
       "ENSG00000116032.5          0.000000         0.000000         8.441424   \n",
       "ENSG00000171174.13       128.729659       154.710834       341.643175   \n",
       "ENSG00000149136.7       8468.201070      3971.274572      6338.336754   \n",
       "ENSG00000078237.5        576.032718       278.915306       336.719011   \n",
       "ENSG00000146083.11      1780.760286      2426.345260      5307.076163   \n",
       "\n",
       "                    TCGA-KK-A6E1-01            ...             \\\n",
       "ENSG00000116032.5          3.926956            ...              \n",
       "ENSG00000171174.13       244.453014            ...              \n",
       "ENSG00000149136.7       8266.242476            ...              \n",
       "ENSG00000078237.5        295.503442            ...              \n",
       "ENSG00000146083.11      2677.202284            ...              \n",
       "\n",
       "                    GTEX-ZUA1-0226-SM-5NQ9Q  GTEX-Q734-0526-SM-2I3EH  \\\n",
       "ENSG00000116032.5                 14.301939                77.979912   \n",
       "ENSG00000171174.13               150.170357               172.455574   \n",
       "ENSG00000149136.7               5958.545231              6014.950501   \n",
       "ENSG00000078237.5                294.977487               245.936645   \n",
       "ENSG00000146083.11              3019.496818              3705.545422   \n",
       "\n",
       "                    GTEX-Y5V6-0526-SM-4VBRV  GTEX-1192X-3126-SM-5N9BY  \\\n",
       "ENSG00000116032.5                 15.608325                  8.313450   \n",
       "ENSG00000171174.13               272.625414                137.765738   \n",
       "ENSG00000149136.7               4380.736621               3552.218287   \n",
       "ENSG00000078237.5                339.220935                263.655119   \n",
       "ENSG00000146083.11              2409.925419               2769.566381   \n",
       "\n",
       "                    GTEX-13X6H-0526-SM-5LU4Q  K-562-SM-3MJHH  \\\n",
       "ENSG00000116032.5                  31.846108       15.292863   \n",
       "ENSG00000171174.13                130.569042       16.822149   \n",
       "ENSG00000149136.7                6362.852322     8834.176959   \n",
       "ENSG00000078237.5                 128.976736       29.566201   \n",
       "ENSG00000146083.11               3585.871729     2052.811922   \n",
       "\n",
       "                    GTEX-11GSO-2326-SM-5A5LX  GTEX-YJ8A-1126-SM-5IFJU  \\\n",
       "ENSG00000116032.5                  14.530338                17.417563   \n",
       "ENSG00000171174.13                 61.350314               592.197153   \n",
       "ENSG00000149136.7                4249.316508              6886.904540   \n",
       "ENSG00000078237.5                 416.536345               404.087469   \n",
       "ENSG00000146083.11               2504.061513              4756.736545   \n",
       "\n",
       "                    GTEX-RU1J-0226-SM-2TF5Y  GTEX-12BJ1-0426-SM-5FQSO  \n",
       "ENSG00000116032.5                 17.747865                 17.676720  \n",
       "ENSG00000171174.13               133.108991                229.797358  \n",
       "ENSG00000149136.7               5096.595360               6787.860414  \n",
       "ENSG00000078237.5                221.848318                203.282278  \n",
       "ENSG00000146083.11              3531.825224               3517.667246  \n",
       "\n",
       "[5 rows x 18273 columns]"
      ]
     },
     "execution_count": 283,
     "metadata": {},
     "output_type": "execute_result"
    }
   ],
   "source": [
    "df.head()"
   ]
  },
  {
   "cell_type": "code",
   "execution_count": 310,
   "metadata": {},
   "outputs": [
    {
     "data": {
      "text/html": [
       "<div>\n",
       "<style>\n",
       "    .dataframe thead tr:only-child th {\n",
       "        text-align: right;\n",
       "    }\n",
       "\n",
       "    .dataframe thead th {\n",
       "        text-align: left;\n",
       "    }\n",
       "\n",
       "    .dataframe tbody tr th {\n",
       "        vertical-align: top;\n",
       "    }\n",
       "</style>\n",
       "<table border=\"1\" class=\"dataframe\">\n",
       "  <thead>\n",
       "    <tr style=\"text-align: right;\">\n",
       "      <th></th>\n",
       "      <th>Symbol</th>\n",
       "      <th>Description</th>\n",
       "    </tr>\n",
       "  </thead>\n",
       "  <tbody>\n",
       "    <tr>\n",
       "      <th>ENSG00000139304</th>\n",
       "      <td>PTPRQ</td>\n",
       "      <td>protein tyrosine phosphatase, receptor type Q(...</td>\n",
       "    </tr>\n",
       "    <tr>\n",
       "      <th>ENSG00000084674</th>\n",
       "      <td>APOB</td>\n",
       "      <td>apolipoprotein B(APOB)</td>\n",
       "    </tr>\n",
       "    <tr>\n",
       "      <th>ENSG00000121594</th>\n",
       "      <td>CD80</td>\n",
       "      <td>CD80 molecule(CD80)</td>\n",
       "    </tr>\n",
       "    <tr>\n",
       "      <th>ENSG00000114013</th>\n",
       "      <td>CD86</td>\n",
       "      <td>CD86 molecule(CD86)</td>\n",
       "    </tr>\n",
       "    <tr>\n",
       "      <th>ENSG00000178562</th>\n",
       "      <td>CD28</td>\n",
       "      <td>CD28 molecule(CD28)</td>\n",
       "    </tr>\n",
       "  </tbody>\n",
       "</table>\n",
       "</div>"
      ],
      "text/plain": [
       "                Symbol                                        Description\n",
       "ENSG00000139304  PTPRQ  protein tyrosine phosphatase, receptor type Q(...\n",
       "ENSG00000084674   APOB                             apolipoprotein B(APOB)\n",
       "ENSG00000121594   CD80                                CD80 molecule(CD80)\n",
       "ENSG00000114013   CD86                                CD86 molecule(CD86)\n",
       "ENSG00000178562   CD28                                CD28 molecule(CD28)"
      ]
     },
     "execution_count": 310,
     "metadata": {},
     "output_type": "execute_result"
    }
   ],
   "source": [
    "cspa.head()"
   ]
  },
  {
   "cell_type": "markdown",
   "metadata": {},
   "source": [
    "### Subset for CSPA genes\n",
    "\n",
    "Map gene IDS to gene names"
   ]
  },
  {
   "cell_type": "code",
   "execution_count": 222,
   "metadata": {
    "collapsed": true
   },
   "outputs": [],
   "source": [
    "gene_map = pickle.load(open('/mnt/rna-seq-analysis/data/objects/gene_map.pickle', 'rb'))"
   ]
  },
  {
   "cell_type": "code",
   "execution_count": 223,
   "metadata": {
    "collapsed": true
   },
   "outputs": [],
   "source": [
    "genes = [gene_map[x] if x in gene_map else x for x in df.index]\n",
    "df.index = genes"
   ]
  },
  {
   "cell_type": "code",
   "execution_count": 224,
   "metadata": {
    "scrolled": false
   },
   "outputs": [
    {
     "data": {
      "text/plain": [
       "964"
      ]
     },
     "execution_count": 224,
     "metadata": {},
     "output_type": "execute_result"
    }
   ],
   "source": [
    "cspa_genes = [x for x in cspa.Symbol if x in df.index]\n",
    "len(cspa_genes)"
   ]
  },
  {
   "cell_type": "code",
   "execution_count": 311,
   "metadata": {},
   "outputs": [
    {
     "data": {
      "text/plain": [
       "False"
      ]
     },
     "execution_count": 311,
     "metadata": {},
     "output_type": "execute_result"
    }
   ],
   "source": [
    "'HER2' in cspa_genes"
   ]
  },
  {
   "cell_type": "code",
   "execution_count": 225,
   "metadata": {
    "scrolled": true
   },
   "outputs": [
    {
     "data": {
      "text/html": [
       "<div>\n",
       "<style>\n",
       "    .dataframe thead tr:only-child th {\n",
       "        text-align: right;\n",
       "    }\n",
       "\n",
       "    .dataframe thead th {\n",
       "        text-align: left;\n",
       "    }\n",
       "\n",
       "    .dataframe tbody tr th {\n",
       "        vertical-align: top;\n",
       "    }\n",
       "</style>\n",
       "<table border=\"1\" class=\"dataframe\">\n",
       "  <thead>\n",
       "    <tr style=\"text-align: right;\">\n",
       "      <th></th>\n",
       "      <th>GRIN3B</th>\n",
       "      <th>RBKS</th>\n",
       "      <th>SSRP1</th>\n",
       "      <th>TIGAR</th>\n",
       "      <th>RNF44</th>\n",
       "      <th>UQCC2</th>\n",
       "      <th>ADGRD2</th>\n",
       "      <th>C11orf84</th>\n",
       "      <th>SPAG6</th>\n",
       "      <th>RPL23A</th>\n",
       "      <th>...</th>\n",
       "      <th>CREB3L3</th>\n",
       "      <th>HEATR6</th>\n",
       "      <th>BATF3</th>\n",
       "      <th>GGNBP2</th>\n",
       "      <th>CHI3L2</th>\n",
       "      <th>HMBOX1</th>\n",
       "      <th>IFNK</th>\n",
       "      <th>PPP6R1</th>\n",
       "      <th>C19orf48</th>\n",
       "      <th>OR8D4</th>\n",
       "    </tr>\n",
       "  </thead>\n",
       "  <tbody>\n",
       "    <tr>\n",
       "      <th>TCGA-AD-5900-01</th>\n",
       "      <td>4.381288</td>\n",
       "      <td>87.625753</td>\n",
       "      <td>7932.321326</td>\n",
       "      <td>196.062623</td>\n",
       "      <td>1343.412332</td>\n",
       "      <td>712.506907</td>\n",
       "      <td>0.0</td>\n",
       "      <td>337.359151</td>\n",
       "      <td>0.0</td>\n",
       "      <td>17819.792274</td>\n",
       "      <td>...</td>\n",
       "      <td>2.738305</td>\n",
       "      <td>236.589534</td>\n",
       "      <td>36.693284</td>\n",
       "      <td>1129.824558</td>\n",
       "      <td>69.005281</td>\n",
       "      <td>145.130154</td>\n",
       "      <td>0.0</td>\n",
       "      <td>2655.607989</td>\n",
       "      <td>2991.324156</td>\n",
       "      <td>0.0</td>\n",
       "    </tr>\n",
       "  </tbody>\n",
       "</table>\n",
       "<p>1 rows × 19797 columns</p>\n",
       "</div>"
      ],
      "text/plain": [
       "                   GRIN3B       RBKS        SSRP1       TIGAR        RNF44  \\\n",
       "TCGA-AD-5900-01  4.381288  87.625753  7932.321326  196.062623  1343.412332   \n",
       "\n",
       "                      UQCC2  ADGRD2    C11orf84  SPAG6        RPL23A  ...    \\\n",
       "TCGA-AD-5900-01  712.506907     0.0  337.359151    0.0  17819.792274  ...     \n",
       "\n",
       "                  CREB3L3      HEATR6      BATF3       GGNBP2     CHI3L2  \\\n",
       "TCGA-AD-5900-01  2.738305  236.589534  36.693284  1129.824558  69.005281   \n",
       "\n",
       "                     HMBOX1  IFNK       PPP6R1     C19orf48  OR8D4  \n",
       "TCGA-AD-5900-01  145.130154   0.0  2655.607989  2991.324156    0.0  \n",
       "\n",
       "[1 rows x 19797 columns]"
      ]
     },
     "execution_count": 225,
     "metadata": {},
     "output_type": "execute_result"
    }
   ],
   "source": [
    "df = df.T  # Transpose to features by samples\n",
    "df.head(1)"
   ]
  },
  {
   "cell_type": "code",
   "execution_count": 38,
   "metadata": {
    "collapsed": true
   },
   "outputs": [],
   "source": [
    "df_cspa = df[cspa_genes]"
   ]
  },
  {
   "cell_type": "code",
   "execution_count": 231,
   "metadata": {
    "collapsed": true
   },
   "outputs": [],
   "source": [
    "def get_tissues():\n",
    "    pair_file = '/home/ubuntu/rnaseq-recompute-analysis/preprocessing/candidate_tissues.csv'\n",
    "    tissues = []\n",
    "    with open(pair_file, 'r') as f:\n",
    "        for line in f:\n",
    "            line = line.strip().split(',') if ',' in line else [line.strip()]\n",
    "            tissues.append(line)\n",
    "    return tissues\n",
    "\n",
    "def flatten(x):\n",
    "    \"\"\"\n",
    "    Flattens a nested array into a single list\n",
    "\n",
    "    :param list x: The nested list/tuple to be flattened.\n",
    "    \"\"\"\n",
    "    result = []\n",
    "    for el in x:\n",
    "        if hasattr(el, \"__iter__\") and not isinstance(el, basestring):\n",
    "            result.extend(flatten(el))\n",
    "        else:\n",
    "            result.append(el)\n",
    "    return result"
   ]
  },
  {
   "cell_type": "code",
   "execution_count": 232,
   "metadata": {
    "collapsed": true
   },
   "outputs": [],
   "source": [
    "tissues = get_tissues()"
   ]
  },
  {
   "cell_type": "code",
   "execution_count": 233,
   "metadata": {
    "collapsed": true
   },
   "outputs": [],
   "source": [
    "metadata = pd.read_csv('/mnt/rna-seq-analysis/metadata/tcga_gtex_metadata_intersect.tsv', index_col=0, sep='\\t')"
   ]
  },
  {
   "cell_type": "code",
   "execution_count": 240,
   "metadata": {
    "collapsed": true
   },
   "outputs": [],
   "source": [
    "def get_l2fc(a, b):\n",
    "    return np.log2(b + 1) - np.log2(a + 1)"
   ]
  },
  {
   "cell_type": "code",
   "execution_count": 248,
   "metadata": {
    "collapsed": true
   },
   "outputs": [],
   "source": [
    "def make_plots(sub, subdir, d1, d2, n1, n2, name):\n",
    "    mean = sub.mean(axis=0)\n",
    "    # print '\\n{}:\\t{}\\n{}:\\t{}'.format(n1, len(d1), n2, len(d2))\n",
    "    d1_medians = sub.loc[d1].median(axis=0)\n",
    "    d2_medians = sub.loc[d2].median(axis=0)\n",
    "    l2fc = get_l2fc(d1_medians, d2_medians)\n",
    "    plot = pd.DataFrame()\n",
    "    plot['mean'] = np.log2(mean + 1)\n",
    "    plot['l2fc'] = l2fc\n",
    "    plot['gene'] = sub.columns\n",
    "    plot.index = sub.columns\n",
    "    bot25_genes = list(plot.sort_values('l2fc').index)[:25]\n",
    "    \n",
    "    colorby = []\n",
    "    for i, gene in enumerate(sub.columns):\n",
    "        if gene in cspa_genes:\n",
    "            colorby.append('CSPA')\n",
    "        elif np.abs(l2fc[i]) > 2:\n",
    "            colorby.append('sig')\n",
    "        else:\n",
    "            colorby.append('unsig')\n",
    "    \n",
    "    plot['colorby'] = colorby\n",
    "\n",
    "    tooltips = [\n",
    "        ('Gene', '@gene'),\n",
    "        ('Mean', '@mean'),\n",
    "        ('L2FC', '@l2fc')]\n",
    "    p = Scatter(plot, x='mean', y='l2fc', title=name,\n",
    "               xlabel='Log2(Mean)', ylabel='Log2(FC)', \n",
    "               color='colorby', \n",
    "               tooltips=tooltips,\n",
    "               legend=True,\n",
    "               palette=Accent3, \n",
    "               responsive=True)\n",
    "    p.title.align = 'center'\n",
    "    output_file = os.path.join(subdir, 'MA', name + '.html')\n",
    "    save(p, output_file)\n",
    "    \n",
    "    # Boxplots of top overexpressed (B respect to A)\n",
    "    top_genes = list(plot.sort_values('l2fc', ascending=False).index)\n",
    "    top_genes = [x for x in top_genes if x in cspa_genes][:25]\n",
    "    top1 = sub.loc[d1][top_genes]\n",
    "    top2 = sub.loc[d2][top_genes]\n",
    "\n",
    "    plot = pd.DataFrame()\n",
    "    plot['Log2(Counts)'] = map(lambda x: np.log2(float(x) + 1), \n",
    "                         flatten([top1.loc[x] for x in top1.index] + [top2.loc[x] for x in top2.index]))\n",
    "    plot['gene'] = list(top1.columns) * len(top1.index) + list(top2.columns) * len(top2.index)\n",
    "    plot['dataset'] = [n1 for _ in xrange(top1.shape[0] * top1.shape[1])] + \\\n",
    "                      [n2 for _ in xrange(top2.shape[0] * top2.shape[1])]\n",
    "\n",
    "    tooltips = [('# Samples', '@height')]\n",
    "    b = BoxPlot(plot, label='gene', values='Log2(Counts)', group='dataset',\n",
    "               tooltips=tooltips,\n",
    "               responsive=True,\n",
    "               title=name,\n",
    "               color='dataset',)\n",
    "    b.title.align = 'center'\n",
    "    output_file = os.path.join(subdir, 'Box', name + '.html')\n",
    "    save(b, output_file)"
   ]
  },
  {
   "cell_type": "code",
   "execution_count": 247,
   "metadata": {
    "scrolled": false
   },
   "outputs": [
    {
     "name": "stdout",
     "output_type": "stream",
     "text": [
      "Tissue: Adrenal\tSamples: 387\tGenes: 19797\n",
      "Tissue: Bladder\tSamples: 435\tGenes: 19797\n",
      "Tissue: Brain\tSamples: 1836\tGenes: 19797\n",
      "Tissue: Breast\tSamples: 1387\tGenes: 19797\n",
      "Tissue: Cervix\tSamples: 318\tGenes: 19797\n",
      "Tissue: Colon-Small_intestine\tSamples: 828\tGenes: 19797\n",
      "Tissue: Esophagus\tSamples: 845\tGenes: 19797\n",
      "Tissue: Kidney\tSamples: 1040\tGenes: 19797\n",
      "Tissue: Liver\tSamples: 531\tGenes: 19797\n",
      "Tissue: Lung\tSamples: 1409\tGenes: 19797\n",
      "Tissue: Ovary\tSamples: 515\tGenes: 19797\n",
      "Tissue: Pancreas\tSamples: 348\tGenes: 19797\n",
      "Tissue: Prostate\tSamples: 646\tGenes: 19797\n",
      "Tissue: Skin-Head\tSamples: 1572\tGenes: 19797\n",
      "Tissue: Stomach\tSamples: 622\tGenes: 19797\n",
      "Tissue: Testis\tSamples: 319\tGenes: 19797\n",
      "Tissue: Thyroid\tSamples: 849\tGenes: 19797\n",
      "Tissue: Uterus\tSamples: 339\tGenes: 19797\n"
     ]
    }
   ],
   "source": [
    "dirs = ['G_T', 'N_T', 'G+N_T', 'G_N', 'G_T+N']\n",
    "for d in dirs:\n",
    "    if not os.path.isdir(d):\n",
    "        os.mkdir(d)\n",
    "        os.mkdir(os.path.join(d, 'MA'))\n",
    "        os.mkdir(os.path.join(d, 'Box'))\n",
    "\n",
    "for tissue in tissues:\n",
    "    name = '-'.join(tissue)\n",
    "    samples = flatten([list(set(metadata[metadata.tissue == x].index) for x in tissue)])\n",
    "    samples = [x for x in samples if x in df_cspa.index]\n",
    "    # sub = df_cspa.loc[samples]\n",
    "    sub = df.loc[samples]\n",
    "    print 'Tissue: {}\\tSamples: {}\\tGenes: {}'.format(name, sub.shape[0], sub.shape[1])\n",
    "    g = list(set([x for x in samples if not x.startswith('TCGA')]))\n",
    "    t = list(set([x for x in samples if x.startswith('TCGA') and x.endswith('01')]))\n",
    "    n = list(set([x for x in samples if x.startswith('TCGA') and x.endswith('11')]))\n",
    "    if g and t:\n",
    "        make_plots(sub, 'G_T', g, t, 'GTEx', 'Tumor', name)\n",
    "    if n and t:\n",
    "        make_plots(sub, 'N_T', n, t, 'Normal', 'Tumor', name)\n",
    "    if g and n and t:\n",
    "        make_plots(sub, 'G+N_T', g+n, t, 'GTEx+Normal', 'Tumor', name)\n",
    "        make_plots(sub, 'G_T+N', g, t+n, 'GTEx', 'Tumor+Normal', name)\n",
    "    if g and n:\n",
    "        make_plots(sub, 'G_N', g, n, 'GTEx', 'Normal', name)"
   ]
  },
  {
   "cell_type": "markdown",
   "metadata": {},
   "source": [
    "Across Datasets"
   ]
  },
  {
   "cell_type": "code",
   "execution_count": 216,
   "metadata": {},
   "outputs": [
    {
     "name": "stdout",
     "output_type": "stream",
     "text": [
      "Samples: 14226\tGenes: 968\n"
     ]
    }
   ],
   "source": [
    "samples = []\n",
    "for tissue in tissues:\n",
    "    name = '-'.join(tissue)\n",
    "    temp = flatten([list(set(metadata[metadata.tissue == x].index) for x in tissue)])\n",
    "    samples.extend([x for x in temp if x in df_cspa.index])\n",
    "sub = df_cspa.loc[samples]\n",
    "print 'Samples: {}\\tGenes: {}'.format(sub.shape[0], sub.shape[1])\n",
    "g = list(set([x for x in samples if not x.startswith('TCGA')]))\n",
    "t = list(set([x for x in samples if x.startswith('TCGA') and x.endswith('01')]))\n",
    "n = list(set([x for x in samples if x.startswith('TCGA') and x.endswith('11')]))"
   ]
  },
  {
   "cell_type": "code",
   "execution_count": 217,
   "metadata": {
    "scrolled": true
   },
   "outputs": [
    {
     "name": "stderr",
     "output_type": "stream",
     "text": [
      "/home/ubuntu/anaconda2/lib/python2.7/site-packages/ipykernel_launcher.py:2: RuntimeWarning: invalid value encountered in log2\n",
      "  \n"
     ]
    }
   ],
   "source": [
    "make_plots(sub, 'G_T', g, t, 'GTEx', 'Tumor', 'All')\n",
    "make_plots(sub, 'N_T', n, t, 'Normal', 'Tumor', 'All')\n",
    "make_plots(sub, 'G+N_T', g+n, t, 'GTEx+Normal', 'Tumor', 'All')\n",
    "make_plots(sub, 'G_T+N', g, t+n, 'GTEx', 'Tumor+Normal', 'All')\n",
    "make_plots(sub, 'G_N', g, n, 'GTEx', 'Normal', 'All')"
   ]
  },
  {
   "cell_type": "markdown",
   "metadata": {},
   "source": [
    "# Generate Negative Control MA Plots\n"
   ]
  }
 ],
 "metadata": {
  "kernelspec": {
   "display_name": "Python 2",
   "language": "python",
   "name": "python2"
  },
  "language_info": {
   "codemirror_mode": {
    "name": "ipython",
    "version": 2
   },
   "file_extension": ".py",
   "mimetype": "text/x-python",
   "name": "python",
   "nbconvert_exporter": "python",
   "pygments_lexer": "ipython2",
   "version": "2.7.13"
  }
 },
 "nbformat": 4,
 "nbformat_minor": 2
}
