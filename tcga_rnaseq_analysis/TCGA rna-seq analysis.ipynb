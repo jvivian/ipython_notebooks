{
 "cells": [
  {
   "cell_type": "markdown",
   "metadata": {},
   "source": [
    "# A Look at the TCGA RNA-seq Dataset"
   ]
  },
  {
   "cell_type": "code",
   "execution_count": 4,
   "metadata": {
    "collapsed": false
   },
   "outputs": [],
   "source": [
    "%matplotlib inline\n",
    "import pandas as pd\n",
    "import numpy as np\n",
    "import matplotlib.pyplot as plt\n",
    "import seaborn as sns\n",
    "import random\n",
    "from __future__ import print_function\n",
    "\n",
    "from IPython.display import display\n",
    "from IPython.display import clear_output"
   ]
  },
  {
   "cell_type": "code",
   "execution_count": 5,
   "metadata": {
    "collapsed": false
   },
   "outputs": [
    {
     "data": {
      "text/html": [
       "<style>body {\n",
       "    margin: 0;\n",
       "    font-family: Helvetica;\n",
       "}\n",
       "table.dataframe {\n",
       "    border-collapse: collapse;\n",
       "    border: none;\n",
       "}\n",
       "table.dataframe tr {\n",
       "    border: none;\n",
       "}\n",
       "table.dataframe td, table.dataframe th {\n",
       "    margin: 0;\n",
       "    border: 1px solid white;\n",
       "    padding-left: 0.25em;\n",
       "    padding-right: 0.25em;\n",
       "}\n",
       "table.dataframe th:not(:empty) {\n",
       "    background-color: #fec;\n",
       "    text-align: left;\n",
       "    font-weight: normal;\n",
       "}\n",
       "table.dataframe tr:nth-child(2) th:empty {\n",
       "    border-left: none;\n",
       "    border-right: 1px dashed #888;\n",
       "}\n",
       "table.dataframe td {\n",
       "    border: 2px solid #ccf;\n",
       "    background-color: #f4f4ff;\n",
       "}\n",
       "h3 {\n",
       "    color: white;\n",
       "    background-color: black;\n",
       "    padding: 0.5em;\n",
       "}\n",
       "</style>"
      ],
      "text/plain": [
       "<IPython.core.display.HTML object>"
      ]
     },
     "execution_count": 5,
     "metadata": {},
     "output_type": "execute_result"
    }
   ],
   "source": [
    "from IPython.core.display import HTML\n",
    "css = open('style-table.css').read() + open('style-notebook.css').read()\n",
    "HTML('<style>{}</style>'.format(css))"
   ]
  },
  {
   "cell_type": "code",
   "execution_count": 4,
   "metadata": {
    "collapsed": false
   },
   "outputs": [],
   "source": [
    "df = pd.read_table('unaligned.tsv', sep='\\t')"
   ]
  },
  {
   "cell_type": "code",
   "execution_count": 5,
   "metadata": {
    "collapsed": false
   },
   "outputs": [],
   "source": [
    "df = df[['barcode', 'analysis_id', 'disease_name', 'center', 'files_size']]\n",
    "df['files_size'] = df['files_size'] / 1024.0 / 1024 / 1024\n",
    "df.rename(columns = {'files_size':'size_GB'}, inplace=True)"
   ]
  },
  {
   "cell_type": "code",
   "execution_count": 6,
   "metadata": {
    "collapsed": false,
    "scrolled": true
   },
   "outputs": [
    {
     "data": {
      "text/html": [
       "<div>\n",
       "<table border=\"1\" class=\"dataframe\">\n",
       "  <thead>\n",
       "    <tr style=\"text-align: right;\">\n",
       "      <th></th>\n",
       "      <th>barcode</th>\n",
       "      <th>analysis_id</th>\n",
       "      <th>disease_name</th>\n",
       "      <th>center</th>\n",
       "      <th>size_GB</th>\n",
       "    </tr>\n",
       "  </thead>\n",
       "  <tbody>\n",
       "    <tr>\n",
       "      <th>0</th>\n",
       "      <td>TCGA-DQ-5630-01A-01R-1873-07</td>\n",
       "      <td>5557a728-1827-4aff-b28b-f004d835f9d6</td>\n",
       "      <td>Head and Neck squamous cell carcinoma</td>\n",
       "      <td>UNC-LCCC</td>\n",
       "      <td>5.353189</td>\n",
       "    </tr>\n",
       "    <tr>\n",
       "      <th>1</th>\n",
       "      <td>TCGA-KK-A7B0-01A-11R-A32O-07</td>\n",
       "      <td>2826301c-5d33-465a-99fa-401aea553a7f</td>\n",
       "      <td>Prostate adenocarcinoma</td>\n",
       "      <td>UNC-LCCC</td>\n",
       "      <td>5.292468</td>\n",
       "    </tr>\n",
       "    <tr>\n",
       "      <th>2</th>\n",
       "      <td>TCGA-DD-A3A3-11A-11R-A22L-07</td>\n",
       "      <td>bb9ecd73-ded7-4c4e-9674-d05647be7a22</td>\n",
       "      <td>Liver hepatocellular carcinoma</td>\n",
       "      <td>UNC-LCCC</td>\n",
       "      <td>4.354037</td>\n",
       "    </tr>\n",
       "    <tr>\n",
       "      <th>3</th>\n",
       "      <td>TCGA-VV-A829-01A-21R-A36H-07</td>\n",
       "      <td>f23c04eb-6f22-4b19-a6e3-90e7887f535e</td>\n",
       "      <td>Brain Lower Grade Glioma</td>\n",
       "      <td>UNC-LCCC</td>\n",
       "      <td>5.456621</td>\n",
       "    </tr>\n",
       "    <tr>\n",
       "      <th>4</th>\n",
       "      <td>TCGA-56-7222-01A-11R-2045-07</td>\n",
       "      <td>8aef55bf-eeca-40ac-9025-fff4fbcf1c24</td>\n",
       "      <td>Lung squamous cell carcinoma</td>\n",
       "      <td>UNC-LCCC</td>\n",
       "      <td>6.211421</td>\n",
       "    </tr>\n",
       "  </tbody>\n",
       "</table>\n",
       "</div>"
      ],
      "text/plain": [
       "                        barcode                           analysis_id  \\\n",
       "0  TCGA-DQ-5630-01A-01R-1873-07  5557a728-1827-4aff-b28b-f004d835f9d6   \n",
       "1  TCGA-KK-A7B0-01A-11R-A32O-07  2826301c-5d33-465a-99fa-401aea553a7f   \n",
       "2  TCGA-DD-A3A3-11A-11R-A22L-07  bb9ecd73-ded7-4c4e-9674-d05647be7a22   \n",
       "3  TCGA-VV-A829-01A-21R-A36H-07  f23c04eb-6f22-4b19-a6e3-90e7887f535e   \n",
       "4  TCGA-56-7222-01A-11R-2045-07  8aef55bf-eeca-40ac-9025-fff4fbcf1c24   \n",
       "\n",
       "                            disease_name    center   size_GB  \n",
       "0  Head and Neck squamous cell carcinoma  UNC-LCCC  5.353189  \n",
       "1                Prostate adenocarcinoma  UNC-LCCC  5.292468  \n",
       "2         Liver hepatocellular carcinoma  UNC-LCCC  4.354037  \n",
       "3               Brain Lower Grade Glioma  UNC-LCCC  5.456621  \n",
       "4           Lung squamous cell carcinoma  UNC-LCCC  6.211421  "
      ]
     },
     "execution_count": 6,
     "metadata": {},
     "output_type": "execute_result"
    }
   ],
   "source": [
    "df.head()"
   ]
  },
  {
   "cell_type": "code",
   "execution_count": 112,
   "metadata": {
    "collapsed": false
   },
   "outputs": [
    {
     "name": "stdout",
     "output_type": "stream",
     "text": [
      "Number of samples: 11194\n",
      "Min: 0.27GB\n",
      "Max: 27.69GB\n",
      "Avg: 6.18GB\n",
      "Total: 69228.23GB or 67.61TB\n"
     ]
    }
   ],
   "source": [
    "print('Number of samples: %i' % len(df))\n",
    "print('Min: %.2fGB' % min(df['size_GB']))\n",
    "print('Max: %.2fGB' % max(df['size_GB']))\n",
    "print('Avg: %.2fGB' % np.mean(df['size_GB']))\n",
    "print('Total: %.2fGB or %.2fTB' % (sum(df['size_GB']), sum(df['size_GB'] / 1024)))"
   ]
  },
  {
   "cell_type": "markdown",
   "metadata": {},
   "source": [
    "<h5 align=\"center\">Boxplot Reminder</h5> \n",
    "\n",
    "<img src=\"boxplot.png\", style=\"width: 500px\">"
   ]
  },
  {
   "cell_type": "code",
   "execution_count": 72,
   "metadata": {
    "collapsed": false
   },
   "outputs": [
    {
     "data": {
      "text/plain": [
       "(0, 20)"
      ]
     },
     "execution_count": 72,
     "metadata": {},
     "output_type": "execute_result"
    },
    {
     "data": {
      "image/png": "[encoded data removed]",
      "text/plain": [
       "<matplotlib.figure.Figure at 0x10a6b03d0>"
      ]
     },
     "metadata": {},
     "output_type": "display_data"
    }
   ],
   "source": [
    "f, (ax1, ax2) = plt.subplots(2)\n",
    "sns.boxplot(df['size_GB'], ax=ax1)\n",
    "sns.kdeplot(df['size_GB'], ax=ax2, shade=True)\n",
    "plt.xlim([0,20])"
   ]
  },
  {
   "cell_type": "markdown",
   "metadata": {},
   "source": [
    "Click the button below to see a random sample of file sizes from the unaligned TCGA cohort"
   ]
  },
  {
   "cell_type": "markdown",
   "metadata": {},
   "source": [
    "Now that I've wasted 10 minutes making that button, let's ensure that none of our unique samples (identified via barcode) have more than one analysis id."
   ]
  },
  {
   "cell_type": "code",
   "execution_count": 6,
   "metadata": {
    "collapsed": false
   },
   "outputs": [],
   "source": [
    "df = pd.read_table('TARGET.tsv', sep='\\t')"
   ]
  },
  {
   "cell_type": "code",
   "execution_count": 7,
   "metadata": {
    "collapsed": false
   },
   "outputs": [],
   "source": [
    "df = df[['barcode', 'analysis_id', 'disease_name', 'center', 'files_size']]\n",
    "df['files_size'] = df['files_size'] / 1024.0 / 1024 / 1024\n",
    "df.rename(columns = {'files_size':'size_GB'}, inplace=True)"
   ]
  },
  {
   "cell_type": "code",
   "execution_count": 8,
   "metadata": {
    "collapsed": false
   },
   "outputs": [
    {
     "data": {
      "text/html": [
       "<div>\n",
       "<table border=\"1\" class=\"dataframe\">\n",
       "  <thead>\n",
       "    <tr style=\"text-align: right;\">\n",
       "      <th></th>\n",
       "      <th>barcode</th>\n",
       "      <th>analysis_id</th>\n",
       "      <th>disease_name</th>\n",
       "      <th>center</th>\n",
       "      <th>size_GB</th>\n",
       "    </tr>\n",
       "  </thead>\n",
       "  <tbody>\n",
       "    <tr>\n",
       "      <th>0</th>\n",
       "      <td>TARGET-50-PAJNZK-01A-01R</td>\n",
       "      <td>093568f4-7f51-4289-895f-965f91c8c4d1</td>\n",
       "      <td>Wilms Tumor</td>\n",
       "      <td>BCCAGSC</td>\n",
       "      <td>11.099463</td>\n",
       "    </tr>\n",
       "    <tr>\n",
       "      <th>1</th>\n",
       "      <td>TARGET-10-PANRDC-03A-01R</td>\n",
       "      <td>5ebf7ad7-aa54-4752-ad5b-1b7baeb792ac</td>\n",
       "      <td>Acute Lymphoblastic Leukemia</td>\n",
       "      <td>BCCAGSC</td>\n",
       "      <td>20.069399</td>\n",
       "    </tr>\n",
       "    <tr>\n",
       "      <th>2</th>\n",
       "      <td>TARGET-10-PANJWJ-09A-01R</td>\n",
       "      <td>96197e88-0780-47b0-87cf-2533fdeba4cd</td>\n",
       "      <td>Acute Lymphoblastic Leukemia</td>\n",
       "      <td>BCCAGSC</td>\n",
       "      <td>11.790533</td>\n",
       "    </tr>\n",
       "    <tr>\n",
       "      <th>3</th>\n",
       "      <td>TARGET-50-PAJLSP-01A-01R</td>\n",
       "      <td>7b593942-e280-48fe-9bc1-862d12e07830</td>\n",
       "      <td>Wilms Tumor</td>\n",
       "      <td>BCCAGSC</td>\n",
       "      <td>10.092211</td>\n",
       "    </tr>\n",
       "    <tr>\n",
       "      <th>4</th>\n",
       "      <td>TARGET-10-PAPBSY-09A-01R</td>\n",
       "      <td>06ba4196-6b1a-473a-b363-69f109c9fe5d</td>\n",
       "      <td>Acute Lymphoblastic Leukemia</td>\n",
       "      <td>BCCAGSC</td>\n",
       "      <td>11.057110</td>\n",
       "    </tr>\n",
       "  </tbody>\n",
       "</table>\n",
       "</div>"
      ],
      "text/plain": [
       "                    barcode                           analysis_id  \\\n",
       "0  TARGET-50-PAJNZK-01A-01R  093568f4-7f51-4289-895f-965f91c8c4d1   \n",
       "1  TARGET-10-PANRDC-03A-01R  5ebf7ad7-aa54-4752-ad5b-1b7baeb792ac   \n",
       "2  TARGET-10-PANJWJ-09A-01R  96197e88-0780-47b0-87cf-2533fdeba4cd   \n",
       "3  TARGET-50-PAJLSP-01A-01R  7b593942-e280-48fe-9bc1-862d12e07830   \n",
       "4  TARGET-10-PAPBSY-09A-01R  06ba4196-6b1a-473a-b363-69f109c9fe5d   \n",
       "\n",
       "                   disease_name   center    size_GB  \n",
       "0                   Wilms Tumor  BCCAGSC  11.099463  \n",
       "1  Acute Lymphoblastic Leukemia  BCCAGSC  20.069399  \n",
       "2  Acute Lymphoblastic Leukemia  BCCAGSC  11.790533  \n",
       "3                   Wilms Tumor  BCCAGSC  10.092211  \n",
       "4  Acute Lymphoblastic Leukemia  BCCAGSC  11.057110  "
      ]
     },
     "execution_count": 8,
     "metadata": {},
     "output_type": "execute_result"
    }
   ],
   "source": [
    "df.head()"
   ]
  },
  {
   "cell_type": "code",
   "execution_count": 9,
   "metadata": {
    "collapsed": true
   },
   "outputs": [],
   "source": [
    "with open('TARGET_IDs.txt', 'w') as f:\n",
    "    for id in df.analysis_id:\n",
    "        f.write(id + '\\n')"
   ]
  },
  {
   "cell_type": "code",
   "execution_count": 10,
   "metadata": {
    "collapsed": false
   },
   "outputs": [
    {
     "data": {
      "text/plain": [
       "9606.2495613098145"
      ]
     },
     "execution_count": 10,
     "metadata": {},
     "output_type": "execute_result"
    }
   ],
   "source": [
    "sum(df.size_GB)"
   ]
  },
  {
   "cell_type": "code",
   "execution_count": 12,
   "metadata": {
    "collapsed": false
   },
   "outputs": [
    {
     "data": {
      "text/plain": [
       "(0, 20)"
      ]
     },
     "execution_count": 12,
     "metadata": {},
     "output_type": "execute_result"
    },
    {
     "data": {
      "image/png": "[encoded data removed]",
      "text/plain": [
       "<matplotlib.figure.Figure at 0x109509f90>"
      ]
     },
     "metadata": {},
     "output_type": "display_data"
    }
   ],
   "source": [
    "f, (ax1, ax2) = plt.subplots(2)\n",
    "sns.boxplot(df['size_GB'], ax=ax1, color='r')\n",
    "sns.kdeplot(df['size_GB'], ax=ax2, shade=True, color='r')\n",
    "plt.xlim([0,20])"
   ]
  },
  {
   "cell_type": "code",
   "execution_count": null,
   "metadata": {
    "collapsed": true
   },
   "outputs": [],
   "source": []
  }
 ],
 "metadata": {
  "kernelspec": {
   "display_name": "Python 2",
   "language": "python",
   "name": "python2"
  },
  "language_info": {
   "codemirror_mode": {
    "name": "ipython",
    "version": 2
   },
   "file_extension": ".py",
   "mimetype": "text/x-python",
   "name": "python",
   "nbconvert_exporter": "python",
   "pygments_lexer": "ipython2",
   "version": "2.7.10"
  }
 },
 "nbformat": 4,
 "nbformat_minor": 0
}
