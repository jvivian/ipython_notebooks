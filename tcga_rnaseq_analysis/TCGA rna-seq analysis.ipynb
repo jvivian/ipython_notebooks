{
 "cells": [
  {
   "cell_type": "markdown",
   "metadata": {},
   "source": [
    "# A Look at the TCGA RNA-seq Dataset"
   ]
  },
  {
   "cell_type": "code",
   "execution_count": 100,
   "metadata": {
    "collapsed": true
   },
   "outputs": [],
   "source": [
    "%matplotlib inline\n",
    "import pandas as pd\n",
    "import numpy as np\n",
    "import matplotlib.pyplot as plt\n",
    "import seaborn as sns\n",
    "import random\n",
    "from __future__ import print_function\n",
    "\n",
    "from IPython.html import widgets\n",
    "from IPython.display import display\n",
    "from IPython.display import clear_output"
   ]
  },
  {
   "cell_type": "code",
   "execution_count": 104,
   "metadata": {
    "collapsed": false
   },
   "outputs": [
    {
     "data": {
      "text/html": [
       "<style>body {\n",
       "    margin: 0;\n",
       "    font-family: Helvetica;\n",
       "}\n",
       "table.dataframe {\n",
       "    border-collapse: collapse;\n",
       "    border: none;\n",
       "}\n",
       "table.dataframe tr {\n",
       "    border: none;\n",
       "}\n",
       "table.dataframe td, table.dataframe th {\n",
       "    margin: 0;\n",
       "    border: 1px solid white;\n",
       "    padding-left: 0.25em;\n",
       "    padding-right: 0.25em;\n",
       "}\n",
       "table.dataframe th:not(:empty) {\n",
       "    background-color: #fec;\n",
       "    text-align: left;\n",
       "    font-weight: normal;\n",
       "}\n",
       "table.dataframe tr:nth-child(2) th:empty {\n",
       "    border-left: none;\n",
       "    border-right: 1px dashed #888;\n",
       "}\n",
       "table.dataframe td {\n",
       "    border: 2px solid #ccf;\n",
       "    background-color: #f4f4ff;\n",
       "}\n",
       "h3 {\n",
       "    color: white;\n",
       "    background-color: black;\n",
       "    padding: 0.5em;\n",
       "}\n",
       "</style>"
      ],
      "text/plain": [
       "<IPython.core.display.HTML object>"
      ]
     },
     "execution_count": 104,
     "metadata": {},
     "output_type": "execute_result"
    }
   ],
   "source": [
    "from IPython.core.display import HTML\n",
    "css = open('style-table.css').read() + open('style-notebook.css').read()\n",
    "HTML('<style>{}</style>'.format(css))"
   ]
  },
  {
   "cell_type": "code",
   "execution_count": 105,
   "metadata": {
    "collapsed": false
   },
   "outputs": [],
   "source": [
    "df = pd.read_table('unaligned.tsv', sep='\\t')"
   ]
  },
  {
   "cell_type": "code",
   "execution_count": 107,
   "metadata": {
    "collapsed": false
   },
   "outputs": [],
   "source": [
    "df = df[['barcode', 'analysis_id', 'disease_name', 'center', 'files_size']]\n",
    "df['files_size'] = df['files_size'] / 1024.0 / 1024 / 1024\n",
    "df.rename(columns = {'files_size':'size_GB'}, inplace=True)"
   ]
  },
  {
   "cell_type": "code",
   "execution_count": 109,
   "metadata": {
    "collapsed": false,
    "scrolled": true
   },
   "outputs": [
    {
     "data": {
      "text/html": [
       "<div>\n",
       "<table border=\"1\" class=\"dataframe\">\n",
       "  <thead>\n",
       "    <tr style=\"text-align: right;\">\n",
       "      <th></th>\n",
       "      <th>barcode</th>\n",
       "      <th>analysis_id</th>\n",
       "      <th>disease_name</th>\n",
       "      <th>center</th>\n",
       "      <th>size_GB</th>\n",
       "    </tr>\n",
       "  </thead>\n",
       "  <tbody>\n",
       "    <tr>\n",
       "      <th>0</th>\n",
       "      <td>TCGA-DQ-5630-01A-01R-1873-07</td>\n",
       "      <td>5557a728-1827-4aff-b28b-f004d835f9d6</td>\n",
       "      <td>Head and Neck squamous cell carcinoma</td>\n",
       "      <td>UNC-LCCC</td>\n",
       "      <td>5.353189</td>\n",
       "    </tr>\n",
       "    <tr>\n",
       "      <th>1</th>\n",
       "      <td>TCGA-KK-A7B0-01A-11R-A32O-07</td>\n",
       "      <td>2826301c-5d33-465a-99fa-401aea553a7f</td>\n",
       "      <td>Prostate adenocarcinoma</td>\n",
       "      <td>UNC-LCCC</td>\n",
       "      <td>5.292468</td>\n",
       "    </tr>\n",
       "    <tr>\n",
       "      <th>2</th>\n",
       "      <td>TCGA-DD-A3A3-11A-11R-A22L-07</td>\n",
       "      <td>bb9ecd73-ded7-4c4e-9674-d05647be7a22</td>\n",
       "      <td>Liver hepatocellular carcinoma</td>\n",
       "      <td>UNC-LCCC</td>\n",
       "      <td>4.354037</td>\n",
       "    </tr>\n",
       "    <tr>\n",
       "      <th>3</th>\n",
       "      <td>TCGA-VV-A829-01A-21R-A36H-07</td>\n",
       "      <td>f23c04eb-6f22-4b19-a6e3-90e7887f535e</td>\n",
       "      <td>Brain Lower Grade Glioma</td>\n",
       "      <td>UNC-LCCC</td>\n",
       "      <td>5.456621</td>\n",
       "    </tr>\n",
       "    <tr>\n",
       "      <th>4</th>\n",
       "      <td>TCGA-56-7222-01A-11R-2045-07</td>\n",
       "      <td>8aef55bf-eeca-40ac-9025-fff4fbcf1c24</td>\n",
       "      <td>Lung squamous cell carcinoma</td>\n",
       "      <td>UNC-LCCC</td>\n",
       "      <td>6.211421</td>\n",
       "    </tr>\n",
       "  </tbody>\n",
       "</table>\n",
       "</div>"
      ],
      "text/plain": [
       "                        barcode                           analysis_id  \\\n",
       "0  TCGA-DQ-5630-01A-01R-1873-07  5557a728-1827-4aff-b28b-f004d835f9d6   \n",
       "1  TCGA-KK-A7B0-01A-11R-A32O-07  2826301c-5d33-465a-99fa-401aea553a7f   \n",
       "2  TCGA-DD-A3A3-11A-11R-A22L-07  bb9ecd73-ded7-4c4e-9674-d05647be7a22   \n",
       "3  TCGA-VV-A829-01A-21R-A36H-07  f23c04eb-6f22-4b19-a6e3-90e7887f535e   \n",
       "4  TCGA-56-7222-01A-11R-2045-07  8aef55bf-eeca-40ac-9025-fff4fbcf1c24   \n",
       "\n",
       "                            disease_name    center   size_GB  \n",
       "0  Head and Neck squamous cell carcinoma  UNC-LCCC  5.353189  \n",
       "1                Prostate adenocarcinoma  UNC-LCCC  5.292468  \n",
       "2         Liver hepatocellular carcinoma  UNC-LCCC  4.354037  \n",
       "3               Brain Lower Grade Glioma  UNC-LCCC  5.456621  \n",
       "4           Lung squamous cell carcinoma  UNC-LCCC  6.211421  "
      ]
     },
     "execution_count": 109,
     "metadata": {},
     "output_type": "execute_result"
    }
   ],
   "source": [
    "df.head()"
   ]
  },
  {
   "cell_type": "code",
   "execution_count": 112,
   "metadata": {
    "collapsed": false
   },
   "outputs": [
    {
     "name": "stdout",
     "output_type": "stream",
     "text": [
      "Number of samples: 11194\n",
      "Min: 0.27GB\n",
      "Max: 27.69GB\n",
      "Avg: 6.18GB\n",
      "Total: 69228.23GB or 67.61TB\n"
     ]
    }
   ],
   "source": [
    "print('Number of samples: %i' % len(df))\n",
    "print('Min: %.2fGB' % min(df['size_GB']))\n",
    "print('Max: %.2fGB' % max(df['size_GB']))\n",
    "print('Avg: %.2fGB' % np.mean(df['size_GB']))\n",
    "print('Total: %.2fGB or %.2fTB' % (sum(df['size_GB']), sum(df['size_GB'] / 1024)))"
   ]
  },
  {
   "cell_type": "markdown",
   "metadata": {},
   "source": [
    "<h5 align=\"center\">Boxplot Reminder</h5> \n",
    "\n",
    "<img src=\"boxplot.png\", style=\"width: 500px\">"
   ]
  },
  {
   "cell_type": "code",
   "execution_count": 72,
   "metadata": {
    "collapsed": false
   },
   "outputs": [
    {
     "data": {
      "text/plain": [
       "(0, 20)"
      ]
     },
     "execution_count": 72,
     "metadata": {},
     "output_type": "execute_result"
    },
    {
     "data": {
      "image/png": "[encoded data removed]",
      "text/plain": [
       "<matplotlib.figure.Figure at 0x10a6b03d0>"
      ]
     },
     "metadata": {},
     "output_type": "display_data"
    }
   ],
   "source": [
    "f, (ax1, ax2) = plt.subplots(2)\n",
    "sns.boxplot(df['size_GB'], ax=ax1)\n",
    "sns.kdeplot(df['size_GB'], ax=ax2, shade=True)\n",
    "plt.xlim([0,20])"
   ]
  },
  {
   "cell_type": "markdown",
   "metadata": {},
   "source": [
    "Click the button below to see a random sample of file sizes from the unaligned TCGA cohort"
   ]
  },
  {
   "cell_type": "code",
   "execution_count": 102,
   "metadata": {
    "collapsed": false,
    "scrolled": true
   },
   "outputs": [
    {
     "name": "stdout",
     "output_type": "stream",
     "text": [
      "ID: e10c7cd1-fc51-4c68-a4b9-721037b33e74 Size: 5.29GB\n",
      "ID: 9709e64c-0a33-4bf7-8a33-703a3d973d66 Size: 6.74GB\n",
      "ID: c84b3813-d17c-4230-9d1b-a12ac008dd5d Size: 3.96GB\n",
      "ID: c1eac507-ec28-4594-a839-05a532d3caf3 Size: 4.08GB\n",
      "ID: cf6e2643-318c-4a9a-bab4-fd80c7ef29af Size: 6.49GB\n",
      "ID: 99c49229-bbad-4ebe-9c42-dacf87f55bb9 Size: 5.47GB\n",
      "ID: 67dfef30-08db-4534-9e05-0ce38fda600c Size: 3.65GB\n",
      "ID: 7520b73c-2456-47f6-94c1-c67562bbbdee Size: 8.20GB\n",
      "ID: a427091b-012b-48c1-bf57-5d53c9400cf2 Size: 8.27GB\n",
      "ID: 14a9c38c-edc1-4f6c-99a3-7881c657a30b Size: 4.95GB\n"
     ]
    }
   ],
   "source": [
    "def func(btn):\n",
    "    clear_output()\n",
    "    for i in xrange(10):\n",
    "        id = df.iloc[random.randint(1,11194)]['analysis_id']\n",
    "        print('ID: %s Size: %.2fGB' % (id, (df[df['analysis_id'] == id]['size_GB'])))\n",
    "        \n",
    "\n",
    "btn = widgets.Button(description=\"Click me to see 10 random samples\")\n",
    "btn.on_click(func)\n",
    "display(btn)"
   ]
  },
  {
   "cell_type": "markdown",
   "metadata": {},
   "source": [
    "Now that I've wasted 10 minutes making that button, let's ensure that none of our unique samples (identified via barcode) have more than one analysis id."
   ]
  },
  {
   "cell_type": "code",
   "execution_count": 122,
   "metadata": {
    "collapsed": false
   },
   "outputs": [],
   "source": [
    "barcodes = set(df['barcode'].unique())\n",
    "assert set(df['barcode']) - barcodes == set()"
   ]
  },
  {
   "cell_type": "markdown",
   "metadata": {},
   "source": []
  }
 ],
 "metadata": {
  "kernelspec": {
   "display_name": "Python 2",
   "language": "python",
   "name": "python2"
  },
  "language_info": {
   "codemirror_mode": {
    "name": "ipython",
    "version": 2
   },
   "file_extension": ".py",
   "mimetype": "text/x-python",
   "name": "python",
   "nbconvert_exporter": "python",
   "pygments_lexer": "ipython2",
   "version": "2.7.10"
  }
 },
 "nbformat": 4,
 "nbformat_minor": 0
}
