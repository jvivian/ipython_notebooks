{
 "cells": [
  {
   "cell_type": "markdown",
   "metadata": {},
   "source": [
    "# A Look at the TCGA RNA-seq Dataset"
   ]
  },
  {
   "cell_type": "code",
   "execution_count": 30,
   "metadata": {
    "collapsed": true
   },
   "outputs": [],
   "source": [
    "%matplotlib inline\n",
    "import pandas as pd\n",
    "import numpy as np\n",
    "import matplotlib.pyplot as plt\n",
    "import seaborn as sns\n",
    "import random"
   ]
  },
  {
   "cell_type": "code",
   "execution_count": 3,
   "metadata": {
    "collapsed": false
   },
   "outputs": [
    {
     "data": {
      "text/html": [
       "<style>body {\n",
       "    margin: 0;\n",
       "    font-family: Helvetica;\n",
       "}\n",
       "table.dataframe {\n",
       "    border-collapse: collapse;\n",
       "    border: none;\n",
       "}\n",
       "table.dataframe tr {\n",
       "    border: none;\n",
       "}\n",
       "table.dataframe td, table.dataframe th {\n",
       "    margin: 0;\n",
       "    border: 1px solid white;\n",
       "    padding-left: 0.25em;\n",
       "    padding-right: 0.25em;\n",
       "}\n",
       "table.dataframe th:not(:empty) {\n",
       "    background-color: #fec;\n",
       "    text-align: left;\n",
       "    font-weight: normal;\n",
       "}\n",
       "table.dataframe tr:nth-child(2) th:empty {\n",
       "    border-left: none;\n",
       "    border-right: 1px dashed #888;\n",
       "}\n",
       "table.dataframe td {\n",
       "    border: 2px solid #ccf;\n",
       "    background-color: #f4f4ff;\n",
       "}\n",
       "h3 {\n",
       "    color: white;\n",
       "    background-color: black;\n",
       "    padding: 0.5em;\n",
       "}\n",
       "</style>"
      ],
      "text/plain": [
       "<IPython.core.display.HTML object>"
      ]
     },
     "execution_count": 3,
     "metadata": {},
     "output_type": "execute_result"
    }
   ],
   "source": [
    "from IPython.core.display import HTML\n",
    "css = open('style-table.css').read() + open('style-notebook.css').read()\n",
    "HTML('<style>{}</style>'.format(css))"
   ]
  },
  {
   "cell_type": "code",
   "execution_count": 4,
   "metadata": {
    "collapsed": false
   },
   "outputs": [],
   "source": [
    "df = pd.read_table('unaligned.tsv', sep='\\t')"
   ]
  },
  {
   "cell_type": "code",
   "execution_count": 6,
   "metadata": {
    "collapsed": false
   },
   "outputs": [],
   "source": [
    "df = df[['analysis_id', 'disease_name', 'center', 'files_size']]\n",
    "df['files_size'] = df['files_size'] / 1024.0 / 1024 / 1024\n",
    "df.rename(columns = {'files_size':'size_GB'}, inplace=True)"
   ]
  },
  {
   "cell_type": "code",
   "execution_count": 7,
   "metadata": {
    "collapsed": false,
    "scrolled": true
   },
   "outputs": [
    {
     "data": {
      "text/html": [
       "<div>\n",
       "<table border=\"1\" class=\"dataframe\">\n",
       "  <thead>\n",
       "    <tr style=\"text-align: right;\">\n",
       "      <th></th>\n",
       "      <th>analysis_id</th>\n",
       "      <th>disease_name</th>\n",
       "      <th>center</th>\n",
       "      <th>size_GB</th>\n",
       "    </tr>\n",
       "  </thead>\n",
       "  <tbody>\n",
       "    <tr>\n",
       "      <th>0</th>\n",
       "      <td>5557a728-1827-4aff-b28b-f004d835f9d6</td>\n",
       "      <td>Head and Neck squamous cell carcinoma</td>\n",
       "      <td>UNC-LCCC</td>\n",
       "      <td>5.353189</td>\n",
       "    </tr>\n",
       "    <tr>\n",
       "      <th>1</th>\n",
       "      <td>2826301c-5d33-465a-99fa-401aea553a7f</td>\n",
       "      <td>Prostate adenocarcinoma</td>\n",
       "      <td>UNC-LCCC</td>\n",
       "      <td>5.292468</td>\n",
       "    </tr>\n",
       "    <tr>\n",
       "      <th>2</th>\n",
       "      <td>bb9ecd73-ded7-4c4e-9674-d05647be7a22</td>\n",
       "      <td>Liver hepatocellular carcinoma</td>\n",
       "      <td>UNC-LCCC</td>\n",
       "      <td>4.354037</td>\n",
       "    </tr>\n",
       "    <tr>\n",
       "      <th>3</th>\n",
       "      <td>f23c04eb-6f22-4b19-a6e3-90e7887f535e</td>\n",
       "      <td>Brain Lower Grade Glioma</td>\n",
       "      <td>UNC-LCCC</td>\n",
       "      <td>5.456621</td>\n",
       "    </tr>\n",
       "    <tr>\n",
       "      <th>4</th>\n",
       "      <td>8aef55bf-eeca-40ac-9025-fff4fbcf1c24</td>\n",
       "      <td>Lung squamous cell carcinoma</td>\n",
       "      <td>UNC-LCCC</td>\n",
       "      <td>6.211421</td>\n",
       "    </tr>\n",
       "  </tbody>\n",
       "</table>\n",
       "</div>"
      ],
      "text/plain": [
       "                            analysis_id  \\\n",
       "0  5557a728-1827-4aff-b28b-f004d835f9d6   \n",
       "1  2826301c-5d33-465a-99fa-401aea553a7f   \n",
       "2  bb9ecd73-ded7-4c4e-9674-d05647be7a22   \n",
       "3  f23c04eb-6f22-4b19-a6e3-90e7887f535e   \n",
       "4  8aef55bf-eeca-40ac-9025-fff4fbcf1c24   \n",
       "\n",
       "                            disease_name    center   size_GB  \n",
       "0  Head and Neck squamous cell carcinoma  UNC-LCCC  5.353189  \n",
       "1                Prostate adenocarcinoma  UNC-LCCC  5.292468  \n",
       "2         Liver hepatocellular carcinoma  UNC-LCCC  4.354037  \n",
       "3               Brain Lower Grade Glioma  UNC-LCCC  5.456621  \n",
       "4           Lung squamous cell carcinoma  UNC-LCCC  6.211421  "
      ]
     },
     "execution_count": 7,
     "metadata": {},
     "output_type": "execute_result"
    }
   ],
   "source": [
    "df.head()"
   ]
  },
  {
   "cell_type": "code",
   "execution_count": 8,
   "metadata": {
    "collapsed": false
   },
   "outputs": [
    {
     "name": "stdout",
     "output_type": "stream",
     "text": [
      "Number of samples: 11194\n",
      "Min: 0.27GB\n",
      "Max: 27.69GB\n",
      "Avg: 6.18GB\n",
      "Total: 69228.23GB or 67.61TB\n"
     ]
    }
   ],
   "source": [
    "print 'Number of samples: %i' % len(df)\n",
    "print 'Min: %.2fGB' % min(df['size_GB'])\n",
    "print 'Max: %.2fGB' % max(df['size_GB'])\n",
    "print 'Avg: %.2fGB' % np.mean(df['size_GB'])\n",
    "print 'Total: %.2fGB or %.2fTB' % (sum(df['size_GB']), sum(df['size_GB'] / 1024))"
   ]
  },
  {
   "cell_type": "markdown",
   "metadata": {},
   "source": [
    "<h5 align=\"center\">Boxplot Reminder</h5> \n",
    "\n",
    "<img src=\"boxplot.png\", style=\"width: 500px\">"
   ]
  },
  {
   "cell_type": "code",
   "execution_count": 9,
   "metadata": {
    "collapsed": false,
    "scrolled": true
   },
   "outputs": [
    {
     "data": {
      "image/png": "[encoded data removed]",
      "text/plain": [
       "<matplotlib.figure.Figure at 0x10b292e90>"
      ]
     },
     "metadata": {},
     "output_type": "display_data"
    }
   ],
   "source": [
    "sns.boxplot(df['size_GB']);"
   ]
  },
  {
   "cell_type": "markdown",
   "metadata": {},
   "source": [
    "Rerun the below cell to see a random sample of file sizes from the unaligned TCGA cohort"
   ]
  },
  {
   "cell_type": "code",
   "execution_count": 27,
   "metadata": {
    "collapsed": false
   },
   "outputs": [
    {
     "name": "stdout",
     "output_type": "stream",
     "text": [
      "Size of random sample: 9.44GB\n",
      "Size of random sample: 4.99GB\n",
      "Size of random sample: 12.51GB\n",
      "Size of random sample: 5.60GB\n",
      "Size of random sample: 4.77GB\n",
      "Size of random sample: 5.83GB\n",
      "Size of random sample: 5.76GB\n",
      "Size of random sample: 3.76GB\n",
      "Size of random sample: 8.14GB\n",
      "Size of random sample: 6.23GB\n"
     ]
    }
   ],
   "source": [
    "for i in xrange(10):\n",
    "    id = df.iloc[random.randint(1,11194)]['analysis_id']\n",
    "    print 'Size of random sample: %.2fGB' % (df[df['analysis_id'] == id]['size_GB'])"
   ]
  },
  {
   "cell_type": "markdown",
   "metadata": {},
   "source": [
    "This data only looks at unaligned RNA-seq data. Now let's look at the complete TCGA RNA-seq dataset."
   ]
  },
  {
   "cell_type": "code",
   "execution_count": 10,
   "metadata": {
    "collapsed": true
   },
   "outputs": [],
   "source": [
    "full_df = pd.read_table('summary.tsv', sep='\\t')"
   ]
  },
  {
   "cell_type": "code",
   "execution_count": 11,
   "metadata": {
    "collapsed": false
   },
   "outputs": [],
   "source": [
    "full_df = full_df[['analysis_id', 'disease_name', 'assembly', 'center', 'files_size']]\n",
    "full_df['files_size'] = full_df['files_size'] / 1024.0 / 1024 / 1024\n",
    "full_df.rename(columns = {'files_size':'size_GB'}, inplace=True)"
   ]
  },
  {
   "cell_type": "code",
   "execution_count": 12,
   "metadata": {
    "collapsed": false
   },
   "outputs": [
    {
     "data": {
      "text/html": [
       "<div>\n",
       "<table border=\"1\" class=\"dataframe\">\n",
       "  <thead>\n",
       "    <tr style=\"text-align: right;\">\n",
       "      <th></th>\n",
       "      <th>analysis_id</th>\n",
       "      <th>disease_name</th>\n",
       "      <th>assembly</th>\n",
       "      <th>center</th>\n",
       "      <th>size_GB</th>\n",
       "    </tr>\n",
       "  </thead>\n",
       "  <tbody>\n",
       "    <tr>\n",
       "      <th>0</th>\n",
       "      <td>5557a728-1827-4aff-b28b-f004d835f9d6</td>\n",
       "      <td>Head and Neck squamous cell carcinoma</td>\n",
       "      <td>unaligned</td>\n",
       "      <td>UNC-LCCC</td>\n",
       "      <td>5.353189</td>\n",
       "    </tr>\n",
       "    <tr>\n",
       "      <th>1</th>\n",
       "      <td>e6091244-6442-4977-903f-771a9eae0b11</td>\n",
       "      <td>Head and Neck squamous cell carcinoma</td>\n",
       "      <td>HG19</td>\n",
       "      <td>UNC-LCCC</td>\n",
       "      <td>5.814064</td>\n",
       "    </tr>\n",
       "    <tr>\n",
       "      <th>2</th>\n",
       "      <td>2826301c-5d33-465a-99fa-401aea553a7f</td>\n",
       "      <td>Prostate adenocarcinoma</td>\n",
       "      <td>unaligned</td>\n",
       "      <td>UNC-LCCC</td>\n",
       "      <td>5.292468</td>\n",
       "    </tr>\n",
       "    <tr>\n",
       "      <th>3</th>\n",
       "      <td>8116865e-8280-49fe-ad4b-c2a0d1bf7a37</td>\n",
       "      <td>Prostate adenocarcinoma</td>\n",
       "      <td>HG19</td>\n",
       "      <td>UNC-LCCC</td>\n",
       "      <td>5.707248</td>\n",
       "    </tr>\n",
       "    <tr>\n",
       "      <th>4</th>\n",
       "      <td>bb9ecd73-ded7-4c4e-9674-d05647be7a22</td>\n",
       "      <td>Liver hepatocellular carcinoma</td>\n",
       "      <td>unaligned</td>\n",
       "      <td>UNC-LCCC</td>\n",
       "      <td>4.354037</td>\n",
       "    </tr>\n",
       "  </tbody>\n",
       "</table>\n",
       "</div>"
      ],
      "text/plain": [
       "                            analysis_id  \\\n",
       "0  5557a728-1827-4aff-b28b-f004d835f9d6   \n",
       "1  e6091244-6442-4977-903f-771a9eae0b11   \n",
       "2  2826301c-5d33-465a-99fa-401aea553a7f   \n",
       "3  8116865e-8280-49fe-ad4b-c2a0d1bf7a37   \n",
       "4  bb9ecd73-ded7-4c4e-9674-d05647be7a22   \n",
       "\n",
       "                            disease_name   assembly    center   size_GB  \n",
       "0  Head and Neck squamous cell carcinoma  unaligned  UNC-LCCC  5.353189  \n",
       "1  Head and Neck squamous cell carcinoma       HG19  UNC-LCCC  5.814064  \n",
       "2                Prostate adenocarcinoma  unaligned  UNC-LCCC  5.292468  \n",
       "3                Prostate adenocarcinoma       HG19  UNC-LCCC  5.707248  \n",
       "4         Liver hepatocellular carcinoma  unaligned  UNC-LCCC  4.354037  "
      ]
     },
     "execution_count": 12,
     "metadata": {},
     "output_type": "execute_result"
    }
   ],
   "source": [
    "full_df.head()"
   ]
  },
  {
   "cell_type": "code",
   "execution_count": 13,
   "metadata": {
    "collapsed": false
   },
   "outputs": [
    {
     "name": "stdout",
     "output_type": "stream",
     "text": [
      "Number of samples: 25327\n",
      "Min: 0.13GB\n",
      "Max: 45.53GB\n",
      "Avg: 6.69GB\n",
      "Total: 169421.20GB or 165.45TB\n"
     ]
    }
   ],
   "source": [
    "print 'Number of samples: %i' % len(full_df)\n",
    "print 'Min: %.2fGB' % min(full_df['size_GB'])\n",
    "print 'Max: %.2fGB' % max(full_df['size_GB'])\n",
    "print 'Avg: %.2fGB' % np.mean(full_df['size_GB'])\n",
    "print 'Total: %.2fGB or %.2fTB' % (sum(full_df['size_GB']), sum(full_df['size_GB'] / 1024))"
   ]
  },
  {
   "cell_type": "code",
   "execution_count": 14,
   "metadata": {
    "collapsed": false
   },
   "outputs": [
    {
     "data": {
      "image/png": "[encoded data removed]",
      "text/plain": [
       "<matplotlib.figure.Figure at 0x109a0df50>"
      ]
     },
     "metadata": {},
     "output_type": "display_data"
    }
   ],
   "source": [
    "sns.boxplot(full_df['size_GB']);"
   ]
  },
  {
   "cell_type": "markdown",
   "metadata": {},
   "source": [
    "Let's look at both sets in a narrower range"
   ]
  },
  {
   "cell_type": "code",
   "execution_count": 42,
   "metadata": {
    "collapsed": false
   },
   "outputs": [
    {
     "data": {
      "image/png": "[encoded data removed]",
      "text/plain": [
       "<matplotlib.figure.Figure at 0x10a8b37d0>"
      ]
     },
     "metadata": {},
     "output_type": "display_data"
    }
   ],
   "source": [
    "sns.kdeplot(full_df['size_GB'], shade=True, legend=False)\n",
    "sns.kdeplot(df['size_GB'], shade=True, legend=False)\n",
    "plt.xlim([0, 20]);"
   ]
  },
  {
   "cell_type": "code",
   "execution_count": null,
   "metadata": {
    "collapsed": true
   },
   "outputs": [],
   "source": []
  }
 ],
 "metadata": {
  "kernelspec": {
   "display_name": "Python 2",
   "language": "python",
   "name": "python2"
  },
  "language_info": {
   "codemirror_mode": {
    "name": "ipython",
    "version": 2
   },
   "file_extension": ".py",
   "mimetype": "text/x-python",
   "name": "python",
   "nbconvert_exporter": "python",
   "pygments_lexer": "ipython2",
   "version": "2.7.10"
  }
 },
 "nbformat": 4,
 "nbformat_minor": 0
}
