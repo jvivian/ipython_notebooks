{
 "cells": [
  {
   "cell_type": "markdown",
   "metadata": {},
   "source": [
    "# UNC Best Practices (HG19) and UCSC CGL (HG38) RSEM Comparisons\n",
    "A quick ipython notebook to ascertain the similarity between data produced by the UNC best practices RNA-seq pipeline and UCSC CGL's simplified RNA-seq pipeline (STAR -> RSEM, HG38), which is 80%+ faster. \n",
    "\n",
    "Author: John Vivian, jtvivian@gmail.com  \n",
    "Date: 11-28-15"
   ]
  },
  {
   "cell_type": "code",
   "execution_count": 173,
   "metadata": {
    "collapsed": true
   },
   "outputs": [],
   "source": [
    "%matplotlib inline\n",
    "import pandas as pd\n",
    "import itertools\n",
    "import matplotlib.pyplot as plt\n",
    "import seaborn as sns\n",
    "import numpy as np"
   ]
  },
  {
   "cell_type": "code",
   "execution_count": 174,
   "metadata": {
    "collapsed": false
   },
   "outputs": [
    {
     "data": {
      "text/html": [
       "<style>body {\n",
       "    margin: 0;\n",
       "    font-family: Helvetica;\n",
       "}\n",
       "table.dataframe {\n",
       "    border-collapse: collapse;\n",
       "    border: none;\n",
       "}\n",
       "table.dataframe tr {\n",
       "    border: none;\n",
       "}\n",
       "table.dataframe td, table.dataframe th {\n",
       "    margin: 0;\n",
       "    border: 1px solid white;\n",
       "    padding-left: 0.25em;\n",
       "    padding-right: 0.25em;\n",
       "}\n",
       "table.dataframe th:not(:empty) {\n",
       "    background-color: #fec;\n",
       "    text-align: left;\n",
       "    font-weight: normal;\n",
       "}\n",
       "table.dataframe tr:nth-child(2) th:empty {\n",
       "    border-left: none;\n",
       "    border-right: 1px dashed #888;\n",
       "}\n",
       "table.dataframe td {\n",
       "    border: 2px solid #ccf;\n",
       "    background-color: #f4f4ff;\n",
       "}\n",
       "h3 {\n",
       "    color: white;\n",
       "    background-color: black;\n",
       "    padding: 0.5em;\n",
       "}\n",
       "</style>"
      ],
      "text/plain": [
       "<IPython.core.display.HTML object>"
      ]
     },
     "execution_count": 174,
     "metadata": {},
     "output_type": "execute_result"
    }
   ],
   "source": [
    "from IPython.core.display import HTML\n",
    "css = open('style-table.css').read() + open('style-notebook.css').read()\n",
    "HTML('<style>{}</style>'.format(css))"
   ]
  },
  {
   "cell_type": "markdown",
   "metadata": {},
   "source": [
    "## I. Pre-Processing\n",
    "### Pull in gene mapping file\n",
    "CGL's newest RNA-seq pipeline uses the most current human reference genome (HG38) and Gencode's latest annotations (v23), which means all of the gene names have Gencode identifiers, whereas the UNC pipeline uses UCSC gene names.  We'll use a file that maps these gencode IDs to UCSC gene names. "
   ]
  },
  {
   "cell_type": "code",
   "execution_count": 175,
   "metadata": {
    "collapsed": false
   },
   "outputs": [],
   "source": [
    "id_map = pd.read_table('attrs.tsv', sep='\\t')"
   ]
  },
  {
   "cell_type": "code",
   "execution_count": 176,
   "metadata": {
    "collapsed": false
   },
   "outputs": [
    {
     "data": {
      "text/html": [
       "<div>\n",
       "<table border=\"1\" class=\"dataframe\">\n",
       "  <thead>\n",
       "    <tr style=\"text-align: right;\">\n",
       "      <th></th>\n",
       "      <th>geneId</th>\n",
       "      <th>geneName</th>\n",
       "      <th>geneType</th>\n",
       "      <th>geneStatus</th>\n",
       "      <th>transcriptId</th>\n",
       "      <th>transcriptName</th>\n",
       "      <th>transcriptType</th>\n",
       "      <th>transcriptStatus</th>\n",
       "      <th>havanaGeneId</th>\n",
       "      <th>havanaTranscriptId</th>\n",
       "      <th>ccdsId</th>\n",
       "      <th>level</th>\n",
       "      <th>transcriptClass</th>\n",
       "    </tr>\n",
       "  </thead>\n",
       "  <tbody>\n",
       "    <tr>\n",
       "      <th>0</th>\n",
       "      <td>ENSG00000223972.5</td>\n",
       "      <td>DDX11L1</td>\n",
       "      <td>transcribed_unprocessed_pseudogene</td>\n",
       "      <td>KNOWN</td>\n",
       "      <td>ENST00000456328.2</td>\n",
       "      <td>DDX11L1-002</td>\n",
       "      <td>processed_transcript</td>\n",
       "      <td>KNOWN</td>\n",
       "      <td>OTTHUMG00000000961.2</td>\n",
       "      <td>OTTHUMT00000362751.1</td>\n",
       "      <td>NaN</td>\n",
       "      <td>2</td>\n",
       "      <td>pseudo</td>\n",
       "    </tr>\n",
       "    <tr>\n",
       "      <th>1</th>\n",
       "      <td>ENSG00000223972.5</td>\n",
       "      <td>DDX11L1</td>\n",
       "      <td>transcribed_unprocessed_pseudogene</td>\n",
       "      <td>KNOWN</td>\n",
       "      <td>ENST00000450305.2</td>\n",
       "      <td>DDX11L1-001</td>\n",
       "      <td>transcribed_unprocessed_pseudogene</td>\n",
       "      <td>KNOWN</td>\n",
       "      <td>OTTHUMG00000000961.2</td>\n",
       "      <td>OTTHUMT00000002844.2</td>\n",
       "      <td>NaN</td>\n",
       "      <td>2</td>\n",
       "      <td>pseudo</td>\n",
       "    </tr>\n",
       "    <tr>\n",
       "      <th>2</th>\n",
       "      <td>ENSG00000227232.5</td>\n",
       "      <td>WASH7P</td>\n",
       "      <td>unprocessed_pseudogene</td>\n",
       "      <td>KNOWN</td>\n",
       "      <td>ENST00000488147.1</td>\n",
       "      <td>WASH7P-001</td>\n",
       "      <td>unprocessed_pseudogene</td>\n",
       "      <td>KNOWN</td>\n",
       "      <td>OTTHUMG00000000958.1</td>\n",
       "      <td>OTTHUMT00000002839.1</td>\n",
       "      <td>NaN</td>\n",
       "      <td>2</td>\n",
       "      <td>pseudo</td>\n",
       "    </tr>\n",
       "    <tr>\n",
       "      <th>3</th>\n",
       "      <td>ENSG00000278267.1</td>\n",
       "      <td>MIR6859-1</td>\n",
       "      <td>miRNA</td>\n",
       "      <td>KNOWN</td>\n",
       "      <td>ENST00000619216.1</td>\n",
       "      <td>MIR6859-1-201</td>\n",
       "      <td>miRNA</td>\n",
       "      <td>KNOWN</td>\n",
       "      <td>NaN</td>\n",
       "      <td>NaN</td>\n",
       "      <td>NaN</td>\n",
       "      <td>3</td>\n",
       "      <td>nonCoding</td>\n",
       "    </tr>\n",
       "    <tr>\n",
       "      <th>4</th>\n",
       "      <td>ENSG00000243485.3</td>\n",
       "      <td>RP11-34P13.3</td>\n",
       "      <td>lincRNA</td>\n",
       "      <td>KNOWN</td>\n",
       "      <td>ENST00000473358.1</td>\n",
       "      <td>RP11-34P13.3-001</td>\n",
       "      <td>lincRNA</td>\n",
       "      <td>KNOWN</td>\n",
       "      <td>OTTHUMG00000000959.2</td>\n",
       "      <td>OTTHUMT00000002840.1</td>\n",
       "      <td>NaN</td>\n",
       "      <td>2</td>\n",
       "      <td>nonCoding</td>\n",
       "    </tr>\n",
       "  </tbody>\n",
       "</table>\n",
       "</div>"
      ],
      "text/plain": [
       "              geneId      geneName                            geneType  \\\n",
       "0  ENSG00000223972.5       DDX11L1  transcribed_unprocessed_pseudogene   \n",
       "1  ENSG00000223972.5       DDX11L1  transcribed_unprocessed_pseudogene   \n",
       "2  ENSG00000227232.5        WASH7P              unprocessed_pseudogene   \n",
       "3  ENSG00000278267.1     MIR6859-1                               miRNA   \n",
       "4  ENSG00000243485.3  RP11-34P13.3                             lincRNA   \n",
       "\n",
       "  geneStatus       transcriptId    transcriptName  \\\n",
       "0      KNOWN  ENST00000456328.2       DDX11L1-002   \n",
       "1      KNOWN  ENST00000450305.2       DDX11L1-001   \n",
       "2      KNOWN  ENST00000488147.1        WASH7P-001   \n",
       "3      KNOWN  ENST00000619216.1     MIR6859-1-201   \n",
       "4      KNOWN  ENST00000473358.1  RP11-34P13.3-001   \n",
       "\n",
       "                       transcriptType transcriptStatus          havanaGeneId  \\\n",
       "0                processed_transcript            KNOWN  OTTHUMG00000000961.2   \n",
       "1  transcribed_unprocessed_pseudogene            KNOWN  OTTHUMG00000000961.2   \n",
       "2              unprocessed_pseudogene            KNOWN  OTTHUMG00000000958.1   \n",
       "3                               miRNA            KNOWN                   NaN   \n",
       "4                             lincRNA            KNOWN  OTTHUMG00000000959.2   \n",
       "\n",
       "     havanaTranscriptId ccdsId  level transcriptClass  \n",
       "0  OTTHUMT00000362751.1    NaN      2          pseudo  \n",
       "1  OTTHUMT00000002844.2    NaN      2          pseudo  \n",
       "2  OTTHUMT00000002839.1    NaN      2          pseudo  \n",
       "3                   NaN    NaN      3       nonCoding  \n",
       "4  OTTHUMT00000002840.1    NaN      2       nonCoding  "
      ]
     },
     "execution_count": 176,
     "metadata": {},
     "output_type": "execute_result"
    }
   ],
   "source": [
    "id_map.head()"
   ]
  },
  {
   "cell_type": "markdown",
   "metadata": {},
   "source": [
    "### Create dictionary mapping geneID to geneName"
   ]
  },
  {
   "cell_type": "code",
   "execution_count": 177,
   "metadata": {
    "collapsed": false
   },
   "outputs": [],
   "source": [
    "gene_mappings = {x: y for x, y in itertools.izip(id_map['geneId'], id_map['geneName'])}\n",
    "isoform_mappings = {x: y for x, y in itertools.izip(id_map['transcriptId'], id_map['transcriptName'])}"
   ]
  },
  {
   "cell_type": "markdown",
   "metadata": {},
   "source": [
    "### Read in TPM files as data frames\n",
    "Our RSEM results are parsed into several files, most importantly being the Transcripts per Million (TPM) for both genes and isoforms."
   ]
  },
  {
   "cell_type": "code",
   "execution_count": 178,
   "metadata": {
    "collapsed": false
   },
   "outputs": [],
   "source": [
    "cgl_genes = pd.read_table('CGL.genes.norm_tpm.tab', sep='\\t')\n",
    "cgl_isoforms = pd.read_table('CGL.isoform.norm_tpm.tab', sep='\\t')\n",
    "unc_genes = pd.read_table('UNC.genes.norm_tpm.tab', sep='\\t')\n",
    "unc_isoforms = pd.read_table('UNC.isoform.norm_tpm.tab', sep='\\t')"
   ]
  },
  {
   "cell_type": "markdown",
   "metadata": {},
   "source": [
    "### Quick look at each dataframe"
   ]
  },
  {
   "cell_type": "code",
   "execution_count": 179,
   "metadata": {
    "collapsed": false
   },
   "outputs": [
    {
     "data": {
      "text/html": [
       "<div>\n",
       "<table border=\"1\" class=\"dataframe\">\n",
       "  <thead>\n",
       "    <tr style=\"text-align: right;\">\n",
       "      <th></th>\n",
       "      <th>gene_id</th>\n",
       "      <th>test_SRR1559191</th>\n",
       "    </tr>\n",
       "  </thead>\n",
       "  <tbody>\n",
       "    <tr>\n",
       "      <th>0</th>\n",
       "      <td>ENSG00000000003.14</td>\n",
       "      <td>1223.3429</td>\n",
       "    </tr>\n",
       "    <tr>\n",
       "      <th>1</th>\n",
       "      <td>ENSG00000000005.5</td>\n",
       "      <td>0.0000</td>\n",
       "    </tr>\n",
       "    <tr>\n",
       "      <th>2</th>\n",
       "      <td>ENSG00000000419.12</td>\n",
       "      <td>1747.1182</td>\n",
       "    </tr>\n",
       "    <tr>\n",
       "      <th>3</th>\n",
       "      <td>ENSG00000000457.13</td>\n",
       "      <td>174.3516</td>\n",
       "    </tr>\n",
       "    <tr>\n",
       "      <th>4</th>\n",
       "      <td>ENSG00000000460.16</td>\n",
       "      <td>128.9625</td>\n",
       "    </tr>\n",
       "  </tbody>\n",
       "</table>\n",
       "</div>"
      ],
      "text/plain": [
       "              gene_id  test_SRR1559191\n",
       "0  ENSG00000000003.14        1223.3429\n",
       "1   ENSG00000000005.5           0.0000\n",
       "2  ENSG00000000419.12        1747.1182\n",
       "3  ENSG00000000457.13         174.3516\n",
       "4  ENSG00000000460.16         128.9625"
      ]
     },
     "execution_count": 179,
     "metadata": {},
     "output_type": "execute_result"
    }
   ],
   "source": [
    "cgl_genes.head()"
   ]
  },
  {
   "cell_type": "code",
   "execution_count": 180,
   "metadata": {
    "collapsed": false,
    "scrolled": true
   },
   "outputs": [
    {
     "data": {
      "text/html": [
       "<div>\n",
       "<table border=\"1\" class=\"dataframe\">\n",
       "  <thead>\n",
       "    <tr style=\"text-align: right;\">\n",
       "      <th></th>\n",
       "      <th>gene_id</th>\n",
       "      <th>test_unc_SRR1559191</th>\n",
       "    </tr>\n",
       "  </thead>\n",
       "  <tbody>\n",
       "    <tr>\n",
       "      <th>0</th>\n",
       "      <td>A1BG</td>\n",
       "      <td>115.3894</td>\n",
       "    </tr>\n",
       "    <tr>\n",
       "      <th>1</th>\n",
       "      <td>A1CF</td>\n",
       "      <td>0.0000</td>\n",
       "    </tr>\n",
       "    <tr>\n",
       "      <th>2</th>\n",
       "      <td>A2BP1</td>\n",
       "      <td>468.2432</td>\n",
       "    </tr>\n",
       "    <tr>\n",
       "      <th>3</th>\n",
       "      <td>A2LD1</td>\n",
       "      <td>48.7805</td>\n",
       "    </tr>\n",
       "    <tr>\n",
       "      <th>4</th>\n",
       "      <td>A2ML1</td>\n",
       "      <td>0.0000</td>\n",
       "    </tr>\n",
       "  </tbody>\n",
       "</table>\n",
       "</div>"
      ],
      "text/plain": [
       "  gene_id  test_unc_SRR1559191\n",
       "0    A1BG             115.3894\n",
       "1    A1CF               0.0000\n",
       "2   A2BP1             468.2432\n",
       "3   A2LD1              48.7805\n",
       "4   A2ML1               0.0000"
      ]
     },
     "execution_count": 180,
     "metadata": {},
     "output_type": "execute_result"
    }
   ],
   "source": [
    "unc_genes.head()"
   ]
  },
  {
   "cell_type": "code",
   "execution_count": 181,
   "metadata": {
    "collapsed": false
   },
   "outputs": [
    {
     "data": {
      "text/html": [
       "<div>\n",
       "<table border=\"1\" class=\"dataframe\">\n",
       "  <thead>\n",
       "    <tr style=\"text-align: right;\">\n",
       "      <th></th>\n",
       "      <th>gene_id/transcript_id</th>\n",
       "      <th>test_SRR1559191</th>\n",
       "    </tr>\n",
       "  </thead>\n",
       "  <tbody>\n",
       "    <tr>\n",
       "      <th>0</th>\n",
       "      <td>ENSG00000000003.14/ENST00000373020.8</td>\n",
       "      <td>2263.0029</td>\n",
       "    </tr>\n",
       "    <tr>\n",
       "      <th>1</th>\n",
       "      <td>ENSG00000000003.14/ENST00000494424.1</td>\n",
       "      <td>0.0000</td>\n",
       "    </tr>\n",
       "    <tr>\n",
       "      <th>2</th>\n",
       "      <td>ENSG00000000003.14/ENST00000496771.5</td>\n",
       "      <td>751.7174</td>\n",
       "    </tr>\n",
       "    <tr>\n",
       "      <th>3</th>\n",
       "      <td>ENSG00000000003.14/ENST00000612152.4</td>\n",
       "      <td>317.9588</td>\n",
       "    </tr>\n",
       "    <tr>\n",
       "      <th>4</th>\n",
       "      <td>ENSG00000000003.14/ENST00000614008.4</td>\n",
       "      <td>0.0000</td>\n",
       "    </tr>\n",
       "  </tbody>\n",
       "</table>\n",
       "</div>"
      ],
      "text/plain": [
       "                  gene_id/transcript_id  test_SRR1559191\n",
       "0  ENSG00000000003.14/ENST00000373020.8        2263.0029\n",
       "1  ENSG00000000003.14/ENST00000494424.1           0.0000\n",
       "2  ENSG00000000003.14/ENST00000496771.5         751.7174\n",
       "3  ENSG00000000003.14/ENST00000612152.4         317.9588\n",
       "4  ENSG00000000003.14/ENST00000614008.4           0.0000"
      ]
     },
     "execution_count": 181,
     "metadata": {},
     "output_type": "execute_result"
    }
   ],
   "source": [
    "cgl_isoforms.head()"
   ]
  },
  {
   "cell_type": "code",
   "execution_count": 182,
   "metadata": {
    "collapsed": false
   },
   "outputs": [
    {
     "data": {
      "text/html": [
       "<div>\n",
       "<table border=\"1\" class=\"dataframe\">\n",
       "  <thead>\n",
       "    <tr style=\"text-align: right;\">\n",
       "      <th></th>\n",
       "      <th>gene_id/transcript_id</th>\n",
       "      <th>test_unc_SRR1559191</th>\n",
       "    </tr>\n",
       "  </thead>\n",
       "  <tbody>\n",
       "    <tr>\n",
       "      <th>0</th>\n",
       "      <td>?/uc011lsn.1</td>\n",
       "      <td>0.0000</td>\n",
       "    </tr>\n",
       "    <tr>\n",
       "      <th>1</th>\n",
       "      <td>?/uc010unu.1</td>\n",
       "      <td>34.0254</td>\n",
       "    </tr>\n",
       "    <tr>\n",
       "      <th>2</th>\n",
       "      <td>?/uc010uoa.1</td>\n",
       "      <td>0.0000</td>\n",
       "    </tr>\n",
       "    <tr>\n",
       "      <th>3</th>\n",
       "      <td>?/uc002bgz.2</td>\n",
       "      <td>34.0254</td>\n",
       "    </tr>\n",
       "    <tr>\n",
       "      <th>4</th>\n",
       "      <td>?/uc002bic.2</td>\n",
       "      <td>0.0000</td>\n",
       "    </tr>\n",
       "  </tbody>\n",
       "</table>\n",
       "</div>"
      ],
      "text/plain": [
       "  gene_id/transcript_id  test_unc_SRR1559191\n",
       "0          ?/uc011lsn.1               0.0000\n",
       "1          ?/uc010unu.1              34.0254\n",
       "2          ?/uc010uoa.1               0.0000\n",
       "3          ?/uc002bgz.2              34.0254\n",
       "4          ?/uc002bic.2               0.0000"
      ]
     },
     "execution_count": 182,
     "metadata": {},
     "output_type": "execute_result"
    }
   ],
   "source": [
    "unc_isoforms.head()"
   ]
  },
  {
   "cell_type": "markdown",
   "metadata": {},
   "source": [
    "### Replace CGL geneIDs with geneNames"
   ]
  },
  {
   "cell_type": "code",
   "execution_count": 183,
   "metadata": {
    "collapsed": false
   },
   "outputs": [
    {
     "name": "stdout",
     "output_type": "stream",
     "text": [
      "Number of unmapped genes: 50.0, of 60498 total genes.\n",
      "99.92% of genes succesfully mapped\n"
     ]
    }
   ],
   "source": [
    "gene_names = []\n",
    "keyerrors = 0.0\n",
    "for gene_id in cgl_genes['gene_id']:\n",
    "    try:    \n",
    "        gene_names.append(gene_mappings[gene_id])\n",
    "    except KeyError:\n",
    "        keyerrors += 1\n",
    "        gene_names.append(gene_id)\n",
    "print \"Number of unmapped genes: {}, of {} total genes.\".format(keyerrors, len(cgl_genes['gene_id']))\n",
    "print \"{}% of genes succesfully mapped.\".format(100*round(1-(keyerrors/len(cgl_genes['gene_id'])),4))"
   ]
  },
  {
   "cell_type": "markdown",
   "metadata": {},
   "source": [
    "### Replace CGL transcriptIDs with transcriptNames"
   ]
  },
  {
   "cell_type": "code",
   "execution_count": 184,
   "metadata": {
    "collapsed": false
   },
   "outputs": [
    {
     "name": "stdout",
     "output_type": "stream",
     "text": [
      "Number of unmapped isoforms: 164.0, of 198619 total genes\n",
      "99.92% of isoforms  succesfully mapped:\n"
     ]
    }
   ],
   "source": [
    "isoform_names = []\n",
    "keyerrors = 0.0\n",
    "for transcript_id in cgl_isoforms['gene_id/transcript_id']:\n",
    "    try:    \n",
    "        isoform_names.append(isoform_mappings[transcript_id.split('/')[1]])\n",
    "    except KeyError:\n",
    "        keyerrors += 1\n",
    "        isoform_names.append(gene_id)\n",
    "print \"Number of unmapped isoforms: {}, of {} total genes.\".format(keyerrors, len(cgl_isoforms['gene_id/transcript_id']))\n",
    "print \"{}% of isoforms succesfully mapped.\".format(100*round(1-(keyerrors/len(cgl_isoforms['gene_id/transcript_id'])),4))"
   ]
  },
  {
   "cell_type": "code",
   "execution_count": 185,
   "metadata": {
    "collapsed": false
   },
   "outputs": [],
   "source": [
    "cgl_genes['gene_id'] = gene_names\n",
    "cgl_isoforms['gene_id/transcript_id'] = isoform_names"
   ]
  },
  {
   "cell_type": "markdown",
   "metadata": {},
   "source": [
    "## II. Gene Analysis"
   ]
  },
  {
   "cell_type": "code",
   "execution_count": 186,
   "metadata": {
    "collapsed": false
   },
   "outputs": [],
   "source": [
    "cgl_genes.columns = ['id', 'count']\n",
    "unc_genes.columns = ['id', 'count']"
   ]
  },
  {
   "cell_type": "code",
   "execution_count": 187,
   "metadata": {
    "collapsed": false
   },
   "outputs": [
    {
     "data": {
      "text/html": [
       "<div>\n",
       "<table border=\"1\" class=\"dataframe\">\n",
       "  <thead>\n",
       "    <tr style=\"text-align: right;\">\n",
       "      <th></th>\n",
       "      <th>id</th>\n",
       "      <th>count</th>\n",
       "    </tr>\n",
       "  </thead>\n",
       "  <tbody>\n",
       "    <tr>\n",
       "      <th>0</th>\n",
       "      <td>TSPAN6</td>\n",
       "      <td>1223.3429</td>\n",
       "    </tr>\n",
       "    <tr>\n",
       "      <th>1</th>\n",
       "      <td>TNMD</td>\n",
       "      <td>0.0000</td>\n",
       "    </tr>\n",
       "    <tr>\n",
       "      <th>2</th>\n",
       "      <td>DPM1</td>\n",
       "      <td>1747.1182</td>\n",
       "    </tr>\n",
       "    <tr>\n",
       "      <th>3</th>\n",
       "      <td>SCYL3</td>\n",
       "      <td>174.3516</td>\n",
       "    </tr>\n",
       "    <tr>\n",
       "      <th>4</th>\n",
       "      <td>C1orf112</td>\n",
       "      <td>128.9625</td>\n",
       "    </tr>\n",
       "  </tbody>\n",
       "</table>\n",
       "</div>"
      ],
      "text/plain": [
       "         id      count\n",
       "0    TSPAN6  1223.3429\n",
       "1      TNMD     0.0000\n",
       "2      DPM1  1747.1182\n",
       "3     SCYL3   174.3516\n",
       "4  C1orf112   128.9625"
      ]
     },
     "execution_count": 187,
     "metadata": {},
     "output_type": "execute_result"
    }
   ],
   "source": [
    "cgl_genes.head()"
   ]
  },
  {
   "cell_type": "code",
   "execution_count": 188,
   "metadata": {
    "collapsed": false
   },
   "outputs": [
    {
     "data": {
      "text/html": [
       "<div>\n",
       "<table border=\"1\" class=\"dataframe\">\n",
       "  <thead>\n",
       "    <tr style=\"text-align: right;\">\n",
       "      <th></th>\n",
       "      <th>id</th>\n",
       "      <th>count</th>\n",
       "    </tr>\n",
       "  </thead>\n",
       "  <tbody>\n",
       "    <tr>\n",
       "      <th>0</th>\n",
       "      <td>A1BG</td>\n",
       "      <td>115.3894</td>\n",
       "    </tr>\n",
       "    <tr>\n",
       "      <th>1</th>\n",
       "      <td>A1CF</td>\n",
       "      <td>0.0000</td>\n",
       "    </tr>\n",
       "    <tr>\n",
       "      <th>2</th>\n",
       "      <td>A2BP1</td>\n",
       "      <td>468.2432</td>\n",
       "    </tr>\n",
       "    <tr>\n",
       "      <th>3</th>\n",
       "      <td>A2LD1</td>\n",
       "      <td>48.7805</td>\n",
       "    </tr>\n",
       "    <tr>\n",
       "      <th>4</th>\n",
       "      <td>A2ML1</td>\n",
       "      <td>0.0000</td>\n",
       "    </tr>\n",
       "  </tbody>\n",
       "</table>\n",
       "</div>"
      ],
      "text/plain": [
       "      id     count\n",
       "0   A1BG  115.3894\n",
       "1   A1CF    0.0000\n",
       "2  A2BP1  468.2432\n",
       "3  A2LD1   48.7805\n",
       "4  A2ML1    0.0000"
      ]
     },
     "execution_count": 188,
     "metadata": {},
     "output_type": "execute_result"
    }
   ],
   "source": [
    "unc_genes.head()"
   ]
  },
  {
   "cell_type": "markdown",
   "metadata": {},
   "source": [
    "### Filter Dataframes by Genes in Both Sets"
   ]
  },
  {
   "cell_type": "code",
   "execution_count": 189,
   "metadata": {
    "collapsed": false
   },
   "outputs": [],
   "source": [
    "cgl_ids = set(cgl_genes['id'])\n",
    "unc_ids = set(unc_genes['id'])"
   ]
  },
  {
   "cell_type": "code",
   "execution_count": 190,
   "metadata": {
    "collapsed": false,
    "scrolled": true
   },
   "outputs": [
    {
     "name": "stdout",
     "output_type": "stream",
     "text": [
      "Length of (gene) intersection: 18213\n",
      "Number of genes in cgl: 58631\n",
      "Number of genes in UNC: 20500\n"
     ]
    }
   ],
   "source": [
    "intersection_of_genes = cgl_ids & unc_ids\n",
    "print 'Length of (gene) intersection: {}'.format(len(intersection_of_genes))\n",
    "print 'Number of genes in cgl: {}'.format(len(cgl_ids))\n",
    "print 'Number of genes in UNC: {}'.format(len(unc_ids))"
   ]
  },
  {
   "cell_type": "markdown",
   "metadata": {},
   "source": [
    "The HG38 assembly contains 261 alt loci, many of which are associated with the LRC/KIR area of chr19 and the MHC region on chr6, which causes the disparity in gene size between the two files. "
   ]
  },
  {
   "cell_type": "code",
   "execution_count": 191,
   "metadata": {
    "collapsed": false,
    "scrolled": true
   },
   "outputs": [],
   "source": [
    "filtered_cgl = cgl_genes[cgl_genes['id'].isin(intersection_of_genes)].drop_duplicates('id').sort('id')\n",
    "filtered_unc = unc_genes[unc_genes['id'].isin(intersection_of_genes)].sort('id')\n",
    "\n",
    "assert len(intersection_of_genes) == len(filtered_cgl) == len(filtered_unc)"
   ]
  },
  {
   "cell_type": "code",
   "execution_count": 192,
   "metadata": {
    "collapsed": false,
    "scrolled": true
   },
   "outputs": [
    {
     "data": {
      "text/html": [
       "<div>\n",
       "<table border=\"1\" class=\"dataframe\">\n",
       "  <thead>\n",
       "    <tr style=\"text-align: right;\">\n",
       "      <th></th>\n",
       "      <th>id</th>\n",
       "      <th>count</th>\n",
       "    </tr>\n",
       "  </thead>\n",
       "  <tbody>\n",
       "    <tr>\n",
       "      <th>5165</th>\n",
       "      <td>A1BG</td>\n",
       "      <td>505.7637</td>\n",
       "    </tr>\n",
       "    <tr>\n",
       "      <th>9113</th>\n",
       "      <td>A1CF</td>\n",
       "      <td>0.0000</td>\n",
       "    </tr>\n",
       "    <tr>\n",
       "      <th>13992</th>\n",
       "      <td>A2M</td>\n",
       "      <td>2792.5072</td>\n",
       "    </tr>\n",
       "    <tr>\n",
       "      <th>11892</th>\n",
       "      <td>A2ML1</td>\n",
       "      <td>0.0000</td>\n",
       "    </tr>\n",
       "    <tr>\n",
       "      <th>6004</th>\n",
       "      <td>A4GALT</td>\n",
       "      <td>88.9769</td>\n",
       "    </tr>\n",
       "  </tbody>\n",
       "</table>\n",
       "</div>"
      ],
      "text/plain": [
       "           id      count\n",
       "5165     A1BG   505.7637\n",
       "9113     A1CF     0.0000\n",
       "13992     A2M  2792.5072\n",
       "11892   A2ML1     0.0000\n",
       "6004   A4GALT    88.9769"
      ]
     },
     "execution_count": 192,
     "metadata": {},
     "output_type": "execute_result"
    }
   ],
   "source": [
    "filtered_cgl.head()"
   ]
  },
  {
   "cell_type": "code",
   "execution_count": 193,
   "metadata": {
    "collapsed": false
   },
   "outputs": [
    {
     "data": {
      "text/html": [
       "<div>\n",
       "<table border=\"1\" class=\"dataframe\">\n",
       "  <thead>\n",
       "    <tr style=\"text-align: right;\">\n",
       "      <th></th>\n",
       "      <th>id</th>\n",
       "      <th>count</th>\n",
       "    </tr>\n",
       "  </thead>\n",
       "  <tbody>\n",
       "    <tr>\n",
       "      <th>0</th>\n",
       "      <td>A1BG</td>\n",
       "      <td>115.3894</td>\n",
       "    </tr>\n",
       "    <tr>\n",
       "      <th>1</th>\n",
       "      <td>A1CF</td>\n",
       "      <td>0.0000</td>\n",
       "    </tr>\n",
       "    <tr>\n",
       "      <th>5</th>\n",
       "      <td>A2M</td>\n",
       "      <td>3794.2305</td>\n",
       "    </tr>\n",
       "    <tr>\n",
       "      <th>4</th>\n",
       "      <td>A2ML1</td>\n",
       "      <td>0.0000</td>\n",
       "    </tr>\n",
       "    <tr>\n",
       "      <th>6</th>\n",
       "      <td>A4GALT</td>\n",
       "      <td>88.3992</td>\n",
       "    </tr>\n",
       "  </tbody>\n",
       "</table>\n",
       "</div>"
      ],
      "text/plain": [
       "       id      count\n",
       "0    A1BG   115.3894\n",
       "1    A1CF     0.0000\n",
       "5     A2M  3794.2305\n",
       "4   A2ML1     0.0000\n",
       "6  A4GALT    88.3992"
      ]
     },
     "execution_count": 193,
     "metadata": {},
     "output_type": "execute_result"
    }
   ],
   "source": [
    "filtered_unc.head()"
   ]
  },
  {
   "cell_type": "markdown",
   "metadata": {},
   "source": [
    "### Gene Plot"
   ]
  },
  {
   "cell_type": "code",
   "execution_count": 194,
   "metadata": {
    "collapsed": false
   },
   "outputs": [],
   "source": [
    "filtered_cgl['x'] = [x for x in range(len(filtered_cgl))]\n",
    "filtered_unc['x'] = [x for x in range(len(filtered_unc))]"
   ]
  },
  {
   "cell_type": "code",
   "execution_count": 195,
   "metadata": {
    "collapsed": false,
    "scrolled": true
   },
   "outputs": [
    {
     "data": {
      "image/png": "[encoded data removed]",
      "text/plain": [
       "<matplotlib.figure.Figure at 0x11036ae50>"
      ]
     },
     "metadata": {},
     "output_type": "display_data"
    }
   ],
   "source": [
    "sns.regplot(x='x', y='count', data=filtered_cgl)\n",
    "ax = sns.regplot(x='x', y='count', data=filtered_unc);\n",
    "ax.axes.set_xlim([0,16000])\n",
    "ax.axes.set_ylim([0,190000]);\n",
    "ax.set(xlabel='Genes', ylabel='Counts (TPM)');"
   ]
  },
  {
   "cell_type": "markdown",
   "metadata": {},
   "source": [
    "Overlaying the two dataframes as counts against genes provides us a rough idea of their similarity, but isn't the best way to present this data if we're trying to compare how similar they are.\n",
    "\n",
    "Given the disparity between expression values (some close to 0, others close to 200,000), we'll plot the logs of the counts against each other. So the first step is to remove all genes with expression values equal to 0, as they'll be undefined in log space."
   ]
  },
  {
   "cell_type": "code",
   "execution_count": 196,
   "metadata": {
    "collapsed": false
   },
   "outputs": [],
   "source": [
    "filtered_cgl = filtered_cgl[filtered_cgl['count'] != 0]\n",
    "filtered_unc = filtered_unc[filtered_unc['count'] != 0]"
   ]
  },
  {
   "cell_type": "markdown",
   "metadata": {},
   "source": [
    "Filter the sets again by intersection."
   ]
  },
  {
   "cell_type": "code",
   "execution_count": 197,
   "metadata": {
    "collapsed": false
   },
   "outputs": [],
   "source": [
    "intersection_of_genes = set(filtered_cgl['id']) & set(filtered_unc['id'])\n",
    "filtered_cgl = cgl_genes[cgl_genes['id'].isin(intersection_of_genes)].drop_duplicates('id').sort('id')\n",
    "filtered_unc = unc_genes[unc_genes['id'].isin(intersection_of_genes)].sort('id')\n",
    "assert len(intersection_of_genes) == len(filtered_cgl) == len(filtered_unc)"
   ]
  },
  {
   "cell_type": "markdown",
   "metadata": {},
   "source": [
    "Reset the row indexes to avoid sorting errors when assembling a new dataframe and take the log of the counts."
   ]
  },
  {
   "cell_type": "code",
   "execution_count": 198,
   "metadata": {
    "collapsed": true
   },
   "outputs": [],
   "source": [
    "filtered_cgl.reset_index(inplace=True)\n",
    "filtered_unc.reset_index(inplace=True)\n",
    "filtered_cgl['count'] = np.log(filtered_cgl['count'])\n",
    "filtered_unc['count'] = np.log(filtered_unc['count'])"
   ]
  },
  {
   "cell_type": "markdown",
   "metadata": {},
   "source": [
    "Create new dataframe that contains counts from both sets"
   ]
  },
  {
   "cell_type": "code",
   "execution_count": 199,
   "metadata": {
    "collapsed": true
   },
   "outputs": [],
   "source": [
    "gene_master = pd.DataFrame()\n",
    "gene_master['genes'] = filtered_cgl['id']\n",
    "gene_master['cgl'] = filtered_cgl['count']\n",
    "gene_master['unc'] = filtered_unc['count']"
   ]
  },
  {
   "cell_type": "code",
   "execution_count": 200,
   "metadata": {
    "collapsed": false
   },
   "outputs": [
    {
     "data": {
      "text/html": [
       "<div>\n",
       "<table border=\"1\" class=\"dataframe\">\n",
       "  <thead>\n",
       "    <tr style=\"text-align: right;\">\n",
       "      <th></th>\n",
       "      <th>genes</th>\n",
       "      <th>cgl</th>\n",
       "      <th>unc</th>\n",
       "    </tr>\n",
       "  </thead>\n",
       "  <tbody>\n",
       "    <tr>\n",
       "      <th>0</th>\n",
       "      <td>A1BG</td>\n",
       "      <td>6.226070</td>\n",
       "      <td>4.748312</td>\n",
       "    </tr>\n",
       "    <tr>\n",
       "      <th>1</th>\n",
       "      <td>A2M</td>\n",
       "      <td>7.934695</td>\n",
       "      <td>8.241237</td>\n",
       "    </tr>\n",
       "    <tr>\n",
       "      <th>2</th>\n",
       "      <td>A4GALT</td>\n",
       "      <td>4.488377</td>\n",
       "      <td>4.481863</td>\n",
       "    </tr>\n",
       "    <tr>\n",
       "      <th>3</th>\n",
       "      <td>AAAS</td>\n",
       "      <td>7.504349</td>\n",
       "      <td>6.956209</td>\n",
       "    </tr>\n",
       "    <tr>\n",
       "      <th>4</th>\n",
       "      <td>AACS</td>\n",
       "      <td>6.487228</td>\n",
       "      <td>6.504763</td>\n",
       "    </tr>\n",
       "  </tbody>\n",
       "</table>\n",
       "</div>"
      ],
      "text/plain": [
       "    genes       cgl       unc\n",
       "0    A1BG  6.226070  4.748312\n",
       "1     A2M  7.934695  8.241237\n",
       "2  A4GALT  4.488377  4.481863\n",
       "3    AAAS  7.504349  6.956209\n",
       "4    AACS  6.487228  6.504763"
      ]
     },
     "execution_count": 200,
     "metadata": {},
     "output_type": "execute_result"
    }
   ],
   "source": [
    "gene_master.head()"
   ]
  },
  {
   "cell_type": "markdown",
   "metadata": {},
   "source": [
    "Pearson Correlation Coefficient is a measure of the linear correlation between two variables X and Y, giving a value between +1 and −1 inclusive, where 1 is total positive correlation, 0 is no correlation, and −1 is total negative correlation."
   ]
  },
  {
   "cell_type": "code",
   "execution_count": 208,
   "metadata": {
    "collapsed": false,
    "scrolled": true
   },
   "outputs": [
    {
     "data": {
      "image/png": "[encoded data removed]",
      "text/plain": [
       "<matplotlib.figure.Figure at 0x11d056810>"
      ]
     },
     "metadata": {},
     "output_type": "display_data"
    }
   ],
   "source": [
    "sns.jointplot(x='cgl', y='unc', data=gene_master, kind='reg');"
   ]
  },
  {
   "cell_type": "markdown",
   "metadata": {
    "collapsed": true
   },
   "source": [
    "Beautiful. This is pretty much exactly what we would expect to see if the two datasets were extremely similar."
   ]
  },
  {
   "cell_type": "markdown",
   "metadata": {},
   "source": [
    "## III. Isoform Analysis\n",
    "Since the annotations used between pipelines are different, isoform comparisons wouldn't really make much sense."
   ]
  },
  {
   "cell_type": "markdown",
   "metadata": {},
   "source": [
    "## IV. Kallisto and RSEM Similarity Comparison\n",
    "While the CGL version of the RNA-seq pipeline runs 80%+ faster than the old one, Kallisto can be perform quantification before STAR is even finished with alignment, while using fewer resources.  RSEM isn't known for its stellar transcript-level quantification, but it'll be interesting to see how they compare."
   ]
  },
  {
   "cell_type": "code",
   "execution_count": 244,
   "metadata": {
    "collapsed": false
   },
   "outputs": [],
   "source": [
    "kallisto = pd.read_table('kallisto_SRR1559191.abundance.tsv', sep='\\t')\n",
    "kallisto.columns = ['id', 'length', 'est_length', 'est_counts', 'tpm']"
   ]
  },
  {
   "cell_type": "code",
   "execution_count": 246,
   "metadata": {
    "collapsed": false
   },
   "outputs": [
    {
     "data": {
      "text/html": [
       "<div>\n",
       "<table border=\"1\" class=\"dataframe\">\n",
       "  <thead>\n",
       "    <tr style=\"text-align: right;\">\n",
       "      <th></th>\n",
       "      <th>id</th>\n",
       "      <th>length</th>\n",
       "      <th>est_length</th>\n",
       "      <th>est_counts</th>\n",
       "      <th>tpm</th>\n",
       "    </tr>\n",
       "  </thead>\n",
       "  <tbody>\n",
       "    <tr>\n",
       "      <th>0</th>\n",
       "      <td>ENST00000619216.1</td>\n",
       "      <td>68</td>\n",
       "      <td>27.6748</td>\n",
       "      <td>20.434000</td>\n",
       "      <td>22.740800</td>\n",
       "    </tr>\n",
       "    <tr>\n",
       "      <th>1</th>\n",
       "      <td>ENST00000473358.1</td>\n",
       "      <td>712</td>\n",
       "      <td>543.4470</td>\n",
       "      <td>5.043420</td>\n",
       "      <td>0.285829</td>\n",
       "    </tr>\n",
       "    <tr>\n",
       "      <th>2</th>\n",
       "      <td>ENST00000469289.1</td>\n",
       "      <td>535</td>\n",
       "      <td>366.6550</td>\n",
       "      <td>0.000000</td>\n",
       "      <td>0.000000</td>\n",
       "    </tr>\n",
       "    <tr>\n",
       "      <th>3</th>\n",
       "      <td>ENST00000607096.1</td>\n",
       "      <td>138</td>\n",
       "      <td>18.2009</td>\n",
       "      <td>0.000000</td>\n",
       "      <td>0.000000</td>\n",
       "    </tr>\n",
       "    <tr>\n",
       "      <th>4</th>\n",
       "      <td>ENST00000417324.1</td>\n",
       "      <td>1187</td>\n",
       "      <td>1018.4500</td>\n",
       "      <td>0.004311</td>\n",
       "      <td>0.000130</td>\n",
       "    </tr>\n",
       "  </tbody>\n",
       "</table>\n",
       "</div>"
      ],
      "text/plain": [
       "                  id  length  est_length  est_counts        tpm\n",
       "0  ENST00000619216.1      68     27.6748   20.434000  22.740800\n",
       "1  ENST00000473358.1     712    543.4470    5.043420   0.285829\n",
       "2  ENST00000469289.1     535    366.6550    0.000000   0.000000\n",
       "3  ENST00000607096.1     138     18.2009    0.000000   0.000000\n",
       "4  ENST00000417324.1    1187   1018.4500    0.004311   0.000130"
      ]
     },
     "execution_count": 246,
     "metadata": {},
     "output_type": "execute_result"
    }
   ],
   "source": [
    "kallisto.head()"
   ]
  },
  {
   "cell_type": "markdown",
   "metadata": {},
   "source": [
    "### Replace Gencode IDs in Kallisto Dataframe with TranscriptNames"
   ]
  },
  {
   "cell_type": "code",
   "execution_count": 249,
   "metadata": {
    "collapsed": false
   },
   "outputs": [
    {
     "name": "stdout",
     "output_type": "stream",
     "text": [
      "Number of unmapped isoforms: 0.0, of 197044 total genes\n",
      "100.0% of isoforms  succesfully mapped:\n"
     ]
    }
   ],
   "source": [
    "isoform_names = []\n",
    "keyerrors = 0.0\n",
    "for transcript_id in kallisto['id']:\n",
    "    try:    \n",
    "        isoform_names.append(isoform_mappings[transcript_id])\n",
    "    except KeyError:\n",
    "        keyerrors += 1\n",
    "        isoform_names.append(gene_id)\n",
    "print \"Number of unmapped isoforms: {}, of {} total genes.\".format(keyerrors, len(kallisto['id']))\n",
    "print \"{}% of isoforms succesfully mapped.\".format(100*round(1-(keyerrors/len(kallisto['id'])),4))"
   ]
  },
  {
   "cell_type": "code",
   "execution_count": 250,
   "metadata": {
    "collapsed": true
   },
   "outputs": [],
   "source": [
    "kallisto['id'] = isoform_names"
   ]
  },
  {
   "cell_type": "code",
   "execution_count": 269,
   "metadata": {
    "collapsed": false
   },
   "outputs": [
    {
     "data": {
      "text/html": [
       "<div>\n",
       "<table border=\"1\" class=\"dataframe\">\n",
       "  <thead>\n",
       "    <tr style=\"text-align: right;\">\n",
       "      <th></th>\n",
       "      <th>id</th>\n",
       "      <th>count</th>\n",
       "    </tr>\n",
       "  </thead>\n",
       "  <tbody>\n",
       "    <tr>\n",
       "      <th>184146</th>\n",
       "      <td>105827617-001</td>\n",
       "      <td>0</td>\n",
       "    </tr>\n",
       "    <tr>\n",
       "      <th>136226</th>\n",
       "      <td>5S_rRNA.1-201</td>\n",
       "      <td>0</td>\n",
       "    </tr>\n",
       "    <tr>\n",
       "      <th>192067</th>\n",
       "      <td>5S_rRNA.11-201</td>\n",
       "      <td>0</td>\n",
       "    </tr>\n",
       "    <tr>\n",
       "      <th>192095</th>\n",
       "      <td>5S_rRNA.12-201</td>\n",
       "      <td>0</td>\n",
       "    </tr>\n",
       "    <tr>\n",
       "      <th>192347</th>\n",
       "      <td>5S_rRNA.13-201</td>\n",
       "      <td>0</td>\n",
       "    </tr>\n",
       "  </tbody>\n",
       "</table>\n",
       "</div>"
      ],
      "text/plain": [
       "                    id  count\n",
       "184146   105827617-001      0\n",
       "136226   5S_rRNA.1-201      0\n",
       "192067  5S_rRNA.11-201      0\n",
       "192095  5S_rRNA.12-201      0\n",
       "192347  5S_rRNA.13-201      0"
      ]
     },
     "execution_count": 269,
     "metadata": {},
     "output_type": "execute_result"
    }
   ],
   "source": [
    "kallisto.head()"
   ]
  },
  {
   "cell_type": "markdown",
   "metadata": {},
   "source": [
    "### Find Intersection of Transcripts between CGL and Kallisto Sets"
   ]
  },
  {
   "cell_type": "code",
   "execution_count": 290,
   "metadata": {
    "collapsed": false
   },
   "outputs": [
    {
     "name": "stdout",
     "output_type": "stream",
     "text": [
      "Number of Isoforms to analyze: 85887\n"
     ]
    }
   ],
   "source": [
    "cgl_isoforms = cgl_isoforms[cgl_isoforms['count'] != 0]\n",
    "kallisto = kallisto[kallisto['tpm'] != 0]\n",
    "\n",
    "intersection_of_transcripts = set(kallisto['id']) & set(cgl_isoforms['id'])\n",
    "filtered_cgl = cgl_isoforms[cgl_isoforms['id'].isin(intersection_of_transcripts)].drop_duplicates('id').sort('id')\n",
    "filtered_kallisto = kallisto[kallisto['id'].isin(intersection_of_transcripts)].drop_duplicates('id').sort('id')\n",
    "\n",
    "filtered_cgl.reset_index(inplace=True)\n",
    "filtered_kallisto.reset_index(inplace=True)\n",
    "\n",
    "assert len(intersection_of_transcripts) == len(filtered_cgl) == len(filtered_kallisto)\n",
    "print \"Number of Isoforms to analyze: {}\".format(len(intersection_of_transcripts))"
   ]
  },
  {
   "cell_type": "code",
   "execution_count": 291,
   "metadata": {
    "collapsed": false
   },
   "outputs": [
    {
     "data": {
      "text/html": [
       "<div>\n",
       "<table border=\"1\" class=\"dataframe\">\n",
       "  <thead>\n",
       "    <tr style=\"text-align: right;\">\n",
       "      <th></th>\n",
       "      <th>index</th>\n",
       "      <th>id</th>\n",
       "      <th>length</th>\n",
       "      <th>est_length</th>\n",
       "      <th>est_counts</th>\n",
       "      <th>tpm</th>\n",
       "    </tr>\n",
       "  </thead>\n",
       "  <tbody>\n",
       "    <tr>\n",
       "      <th>0</th>\n",
       "      <td>99799</td>\n",
       "      <td>A1BG-002</td>\n",
       "      <td>2301</td>\n",
       "      <td>2132.450</td>\n",
       "      <td>27.9001</td>\n",
       "      <td>0.402963</td>\n",
       "    </tr>\n",
       "    <tr>\n",
       "      <th>1</th>\n",
       "      <td>99796</td>\n",
       "      <td>A1BG-003</td>\n",
       "      <td>2134</td>\n",
       "      <td>1965.450</td>\n",
       "      <td>76.0166</td>\n",
       "      <td>1.191200</td>\n",
       "    </tr>\n",
       "    <tr>\n",
       "      <th>2</th>\n",
       "      <td>99800</td>\n",
       "      <td>A1BG-005</td>\n",
       "      <td>475</td>\n",
       "      <td>306.964</td>\n",
       "      <td>128.8300</td>\n",
       "      <td>12.926100</td>\n",
       "    </tr>\n",
       "    <tr>\n",
       "      <th>3</th>\n",
       "      <td>99810</td>\n",
       "      <td>A1BG-AS1-001</td>\n",
       "      <td>2130</td>\n",
       "      <td>1961.450</td>\n",
       "      <td>34.5470</td>\n",
       "      <td>0.542465</td>\n",
       "    </tr>\n",
       "    <tr>\n",
       "      <th>4</th>\n",
       "      <td>99801</td>\n",
       "      <td>A1BG-AS1-002</td>\n",
       "      <td>1718</td>\n",
       "      <td>1549.450</td>\n",
       "      <td>73.3794</td>\n",
       "      <td>1.458600</td>\n",
       "    </tr>\n",
       "  </tbody>\n",
       "</table>\n",
       "</div>"
      ],
      "text/plain": [
       "   index            id  length  est_length  est_counts        tpm\n",
       "0  99799      A1BG-002    2301    2132.450     27.9001   0.402963\n",
       "1  99796      A1BG-003    2134    1965.450     76.0166   1.191200\n",
       "2  99800      A1BG-005     475     306.964    128.8300  12.926100\n",
       "3  99810  A1BG-AS1-001    2130    1961.450     34.5470   0.542465\n",
       "4  99801  A1BG-AS1-002    1718    1549.450     73.3794   1.458600"
      ]
     },
     "execution_count": 291,
     "metadata": {},
     "output_type": "execute_result"
    }
   ],
   "source": [
    "filtered_kallisto.head()"
   ]
  },
  {
   "cell_type": "code",
   "execution_count": 292,
   "metadata": {
    "collapsed": false
   },
   "outputs": [
    {
     "data": {
      "text/html": [
       "<div>\n",
       "<table border=\"1\" class=\"dataframe\">\n",
       "  <thead>\n",
       "    <tr style=\"text-align: right;\">\n",
       "      <th></th>\n",
       "      <th>index</th>\n",
       "      <th>id</th>\n",
       "      <th>count</th>\n",
       "    </tr>\n",
       "  </thead>\n",
       "  <tbody>\n",
       "    <tr>\n",
       "      <th>0</th>\n",
       "      <td>46591</td>\n",
       "      <td>A1BG-002</td>\n",
       "      <td>38.2728</td>\n",
       "    </tr>\n",
       "    <tr>\n",
       "      <th>1</th>\n",
       "      <td>46592</td>\n",
       "      <td>A1BG-003</td>\n",
       "      <td>76.5456</td>\n",
       "    </tr>\n",
       "    <tr>\n",
       "      <th>2</th>\n",
       "      <td>46593</td>\n",
       "      <td>A1BG-005</td>\n",
       "      <td>1263.9843</td>\n",
       "    </tr>\n",
       "    <tr>\n",
       "      <th>3</th>\n",
       "      <td>188520</td>\n",
       "      <td>A1BG-AS1-001</td>\n",
       "      <td>61.8253</td>\n",
       "    </tr>\n",
       "    <tr>\n",
       "      <th>4</th>\n",
       "      <td>188519</td>\n",
       "      <td>A1BG-AS1-002</td>\n",
       "      <td>167.8116</td>\n",
       "    </tr>\n",
       "  </tbody>\n",
       "</table>\n",
       "</div>"
      ],
      "text/plain": [
       "    index            id      count\n",
       "0   46591      A1BG-002    38.2728\n",
       "1   46592      A1BG-003    76.5456\n",
       "2   46593      A1BG-005  1263.9843\n",
       "3  188520  A1BG-AS1-001    61.8253\n",
       "4  188519  A1BG-AS1-002   167.8116"
      ]
     },
     "execution_count": 292,
     "metadata": {},
     "output_type": "execute_result"
    }
   ],
   "source": [
    "filtered_cgl.head()"
   ]
  },
  {
   "cell_type": "code",
   "execution_count": 301,
   "metadata": {
    "collapsed": false
   },
   "outputs": [],
   "source": [
    "isoform_master = pd.DataFrame()\n",
    "isoform_master['id'] = filtered_kallisto['id']\n",
    "isoform_master['kallisto'] = np.log(filtered_kallisto['est_counts'])\n",
    "isoform_master['cgl'] = np.log(filtered_cgl['count'])"
   ]
  },
  {
   "cell_type": "code",
   "execution_count": 304,
   "metadata": {
    "collapsed": false
   },
   "outputs": [
    {
     "data": {
      "text/html": [
       "<div>\n",
       "<table border=\"1\" class=\"dataframe\">\n",
       "  <thead>\n",
       "    <tr style=\"text-align: right;\">\n",
       "      <th></th>\n",
       "      <th>id</th>\n",
       "      <th>kallisto</th>\n",
       "      <th>cgl</th>\n",
       "    </tr>\n",
       "  </thead>\n",
       "  <tbody>\n",
       "    <tr>\n",
       "      <th>0</th>\n",
       "      <td>A1BG-002</td>\n",
       "      <td>3.328630</td>\n",
       "      <td>3.644739</td>\n",
       "    </tr>\n",
       "    <tr>\n",
       "      <th>1</th>\n",
       "      <td>A1BG-003</td>\n",
       "      <td>4.330952</td>\n",
       "      <td>4.337887</td>\n",
       "    </tr>\n",
       "    <tr>\n",
       "      <th>2</th>\n",
       "      <td>A1BG-005</td>\n",
       "      <td>4.858494</td>\n",
       "      <td>7.142024</td>\n",
       "    </tr>\n",
       "    <tr>\n",
       "      <th>3</th>\n",
       "      <td>A1BG-AS1-001</td>\n",
       "      <td>3.542321</td>\n",
       "      <td>4.124313</td>\n",
       "    </tr>\n",
       "    <tr>\n",
       "      <th>4</th>\n",
       "      <td>A1BG-AS1-002</td>\n",
       "      <td>4.295643</td>\n",
       "      <td>5.122842</td>\n",
       "    </tr>\n",
       "  </tbody>\n",
       "</table>\n",
       "</div>"
      ],
      "text/plain": [
       "             id  kallisto       cgl\n",
       "0      A1BG-002  3.328630  3.644739\n",
       "1      A1BG-003  4.330952  4.337887\n",
       "2      A1BG-005  4.858494  7.142024\n",
       "3  A1BG-AS1-001  3.542321  4.124313\n",
       "4  A1BG-AS1-002  4.295643  5.122842"
      ]
     },
     "execution_count": 304,
     "metadata": {},
     "output_type": "execute_result"
    }
   ],
   "source": [
    "isoform_master.head()"
   ]
  },
  {
   "cell_type": "code",
   "execution_count": 314,
   "metadata": {
    "collapsed": false
   },
   "outputs": [
    {
     "data": {
      "image/png": "[encoded data removed]",
      "text/plain": [
       "<matplotlib.figure.Figure at 0x12936a050>"
      ]
     },
     "metadata": {},
     "output_type": "display_data"
    }
   ],
   "source": [
    "ax = sns.jointplot(x='kallisto', y='cgl', data=isoform_master, kind='reg', ylim=[-5,20]);"
   ]
  },
  {
   "cell_type": "markdown",
   "metadata": {},
   "source": [
    "Not as tight of a regression pattern as we were hoping for.  It looks like Kallisto is much more sensitive about assigning count values that are lower than RSEMs (as count values less than one appear negative in log space).  I've also been told that RSEM isn't the most trusted tool to perform isoform-level quantificiation.\n",
    "\n",
    "So what we'll do is map every kallisto transcript to the gene it is associated with, sum the counts, then compare gene level quantification between kallisto and RSEM."
   ]
  },
  {
   "cell_type": "markdown",
   "metadata": {},
   "source": [
    "### TranscriptID to GeneName mapping"
   ]
  },
  {
   "cell_type": "code",
   "execution_count": 309,
   "metadata": {
    "collapsed": false
   },
   "outputs": [],
   "source": [
    "transcript_to_gene = {x: y for x, y in itertools.izip(id_map['transcriptId'], id_map['geneName'])}"
   ]
  },
  {
   "cell_type": "code",
   "execution_count": 315,
   "metadata": {
    "collapsed": false
   },
   "outputs": [],
   "source": [
    "kallisto = pd.read_table('kallisto_SRR1559191.abundance.tsv', sep='\\t')\n",
    "kallisto.columns = ['id', 'length', 'est_length', 'est_counts', 'tpm']"
   ]
  },
  {
   "cell_type": "code",
   "execution_count": 316,
   "metadata": {
    "collapsed": false
   },
   "outputs": [
    {
     "data": {
      "text/html": [
       "<div>\n",
       "<table border=\"1\" class=\"dataframe\">\n",
       "  <thead>\n",
       "    <tr style=\"text-align: right;\">\n",
       "      <th></th>\n",
       "      <th>id</th>\n",
       "      <th>length</th>\n",
       "      <th>est_length</th>\n",
       "      <th>est_counts</th>\n",
       "      <th>tpm</th>\n",
       "    </tr>\n",
       "  </thead>\n",
       "  <tbody>\n",
       "    <tr>\n",
       "      <th>0</th>\n",
       "      <td>ENST00000619216.1</td>\n",
       "      <td>68</td>\n",
       "      <td>27.6748</td>\n",
       "      <td>20.434000</td>\n",
       "      <td>22.740800</td>\n",
       "    </tr>\n",
       "    <tr>\n",
       "      <th>1</th>\n",
       "      <td>ENST00000473358.1</td>\n",
       "      <td>712</td>\n",
       "      <td>543.4470</td>\n",
       "      <td>5.043420</td>\n",
       "      <td>0.285829</td>\n",
       "    </tr>\n",
       "    <tr>\n",
       "      <th>2</th>\n",
       "      <td>ENST00000469289.1</td>\n",
       "      <td>535</td>\n",
       "      <td>366.6550</td>\n",
       "      <td>0.000000</td>\n",
       "      <td>0.000000</td>\n",
       "    </tr>\n",
       "    <tr>\n",
       "      <th>3</th>\n",
       "      <td>ENST00000607096.1</td>\n",
       "      <td>138</td>\n",
       "      <td>18.2009</td>\n",
       "      <td>0.000000</td>\n",
       "      <td>0.000000</td>\n",
       "    </tr>\n",
       "    <tr>\n",
       "      <th>4</th>\n",
       "      <td>ENST00000417324.1</td>\n",
       "      <td>1187</td>\n",
       "      <td>1018.4500</td>\n",
       "      <td>0.004311</td>\n",
       "      <td>0.000130</td>\n",
       "    </tr>\n",
       "  </tbody>\n",
       "</table>\n",
       "</div>"
      ],
      "text/plain": [
       "                  id  length  est_length  est_counts        tpm\n",
       "0  ENST00000619216.1      68     27.6748   20.434000  22.740800\n",
       "1  ENST00000473358.1     712    543.4470    5.043420   0.285829\n",
       "2  ENST00000469289.1     535    366.6550    0.000000   0.000000\n",
       "3  ENST00000607096.1     138     18.2009    0.000000   0.000000\n",
       "4  ENST00000417324.1    1187   1018.4500    0.004311   0.000130"
      ]
     },
     "execution_count": 316,
     "metadata": {},
     "output_type": "execute_result"
    }
   ],
   "source": [
    "gene_names = []\n",
    "keyerrors = 0.0\n",
    "for transcript_id in kallisto['id']:\n",
    "    try:    \n",
    "        gene_names.append(transcript_to_gene[transcript_id])\n",
    "    except KeyError:\n",
    "        keyerrors += 1\n",
    "        gene_names.append(gene_id)\n",
    "print \"Number of unmapped isoforms: {}, of {} total genes.\".format(keyerrors, len(kallisto['id']))\n",
    "print \"{}% of isoforms succesfully mapped.\".format(100*round(1-(keyerrors/len(kallisto['id'])),4))"
   ]
  },
  {
   "cell_type": "code",
   "execution_count": null,
   "metadata": {
    "collapsed": true
   },
   "outputs": [],
   "source": []
  },
  {
   "cell_type": "code",
   "execution_count": null,
   "metadata": {
    "collapsed": true
   },
   "outputs": [],
   "source": []
  }
 ],
 "metadata": {
  "kernelspec": {
   "display_name": "Python 2",
   "language": "python",
   "name": "python2"
  },
  "language_info": {
   "codemirror_mode": {
    "name": "ipython",
    "version": 2
   },
   "file_extension": ".py",
   "mimetype": "text/x-python",
   "name": "python",
   "nbconvert_exporter": "python",
   "pygments_lexer": "ipython2",
   "version": "2.7.10"
  }
 },
 "nbformat": 4,
 "nbformat_minor": 0
}
