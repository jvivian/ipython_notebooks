{
 "cells": [
  {
   "cell_type": "markdown",
   "metadata": {},
   "source": [
    "# An Analysis of Kallisto's Boostraps\n",
    "Author: John Vivian — Computational Genomics Lab, Genomics Institute, UCSC <br>\n",
    "Date: 5-3-16\n",
    "\n",
    "Kallisto is a wicked new transcript-level expression estimation software from UC Berkeley: https://pachterlab.github.io/kallisto/\n",
    "\n",
    "The output TSV produced by Kallisto contains a table where each transcript is a row and has columns for name, size, est_count, length, eff_length, and tpm. What would be a welcome addition, is an additional column that provides an accurate \"variance\" derived from the bootstrap table. \n"
   ]
  },
  {
   "cell_type": "code",
   "execution_count": 349,
   "metadata": {
    "collapsed": false
   },
   "outputs": [],
   "source": [
    "%matplotlib inline\n",
    "from __future__ import print_function\n",
    "import pandas as pd\n",
    "import numpy as np\n",
    "import h5py\n",
    "import os\n",
    "import seaborn as sns\n",
    "import matplotlib.pyplot as plt\n",
    "import random"
   ]
  },
  {
   "cell_type": "code",
   "execution_count": 266,
   "metadata": {
    "collapsed": false
   },
   "outputs": [
    {
     "data": {
      "text/html": [
       "<style>body {\n",
       "    margin: 0;\n",
       "    font-family: Helvetica;\n",
       "}\n",
       "table.dataframe {\n",
       "    border-collapse: collapse;\n",
       "    border: none;\n",
       "}\n",
       "table.dataframe tr {\n",
       "    border: none;\n",
       "}\n",
       "table.dataframe td, table.dataframe th {\n",
       "    margin: 0;\n",
       "    border: 1px solid white;\n",
       "    padding-left: 0.25em;\n",
       "    padding-right: 0.25em;\n",
       "}\n",
       "table.dataframe th:not(:empty) {\n",
       "    background-color: #fec;\n",
       "    text-align: left;\n",
       "    font-weight: normal;\n",
       "}\n",
       "table.dataframe tr:nth-child(2) th:empty {\n",
       "    border-left: none;\n",
       "    border-right: 1px dashed #888;\n",
       "}\n",
       "table.dataframe td {\n",
       "    border: 2px solid #ccf;\n",
       "    background-color: #f4f4ff;\n",
       "}\n",
       "h3 {\n",
       "    color: white;\n",
       "    background-color: black;\n",
       "    padding: 0.5em;\n",
       "}\n",
       "</style>"
      ],
      "text/plain": [
       "<IPython.core.display.HTML object>"
      ]
     },
     "execution_count": 266,
     "metadata": {},
     "output_type": "execute_result"
    }
   ],
   "source": [
    "from IPython.core.display import HTML\n",
    "css = open('style-table.css').read() + open('style-notebook.css').read()\n",
    "HTML('<style>{}</style>'.format(css))"
   ]
  },
  {
   "cell_type": "markdown",
   "metadata": {},
   "source": [
    "Read in the HDF5 Kallisto data"
   ]
  },
  {
   "cell_type": "code",
   "execution_count": 267,
   "metadata": {
    "collapsed": false
   },
   "outputs": [],
   "source": [
    "h5 = [x for x in os.listdir('.') if 'h5' in x][0]\n",
    "tsv = [x for x in os.listdir('.') if 'tsv' in x][0]"
   ]
  },
  {
   "cell_type": "code",
   "execution_count": 268,
   "metadata": {
    "collapsed": false
   },
   "outputs": [],
   "source": [
    "store = h5py.File(h5)"
   ]
  },
  {
   "cell_type": "markdown",
   "metadata": {},
   "source": [
    "Examine the keys in the HDF5 file"
   ]
  },
  {
   "cell_type": "code",
   "execution_count": 269,
   "metadata": {
    "collapsed": false
   },
   "outputs": [
    {
     "name": "stdout",
     "output_type": "stream",
     "text": [
      "[u'aux', u'bootstrap', u'est_counts', u'test']\n"
     ]
    }
   ],
   "source": [
    "print store.keys()"
   ]
  },
  {
   "cell_type": "code",
   "execution_count": 270,
   "metadata": {
    "collapsed": true
   },
   "outputs": [],
   "source": [
    "bootstrap_h5 = store['bootstrap']"
   ]
  },
  {
   "cell_type": "markdown",
   "metadata": {},
   "source": [
    "Check number of transcripts in a bootstrap"
   ]
  },
  {
   "cell_type": "code",
   "execution_count": 271,
   "metadata": {
    "collapsed": false
   },
   "outputs": [
    {
     "data": {
      "text/plain": [
       "197044"
      ]
     },
     "execution_count": 271,
     "metadata": {},
     "output_type": "execute_result"
    }
   ],
   "source": [
    "len(bootstrap_h5[bootstrap_h5.keys()[0]])"
   ]
  },
  {
   "cell_type": "markdown",
   "metadata": {},
   "source": [
    "Get transcript names"
   ]
  },
  {
   "cell_type": "code",
   "execution_count": 272,
   "metadata": {
    "collapsed": true
   },
   "outputs": [],
   "source": [
    "df_tsv = pd.read_table(tsv, sep='\\t')"
   ]
  },
  {
   "cell_type": "code",
   "execution_count": 273,
   "metadata": {
    "collapsed": false
   },
   "outputs": [
    {
     "data": {
      "text/html": [
       "<div>\n",
       "<table border=\"1\" class=\"dataframe\">\n",
       "  <thead>\n",
       "    <tr style=\"text-align: right;\">\n",
       "      <th></th>\n",
       "      <th>target_id</th>\n",
       "      <th>length</th>\n",
       "      <th>eff_length</th>\n",
       "      <th>est_counts</th>\n",
       "      <th>tpm</th>\n",
       "    </tr>\n",
       "  </thead>\n",
       "  <tbody>\n",
       "    <tr>\n",
       "      <th>0</th>\n",
       "      <td>ENST00000619216.1</td>\n",
       "      <td>68</td>\n",
       "      <td>20.4508</td>\n",
       "      <td>35.96850</td>\n",
       "      <td>39.370200</td>\n",
       "    </tr>\n",
       "    <tr>\n",
       "      <th>1</th>\n",
       "      <td>ENST00000473358.1</td>\n",
       "      <td>712</td>\n",
       "      <td>539.7450</td>\n",
       "      <td>7.06026</td>\n",
       "      <td>0.292811</td>\n",
       "    </tr>\n",
       "    <tr>\n",
       "      <th>2</th>\n",
       "      <td>ENST00000469289.1</td>\n",
       "      <td>535</td>\n",
       "      <td>362.7560</td>\n",
       "      <td>0.00000</td>\n",
       "      <td>0.000000</td>\n",
       "    </tr>\n",
       "    <tr>\n",
       "      <th>3</th>\n",
       "      <td>ENST00000607096.1</td>\n",
       "      <td>138</td>\n",
       "      <td>29.9028</td>\n",
       "      <td>0.00000</td>\n",
       "      <td>0.000000</td>\n",
       "    </tr>\n",
       "    <tr>\n",
       "      <th>4</th>\n",
       "      <td>ENST00000417324.1</td>\n",
       "      <td>1187</td>\n",
       "      <td>1014.7300</td>\n",
       "      <td>0.00000</td>\n",
       "      <td>0.000000</td>\n",
       "    </tr>\n",
       "  </tbody>\n",
       "</table>\n",
       "</div>"
      ],
      "text/plain": [
       "           target_id  length  eff_length  est_counts        tpm\n",
       "0  ENST00000619216.1      68     20.4508    35.96850  39.370200\n",
       "1  ENST00000473358.1     712    539.7450     7.06026   0.292811\n",
       "2  ENST00000469289.1     535    362.7560     0.00000   0.000000\n",
       "3  ENST00000607096.1     138     29.9028     0.00000   0.000000\n",
       "4  ENST00000417324.1    1187   1014.7300     0.00000   0.000000"
      ]
     },
     "execution_count": 273,
     "metadata": {},
     "output_type": "execute_result"
    }
   ],
   "source": [
    "df_tsv.head()"
   ]
  },
  {
   "cell_type": "code",
   "execution_count": 274,
   "metadata": {
    "collapsed": false
   },
   "outputs": [
    {
     "name": "stdout",
     "output_type": "stream",
     "text": [
      "target_id\tlength\teff_length\test_counts\ttpm\n"
     ]
    }
   ],
   "source": [
    "print '\\t'.join(df_tsv.columns)"
   ]
  },
  {
   "cell_type": "code",
   "execution_count": 275,
   "metadata": {
    "collapsed": false
   },
   "outputs": [
    {
     "data": {
      "text/plain": [
       "0    ENST00000619216.1\n",
       "1    ENST00000473358.1\n",
       "2    ENST00000469289.1\n",
       "3    ENST00000607096.1\n",
       "4    ENST00000417324.1\n",
       "Name: target_id, dtype: object"
      ]
     },
     "execution_count": 275,
     "metadata": {},
     "output_type": "execute_result"
    }
   ],
   "source": [
    "df_tsv.target_id.head()"
   ]
  },
  {
   "cell_type": "markdown",
   "metadata": {},
   "source": [
    "## Build Bootstrap DataFrame"
   ]
  },
  {
   "cell_type": "code",
   "execution_count": 276,
   "metadata": {
    "collapsed": true
   },
   "outputs": [],
   "source": [
    "df = pd.DataFrame()"
   ]
  },
  {
   "cell_type": "markdown",
   "metadata": {},
   "source": [
    "Add the transcript IDs and the est_counts from the TSV to the DataFrame"
   ]
  },
  {
   "cell_type": "code",
   "execution_count": 277,
   "metadata": {
    "collapsed": false
   },
   "outputs": [],
   "source": [
    "df['est_counts'] = df_tsv.est_counts\n",
    "df.index = df_tsv.target_id"
   ]
  },
  {
   "cell_type": "code",
   "execution_count": 278,
   "metadata": {
    "collapsed": false
   },
   "outputs": [],
   "source": [
    "for key in bootstrap_h5.keys():\n",
    "    df[key] = bootstrap_h5[key]"
   ]
  },
  {
   "cell_type": "code",
   "execution_count": 279,
   "metadata": {
    "collapsed": false
   },
   "outputs": [
    {
     "data": {
      "text/html": [
       "<div>\n",
       "<table border=\"1\" class=\"dataframe\">\n",
       "  <thead>\n",
       "    <tr style=\"text-align: right;\">\n",
       "      <th></th>\n",
       "      <th>est_counts</th>\n",
       "      <th>bs0</th>\n",
       "      <th>bs1</th>\n",
       "      <th>bs10</th>\n",
       "      <th>bs11</th>\n",
       "      <th>bs12</th>\n",
       "      <th>bs13</th>\n",
       "      <th>bs14</th>\n",
       "      <th>bs15</th>\n",
       "      <th>bs16</th>\n",
       "      <th>...</th>\n",
       "      <th>bs90</th>\n",
       "      <th>bs91</th>\n",
       "      <th>bs92</th>\n",
       "      <th>bs93</th>\n",
       "      <th>bs94</th>\n",
       "      <th>bs95</th>\n",
       "      <th>bs96</th>\n",
       "      <th>bs97</th>\n",
       "      <th>bs98</th>\n",
       "      <th>bs99</th>\n",
       "    </tr>\n",
       "    <tr>\n",
       "      <th>target_id</th>\n",
       "      <th></th>\n",
       "      <th></th>\n",
       "      <th></th>\n",
       "      <th></th>\n",
       "      <th></th>\n",
       "      <th></th>\n",
       "      <th></th>\n",
       "      <th></th>\n",
       "      <th></th>\n",
       "      <th></th>\n",
       "      <th></th>\n",
       "      <th></th>\n",
       "      <th></th>\n",
       "      <th></th>\n",
       "      <th></th>\n",
       "      <th></th>\n",
       "      <th></th>\n",
       "      <th></th>\n",
       "      <th></th>\n",
       "      <th></th>\n",
       "      <th></th>\n",
       "    </tr>\n",
       "  </thead>\n",
       "  <tbody>\n",
       "    <tr>\n",
       "      <th>ENST00000619216.1</th>\n",
       "      <td>35.96850</td>\n",
       "      <td>34.858954</td>\n",
       "      <td>36.635397</td>\n",
       "      <td>36.182804</td>\n",
       "      <td>37.702723</td>\n",
       "      <td>35.605696</td>\n",
       "      <td>36.229959</td>\n",
       "      <td>35.266917</td>\n",
       "      <td>33.813830</td>\n",
       "      <td>37.520026</td>\n",
       "      <td>...</td>\n",
       "      <td>32.334827</td>\n",
       "      <td>38.627166</td>\n",
       "      <td>32.765957</td>\n",
       "      <td>34.130868</td>\n",
       "      <td>34.463825</td>\n",
       "      <td>32.441327</td>\n",
       "      <td>37.409425</td>\n",
       "      <td>32.918000</td>\n",
       "      <td>31.317695</td>\n",
       "      <td>35.178026</td>\n",
       "    </tr>\n",
       "    <tr>\n",
       "      <th>ENST00000473358.1</th>\n",
       "      <td>7.06026</td>\n",
       "      <td>7.879594</td>\n",
       "      <td>11.632951</td>\n",
       "      <td>0.000000</td>\n",
       "      <td>9.410587</td>\n",
       "      <td>8.486367</td>\n",
       "      <td>5.019253</td>\n",
       "      <td>4.420041</td>\n",
       "      <td>8.059427</td>\n",
       "      <td>8.367784</td>\n",
       "      <td>...</td>\n",
       "      <td>0.000000</td>\n",
       "      <td>9.923369</td>\n",
       "      <td>7.493996</td>\n",
       "      <td>5.321462</td>\n",
       "      <td>2.372988</td>\n",
       "      <td>6.608679</td>\n",
       "      <td>6.765663</td>\n",
       "      <td>11.176495</td>\n",
       "      <td>2.974227</td>\n",
       "      <td>6.527188</td>\n",
       "    </tr>\n",
       "    <tr>\n",
       "      <th>ENST00000469289.1</th>\n",
       "      <td>0.00000</td>\n",
       "      <td>0.000000</td>\n",
       "      <td>0.000000</td>\n",
       "      <td>0.000000</td>\n",
       "      <td>0.000000</td>\n",
       "      <td>0.000000</td>\n",
       "      <td>0.000000</td>\n",
       "      <td>0.000000</td>\n",
       "      <td>0.000000</td>\n",
       "      <td>0.000000</td>\n",
       "      <td>...</td>\n",
       "      <td>0.000000</td>\n",
       "      <td>0.000000</td>\n",
       "      <td>0.000000</td>\n",
       "      <td>0.000000</td>\n",
       "      <td>0.000000</td>\n",
       "      <td>0.000000</td>\n",
       "      <td>0.000000</td>\n",
       "      <td>0.000000</td>\n",
       "      <td>0.000000</td>\n",
       "      <td>0.000000</td>\n",
       "    </tr>\n",
       "    <tr>\n",
       "      <th>ENST00000607096.1</th>\n",
       "      <td>0.00000</td>\n",
       "      <td>0.000000</td>\n",
       "      <td>0.000000</td>\n",
       "      <td>0.000000</td>\n",
       "      <td>0.000000</td>\n",
       "      <td>0.000000</td>\n",
       "      <td>0.000000</td>\n",
       "      <td>0.000000</td>\n",
       "      <td>0.000000</td>\n",
       "      <td>0.000000</td>\n",
       "      <td>...</td>\n",
       "      <td>0.000000</td>\n",
       "      <td>0.000000</td>\n",
       "      <td>0.000000</td>\n",
       "      <td>0.000000</td>\n",
       "      <td>0.000000</td>\n",
       "      <td>0.000000</td>\n",
       "      <td>0.000000</td>\n",
       "      <td>0.000000</td>\n",
       "      <td>0.000000</td>\n",
       "      <td>0.000000</td>\n",
       "    </tr>\n",
       "    <tr>\n",
       "      <th>ENST00000417324.1</th>\n",
       "      <td>0.00000</td>\n",
       "      <td>0.000000</td>\n",
       "      <td>0.000000</td>\n",
       "      <td>0.024946</td>\n",
       "      <td>0.000000</td>\n",
       "      <td>0.000000</td>\n",
       "      <td>0.021667</td>\n",
       "      <td>0.067594</td>\n",
       "      <td>0.000000</td>\n",
       "      <td>0.000000</td>\n",
       "      <td>...</td>\n",
       "      <td>0.015224</td>\n",
       "      <td>0.005651</td>\n",
       "      <td>0.000000</td>\n",
       "      <td>0.000000</td>\n",
       "      <td>0.000000</td>\n",
       "      <td>0.000000</td>\n",
       "      <td>0.000000</td>\n",
       "      <td>0.029519</td>\n",
       "      <td>0.018755</td>\n",
       "      <td>0.000000</td>\n",
       "    </tr>\n",
       "  </tbody>\n",
       "</table>\n",
       "<p>5 rows × 101 columns</p>\n",
       "</div>"
      ],
      "text/plain": [
       "                   est_counts        bs0        bs1       bs10       bs11  \\\n",
       "target_id                                                                   \n",
       "ENST00000619216.1    35.96850  34.858954  36.635397  36.182804  37.702723   \n",
       "ENST00000473358.1     7.06026   7.879594  11.632951   0.000000   9.410587   \n",
       "ENST00000469289.1     0.00000   0.000000   0.000000   0.000000   0.000000   \n",
       "ENST00000607096.1     0.00000   0.000000   0.000000   0.000000   0.000000   \n",
       "ENST00000417324.1     0.00000   0.000000   0.000000   0.024946   0.000000   \n",
       "\n",
       "                        bs12       bs13       bs14       bs15       bs16  \\\n",
       "target_id                                                                  \n",
       "ENST00000619216.1  35.605696  36.229959  35.266917  33.813830  37.520026   \n",
       "ENST00000473358.1   8.486367   5.019253   4.420041   8.059427   8.367784   \n",
       "ENST00000469289.1   0.000000   0.000000   0.000000   0.000000   0.000000   \n",
       "ENST00000607096.1   0.000000   0.000000   0.000000   0.000000   0.000000   \n",
       "ENST00000417324.1   0.000000   0.021667   0.067594   0.000000   0.000000   \n",
       "\n",
       "                     ...           bs90       bs91       bs92       bs93  \\\n",
       "target_id            ...                                                   \n",
       "ENST00000619216.1    ...      32.334827  38.627166  32.765957  34.130868   \n",
       "ENST00000473358.1    ...       0.000000   9.923369   7.493996   5.321462   \n",
       "ENST00000469289.1    ...       0.000000   0.000000   0.000000   0.000000   \n",
       "ENST00000607096.1    ...       0.000000   0.000000   0.000000   0.000000   \n",
       "ENST00000417324.1    ...       0.015224   0.005651   0.000000   0.000000   \n",
       "\n",
       "                        bs94       bs95       bs96       bs97       bs98  \\\n",
       "target_id                                                                  \n",
       "ENST00000619216.1  34.463825  32.441327  37.409425  32.918000  31.317695   \n",
       "ENST00000473358.1   2.372988   6.608679   6.765663  11.176495   2.974227   \n",
       "ENST00000469289.1   0.000000   0.000000   0.000000   0.000000   0.000000   \n",
       "ENST00000607096.1   0.000000   0.000000   0.000000   0.000000   0.000000   \n",
       "ENST00000417324.1   0.000000   0.000000   0.000000   0.029519   0.018755   \n",
       "\n",
       "                        bs99  \n",
       "target_id                     \n",
       "ENST00000619216.1  35.178026  \n",
       "ENST00000473358.1   6.527188  \n",
       "ENST00000469289.1   0.000000  \n",
       "ENST00000607096.1   0.000000  \n",
       "ENST00000417324.1   0.000000  \n",
       "\n",
       "[5 rows x 101 columns]"
      ]
     },
     "execution_count": 279,
     "metadata": {},
     "output_type": "execute_result"
    }
   ],
   "source": [
    "df.head()"
   ]
  },
  {
   "cell_type": "markdown",
   "metadata": {},
   "source": [
    "Find the standard deviation for each transcript across all of the bootstraps"
   ]
  },
  {
   "cell_type": "code",
   "execution_count": 280,
   "metadata": {
    "collapsed": false
   },
   "outputs": [],
   "source": [
    "df['std'] = df[bootstrap_h5.keys()].std(axis=1)"
   ]
  },
  {
   "cell_type": "code",
   "execution_count": 281,
   "metadata": {
    "collapsed": false
   },
   "outputs": [
    {
     "data": {
      "text/html": [
       "<div>\n",
       "<table border=\"1\" class=\"dataframe\">\n",
       "  <thead>\n",
       "    <tr style=\"text-align: right;\">\n",
       "      <th></th>\n",
       "      <th>est_counts</th>\n",
       "      <th>bs0</th>\n",
       "      <th>bs1</th>\n",
       "      <th>bs10</th>\n",
       "      <th>bs11</th>\n",
       "      <th>bs12</th>\n",
       "      <th>bs13</th>\n",
       "      <th>bs14</th>\n",
       "      <th>bs15</th>\n",
       "      <th>bs16</th>\n",
       "      <th>...</th>\n",
       "      <th>bs91</th>\n",
       "      <th>bs92</th>\n",
       "      <th>bs93</th>\n",
       "      <th>bs94</th>\n",
       "      <th>bs95</th>\n",
       "      <th>bs96</th>\n",
       "      <th>bs97</th>\n",
       "      <th>bs98</th>\n",
       "      <th>bs99</th>\n",
       "      <th>std</th>\n",
       "    </tr>\n",
       "    <tr>\n",
       "      <th>target_id</th>\n",
       "      <th></th>\n",
       "      <th></th>\n",
       "      <th></th>\n",
       "      <th></th>\n",
       "      <th></th>\n",
       "      <th></th>\n",
       "      <th></th>\n",
       "      <th></th>\n",
       "      <th></th>\n",
       "      <th></th>\n",
       "      <th></th>\n",
       "      <th></th>\n",
       "      <th></th>\n",
       "      <th></th>\n",
       "      <th></th>\n",
       "      <th></th>\n",
       "      <th></th>\n",
       "      <th></th>\n",
       "      <th></th>\n",
       "      <th></th>\n",
       "      <th></th>\n",
       "    </tr>\n",
       "  </thead>\n",
       "  <tbody>\n",
       "    <tr>\n",
       "      <th>ENST00000619216.1</th>\n",
       "      <td>35.968500</td>\n",
       "      <td>34.858954</td>\n",
       "      <td>36.635397</td>\n",
       "      <td>36.182804</td>\n",
       "      <td>37.702723</td>\n",
       "      <td>35.605696</td>\n",
       "      <td>36.229959</td>\n",
       "      <td>35.266917</td>\n",
       "      <td>33.813830</td>\n",
       "      <td>37.520026</td>\n",
       "      <td>...</td>\n",
       "      <td>38.627166</td>\n",
       "      <td>32.765957</td>\n",
       "      <td>34.130868</td>\n",
       "      <td>34.463825</td>\n",
       "      <td>32.441327</td>\n",
       "      <td>37.409425</td>\n",
       "      <td>32.918000</td>\n",
       "      <td>31.317695</td>\n",
       "      <td>35.178026</td>\n",
       "      <td>2.036653</td>\n",
       "    </tr>\n",
       "    <tr>\n",
       "      <th>ENST00000473358.1</th>\n",
       "      <td>7.060260</td>\n",
       "      <td>7.879594</td>\n",
       "      <td>11.632951</td>\n",
       "      <td>0.000000</td>\n",
       "      <td>9.410587</td>\n",
       "      <td>8.486367</td>\n",
       "      <td>5.019253</td>\n",
       "      <td>4.420041</td>\n",
       "      <td>8.059427</td>\n",
       "      <td>8.367784</td>\n",
       "      <td>...</td>\n",
       "      <td>9.923369</td>\n",
       "      <td>7.493996</td>\n",
       "      <td>5.321462</td>\n",
       "      <td>2.372988</td>\n",
       "      <td>6.608679</td>\n",
       "      <td>6.765663</td>\n",
       "      <td>11.176495</td>\n",
       "      <td>2.974227</td>\n",
       "      <td>6.527188</td>\n",
       "      <td>4.076943</td>\n",
       "    </tr>\n",
       "    <tr>\n",
       "      <th>ENST00000469289.1</th>\n",
       "      <td>0.000000</td>\n",
       "      <td>0.000000</td>\n",
       "      <td>0.000000</td>\n",
       "      <td>0.000000</td>\n",
       "      <td>0.000000</td>\n",
       "      <td>0.000000</td>\n",
       "      <td>0.000000</td>\n",
       "      <td>0.000000</td>\n",
       "      <td>0.000000</td>\n",
       "      <td>0.000000</td>\n",
       "      <td>...</td>\n",
       "      <td>0.000000</td>\n",
       "      <td>0.000000</td>\n",
       "      <td>0.000000</td>\n",
       "      <td>0.000000</td>\n",
       "      <td>0.000000</td>\n",
       "      <td>0.000000</td>\n",
       "      <td>0.000000</td>\n",
       "      <td>0.000000</td>\n",
       "      <td>0.000000</td>\n",
       "      <td>0.000000</td>\n",
       "    </tr>\n",
       "    <tr>\n",
       "      <th>ENST00000607096.1</th>\n",
       "      <td>0.000000</td>\n",
       "      <td>0.000000</td>\n",
       "      <td>0.000000</td>\n",
       "      <td>0.000000</td>\n",
       "      <td>0.000000</td>\n",
       "      <td>0.000000</td>\n",
       "      <td>0.000000</td>\n",
       "      <td>0.000000</td>\n",
       "      <td>0.000000</td>\n",
       "      <td>0.000000</td>\n",
       "      <td>...</td>\n",
       "      <td>0.000000</td>\n",
       "      <td>0.000000</td>\n",
       "      <td>0.000000</td>\n",
       "      <td>0.000000</td>\n",
       "      <td>0.000000</td>\n",
       "      <td>0.000000</td>\n",
       "      <td>0.000000</td>\n",
       "      <td>0.000000</td>\n",
       "      <td>0.000000</td>\n",
       "      <td>0.000000</td>\n",
       "    </tr>\n",
       "    <tr>\n",
       "      <th>ENST00000417324.1</th>\n",
       "      <td>0.000000</td>\n",
       "      <td>0.000000</td>\n",
       "      <td>0.000000</td>\n",
       "      <td>0.024946</td>\n",
       "      <td>0.000000</td>\n",
       "      <td>0.000000</td>\n",
       "      <td>0.021667</td>\n",
       "      <td>0.067594</td>\n",
       "      <td>0.000000</td>\n",
       "      <td>0.000000</td>\n",
       "      <td>...</td>\n",
       "      <td>0.005651</td>\n",
       "      <td>0.000000</td>\n",
       "      <td>0.000000</td>\n",
       "      <td>0.000000</td>\n",
       "      <td>0.000000</td>\n",
       "      <td>0.000000</td>\n",
       "      <td>0.029519</td>\n",
       "      <td>0.018755</td>\n",
       "      <td>0.000000</td>\n",
       "      <td>0.015044</td>\n",
       "    </tr>\n",
       "    <tr>\n",
       "      <th>ENST00000461467.1</th>\n",
       "      <td>14.130600</td>\n",
       "      <td>12.913919</td>\n",
       "      <td>15.370113</td>\n",
       "      <td>11.904537</td>\n",
       "      <td>17.308826</td>\n",
       "      <td>1.996043</td>\n",
       "      <td>6.195364</td>\n",
       "      <td>14.543568</td>\n",
       "      <td>24.332494</td>\n",
       "      <td>3.456346</td>\n",
       "      <td>...</td>\n",
       "      <td>16.176771</td>\n",
       "      <td>25.521783</td>\n",
       "      <td>19.666414</td>\n",
       "      <td>14.117804</td>\n",
       "      <td>24.595883</td>\n",
       "      <td>11.809947</td>\n",
       "      <td>17.748622</td>\n",
       "      <td>14.064912</td>\n",
       "      <td>16.964661</td>\n",
       "      <td>6.480863</td>\n",
       "    </tr>\n",
       "    <tr>\n",
       "      <th>ENST00000335137.3</th>\n",
       "      <td>0.000000</td>\n",
       "      <td>0.000000</td>\n",
       "      <td>0.000000</td>\n",
       "      <td>0.000000</td>\n",
       "      <td>0.000000</td>\n",
       "      <td>0.000000</td>\n",
       "      <td>0.000000</td>\n",
       "      <td>0.000000</td>\n",
       "      <td>0.000000</td>\n",
       "      <td>0.000000</td>\n",
       "      <td>...</td>\n",
       "      <td>0.000000</td>\n",
       "      <td>0.000000</td>\n",
       "      <td>0.000000</td>\n",
       "      <td>0.000000</td>\n",
       "      <td>0.000000</td>\n",
       "      <td>0.000000</td>\n",
       "      <td>0.000000</td>\n",
       "      <td>0.000000</td>\n",
       "      <td>0.000000</td>\n",
       "      <td>0.000000</td>\n",
       "    </tr>\n",
       "    <tr>\n",
       "      <th>ENST00000466430.5</th>\n",
       "      <td>243.096000</td>\n",
       "      <td>226.132960</td>\n",
       "      <td>224.601517</td>\n",
       "      <td>239.499399</td>\n",
       "      <td>223.581139</td>\n",
       "      <td>260.302012</td>\n",
       "      <td>229.222183</td>\n",
       "      <td>242.659089</td>\n",
       "      <td>241.815230</td>\n",
       "      <td>194.392281</td>\n",
       "      <td>...</td>\n",
       "      <td>246.653896</td>\n",
       "      <td>225.009842</td>\n",
       "      <td>235.735030</td>\n",
       "      <td>245.056189</td>\n",
       "      <td>242.933313</td>\n",
       "      <td>216.810920</td>\n",
       "      <td>236.733849</td>\n",
       "      <td>214.167299</td>\n",
       "      <td>229.524496</td>\n",
       "      <td>14.499732</td>\n",
       "    </tr>\n",
       "    <tr>\n",
       "      <th>ENST00000495576.1</th>\n",
       "      <td>0.059745</td>\n",
       "      <td>0.000000</td>\n",
       "      <td>10.142511</td>\n",
       "      <td>0.000000</td>\n",
       "      <td>0.000000</td>\n",
       "      <td>0.000038</td>\n",
       "      <td>1.399365</td>\n",
       "      <td>5.353480</td>\n",
       "      <td>0.000000</td>\n",
       "      <td>32.048358</td>\n",
       "      <td>...</td>\n",
       "      <td>12.594994</td>\n",
       "      <td>0.002593</td>\n",
       "      <td>0.000000</td>\n",
       "      <td>27.621124</td>\n",
       "      <td>14.912620</td>\n",
       "      <td>0.000000</td>\n",
       "      <td>0.000000</td>\n",
       "      <td>2.764881</td>\n",
       "      <td>40.975099</td>\n",
       "      <td>9.490752</td>\n",
       "    </tr>\n",
       "    <tr>\n",
       "      <th>ENST00000477740.5</th>\n",
       "      <td>0.000000</td>\n",
       "      <td>0.000000</td>\n",
       "      <td>0.000000</td>\n",
       "      <td>0.000000</td>\n",
       "      <td>0.000000</td>\n",
       "      <td>0.000000</td>\n",
       "      <td>0.000000</td>\n",
       "      <td>0.000000</td>\n",
       "      <td>0.000000</td>\n",
       "      <td>0.000000</td>\n",
       "      <td>...</td>\n",
       "      <td>0.000000</td>\n",
       "      <td>0.000000</td>\n",
       "      <td>0.000000</td>\n",
       "      <td>0.000000</td>\n",
       "      <td>0.000000</td>\n",
       "      <td>0.000000</td>\n",
       "      <td>0.000000</td>\n",
       "      <td>0.000000</td>\n",
       "      <td>0.000000</td>\n",
       "      <td>0.000000</td>\n",
       "    </tr>\n",
       "  </tbody>\n",
       "</table>\n",
       "<p>10 rows × 102 columns</p>\n",
       "</div>"
      ],
      "text/plain": [
       "                   est_counts         bs0         bs1        bs10        bs11  \\\n",
       "target_id                                                                       \n",
       "ENST00000619216.1   35.968500   34.858954   36.635397   36.182804   37.702723   \n",
       "ENST00000473358.1    7.060260    7.879594   11.632951    0.000000    9.410587   \n",
       "ENST00000469289.1    0.000000    0.000000    0.000000    0.000000    0.000000   \n",
       "ENST00000607096.1    0.000000    0.000000    0.000000    0.000000    0.000000   \n",
       "ENST00000417324.1    0.000000    0.000000    0.000000    0.024946    0.000000   \n",
       "ENST00000461467.1   14.130600   12.913919   15.370113   11.904537   17.308826   \n",
       "ENST00000335137.3    0.000000    0.000000    0.000000    0.000000    0.000000   \n",
       "ENST00000466430.5  243.096000  226.132960  224.601517  239.499399  223.581139   \n",
       "ENST00000495576.1    0.059745    0.000000   10.142511    0.000000    0.000000   \n",
       "ENST00000477740.5    0.000000    0.000000    0.000000    0.000000    0.000000   \n",
       "\n",
       "                         bs12        bs13        bs14        bs15        bs16  \\\n",
       "target_id                                                                       \n",
       "ENST00000619216.1   35.605696   36.229959   35.266917   33.813830   37.520026   \n",
       "ENST00000473358.1    8.486367    5.019253    4.420041    8.059427    8.367784   \n",
       "ENST00000469289.1    0.000000    0.000000    0.000000    0.000000    0.000000   \n",
       "ENST00000607096.1    0.000000    0.000000    0.000000    0.000000    0.000000   \n",
       "ENST00000417324.1    0.000000    0.021667    0.067594    0.000000    0.000000   \n",
       "ENST00000461467.1    1.996043    6.195364   14.543568   24.332494    3.456346   \n",
       "ENST00000335137.3    0.000000    0.000000    0.000000    0.000000    0.000000   \n",
       "ENST00000466430.5  260.302012  229.222183  242.659089  241.815230  194.392281   \n",
       "ENST00000495576.1    0.000038    1.399365    5.353480    0.000000   32.048358   \n",
       "ENST00000477740.5    0.000000    0.000000    0.000000    0.000000    0.000000   \n",
       "\n",
       "                     ...            bs91        bs92        bs93        bs94  \\\n",
       "target_id            ...                                                       \n",
       "ENST00000619216.1    ...       38.627166   32.765957   34.130868   34.463825   \n",
       "ENST00000473358.1    ...        9.923369    7.493996    5.321462    2.372988   \n",
       "ENST00000469289.1    ...        0.000000    0.000000    0.000000    0.000000   \n",
       "ENST00000607096.1    ...        0.000000    0.000000    0.000000    0.000000   \n",
       "ENST00000417324.1    ...        0.005651    0.000000    0.000000    0.000000   \n",
       "ENST00000461467.1    ...       16.176771   25.521783   19.666414   14.117804   \n",
       "ENST00000335137.3    ...        0.000000    0.000000    0.000000    0.000000   \n",
       "ENST00000466430.5    ...      246.653896  225.009842  235.735030  245.056189   \n",
       "ENST00000495576.1    ...       12.594994    0.002593    0.000000   27.621124   \n",
       "ENST00000477740.5    ...        0.000000    0.000000    0.000000    0.000000   \n",
       "\n",
       "                         bs95        bs96        bs97        bs98        bs99  \\\n",
       "target_id                                                                       \n",
       "ENST00000619216.1   32.441327   37.409425   32.918000   31.317695   35.178026   \n",
       "ENST00000473358.1    6.608679    6.765663   11.176495    2.974227    6.527188   \n",
       "ENST00000469289.1    0.000000    0.000000    0.000000    0.000000    0.000000   \n",
       "ENST00000607096.1    0.000000    0.000000    0.000000    0.000000    0.000000   \n",
       "ENST00000417324.1    0.000000    0.000000    0.029519    0.018755    0.000000   \n",
       "ENST00000461467.1   24.595883   11.809947   17.748622   14.064912   16.964661   \n",
       "ENST00000335137.3    0.000000    0.000000    0.000000    0.000000    0.000000   \n",
       "ENST00000466430.5  242.933313  216.810920  236.733849  214.167299  229.524496   \n",
       "ENST00000495576.1   14.912620    0.000000    0.000000    2.764881   40.975099   \n",
       "ENST00000477740.5    0.000000    0.000000    0.000000    0.000000    0.000000   \n",
       "\n",
       "                         std  \n",
       "target_id                     \n",
       "ENST00000619216.1   2.036653  \n",
       "ENST00000473358.1   4.076943  \n",
       "ENST00000469289.1   0.000000  \n",
       "ENST00000607096.1   0.000000  \n",
       "ENST00000417324.1   0.015044  \n",
       "ENST00000461467.1   6.480863  \n",
       "ENST00000335137.3   0.000000  \n",
       "ENST00000466430.5  14.499732  \n",
       "ENST00000495576.1   9.490752  \n",
       "ENST00000477740.5   0.000000  \n",
       "\n",
       "[10 rows x 102 columns]"
      ]
     },
     "execution_count": 281,
     "metadata": {},
     "output_type": "execute_result"
    }
   ],
   "source": [
    "df.head(10)"
   ]
  },
  {
   "cell_type": "markdown",
   "metadata": {},
   "source": [
    "Let's examine a subset of transcripts with really high standard deviation"
   ]
  },
  {
   "cell_type": "code",
   "execution_count": 282,
   "metadata": {
    "collapsed": false
   },
   "outputs": [
    {
     "data": {
      "text/html": [
       "<div>\n",
       "<table border=\"1\" class=\"dataframe\">\n",
       "  <thead>\n",
       "    <tr style=\"text-align: right;\">\n",
       "      <th></th>\n",
       "      <th>est_counts</th>\n",
       "      <th>bs0</th>\n",
       "      <th>bs1</th>\n",
       "      <th>bs10</th>\n",
       "      <th>bs11</th>\n",
       "      <th>bs12</th>\n",
       "      <th>bs13</th>\n",
       "      <th>bs14</th>\n",
       "      <th>bs15</th>\n",
       "      <th>bs16</th>\n",
       "      <th>...</th>\n",
       "      <th>bs91</th>\n",
       "      <th>bs92</th>\n",
       "      <th>bs93</th>\n",
       "      <th>bs94</th>\n",
       "      <th>bs95</th>\n",
       "      <th>bs96</th>\n",
       "      <th>bs97</th>\n",
       "      <th>bs98</th>\n",
       "      <th>bs99</th>\n",
       "      <th>std</th>\n",
       "    </tr>\n",
       "    <tr>\n",
       "      <th>target_id</th>\n",
       "      <th></th>\n",
       "      <th></th>\n",
       "      <th></th>\n",
       "      <th></th>\n",
       "      <th></th>\n",
       "      <th></th>\n",
       "      <th></th>\n",
       "      <th></th>\n",
       "      <th></th>\n",
       "      <th></th>\n",
       "      <th></th>\n",
       "      <th></th>\n",
       "      <th></th>\n",
       "      <th></th>\n",
       "      <th></th>\n",
       "      <th></th>\n",
       "      <th></th>\n",
       "      <th></th>\n",
       "      <th></th>\n",
       "      <th></th>\n",
       "      <th></th>\n",
       "    </tr>\n",
       "  </thead>\n",
       "  <tbody>\n",
       "    <tr>\n",
       "      <th>ENST00000394936.7</th>\n",
       "      <td>53103.10</td>\n",
       "      <td>5.431762e+04</td>\n",
       "      <td>5.449100e+04</td>\n",
       "      <td>5.345078e+04</td>\n",
       "      <td>5.306860e+04</td>\n",
       "      <td>5.358967e+04</td>\n",
       "      <td>5.241635e+04</td>\n",
       "      <td>5.180252e+04</td>\n",
       "      <td>5.304778e+04</td>\n",
       "      <td>5.288265e+04</td>\n",
       "      <td>...</td>\n",
       "      <td>5.171168e+04</td>\n",
       "      <td>5.479379e+04</td>\n",
       "      <td>5.309850e+04</td>\n",
       "      <td>5.540951e+04</td>\n",
       "      <td>5.140849e+04</td>\n",
       "      <td>5.268185e+04</td>\n",
       "      <td>5.306524e+04</td>\n",
       "      <td>5.048639e+04</td>\n",
       "      <td>5.098360e+04</td>\n",
       "      <td>1469.710795</td>\n",
       "    </tr>\n",
       "    <tr>\n",
       "      <th>ENST00000394934.4</th>\n",
       "      <td>12492.20</td>\n",
       "      <td>1.135424e+04</td>\n",
       "      <td>1.146331e+04</td>\n",
       "      <td>1.245762e+04</td>\n",
       "      <td>1.239158e+04</td>\n",
       "      <td>1.184080e+04</td>\n",
       "      <td>1.266062e+04</td>\n",
       "      <td>1.436882e+04</td>\n",
       "      <td>1.304275e+04</td>\n",
       "      <td>1.284033e+04</td>\n",
       "      <td>...</td>\n",
       "      <td>1.418548e+04</td>\n",
       "      <td>1.104224e+04</td>\n",
       "      <td>1.237355e+04</td>\n",
       "      <td>1.014449e+04</td>\n",
       "      <td>1.422797e+04</td>\n",
       "      <td>1.288520e+04</td>\n",
       "      <td>1.287011e+04</td>\n",
       "      <td>1.480318e+04</td>\n",
       "      <td>1.541866e+04</td>\n",
       "      <td>1570.888773</td>\n",
       "    </tr>\n",
       "    <tr>\n",
       "      <th>ENST00000551295.6</th>\n",
       "      <td>16025.50</td>\n",
       "      <td>1.845370e+04</td>\n",
       "      <td>1.527778e+04</td>\n",
       "      <td>1.733916e+04</td>\n",
       "      <td>1.575618e+04</td>\n",
       "      <td>1.379531e+04</td>\n",
       "      <td>1.499667e+04</td>\n",
       "      <td>1.727363e+04</td>\n",
       "      <td>1.593197e+04</td>\n",
       "      <td>1.437894e+04</td>\n",
       "      <td>...</td>\n",
       "      <td>1.676415e+04</td>\n",
       "      <td>1.593129e+04</td>\n",
       "      <td>1.750158e+04</td>\n",
       "      <td>1.651256e+04</td>\n",
       "      <td>1.496867e+04</td>\n",
       "      <td>1.575809e+04</td>\n",
       "      <td>1.505673e+04</td>\n",
       "      <td>1.659010e+04</td>\n",
       "      <td>1.731081e+04</td>\n",
       "      <td>1322.235271</td>\n",
       "    </tr>\n",
       "    <tr>\n",
       "      <th>ENST00000347616.5</th>\n",
       "      <td>7014.90</td>\n",
       "      <td>4.614467e+03</td>\n",
       "      <td>7.909358e+03</td>\n",
       "      <td>5.710775e+03</td>\n",
       "      <td>7.237097e+03</td>\n",
       "      <td>9.328102e+03</td>\n",
       "      <td>7.906938e+03</td>\n",
       "      <td>5.618917e+03</td>\n",
       "      <td>7.142708e+03</td>\n",
       "      <td>8.432206e+03</td>\n",
       "      <td>...</td>\n",
       "      <td>6.184586e+03</td>\n",
       "      <td>7.307904e+03</td>\n",
       "      <td>5.665882e+03</td>\n",
       "      <td>6.456928e+03</td>\n",
       "      <td>7.858152e+03</td>\n",
       "      <td>7.253801e+03</td>\n",
       "      <td>8.009238e+03</td>\n",
       "      <td>6.479335e+03</td>\n",
       "      <td>5.737030e+03</td>\n",
       "      <td>1330.573682</td>\n",
       "    </tr>\n",
       "    <tr>\n",
       "      <th>ENST00000616213.4</th>\n",
       "      <td>9228.28</td>\n",
       "      <td>1.013257e+04</td>\n",
       "      <td>8.588807e+03</td>\n",
       "      <td>1.105962e+04</td>\n",
       "      <td>8.418738e+03</td>\n",
       "      <td>6.265018e+03</td>\n",
       "      <td>9.436142e+03</td>\n",
       "      <td>1.084407e+04</td>\n",
       "      <td>9.781201e+03</td>\n",
       "      <td>9.380707e+03</td>\n",
       "      <td>...</td>\n",
       "      <td>7.761098e+03</td>\n",
       "      <td>1.007200e+04</td>\n",
       "      <td>8.576923e+03</td>\n",
       "      <td>8.042896e+03</td>\n",
       "      <td>9.394944e+03</td>\n",
       "      <td>8.118562e+03</td>\n",
       "      <td>8.547091e+03</td>\n",
       "      <td>1.068081e+04</td>\n",
       "      <td>1.119986e+04</td>\n",
       "      <td>1258.403936</td>\n",
       "    </tr>\n",
       "    <tr>\n",
       "      <th>ENST00000620145.4</th>\n",
       "      <td>22847.60</td>\n",
       "      <td>2.332454e+04</td>\n",
       "      <td>2.282165e+04</td>\n",
       "      <td>2.051182e+04</td>\n",
       "      <td>2.311270e+04</td>\n",
       "      <td>2.462709e+04</td>\n",
       "      <td>2.183743e+04</td>\n",
       "      <td>2.302901e+04</td>\n",
       "      <td>2.128937e+04</td>\n",
       "      <td>2.381597e+04</td>\n",
       "      <td>...</td>\n",
       "      <td>2.099864e+04</td>\n",
       "      <td>2.218546e+04</td>\n",
       "      <td>2.349443e+04</td>\n",
       "      <td>2.382544e+04</td>\n",
       "      <td>2.214010e+04</td>\n",
       "      <td>2.337195e+04</td>\n",
       "      <td>2.447733e+04</td>\n",
       "      <td>2.149420e+04</td>\n",
       "      <td>2.201560e+04</td>\n",
       "      <td>1088.226827</td>\n",
       "    </tr>\n",
       "    <tr>\n",
       "      <th>ENST00000620879.4</th>\n",
       "      <td>25456.20</td>\n",
       "      <td>2.562646e+04</td>\n",
       "      <td>2.628262e+04</td>\n",
       "      <td>2.404780e+04</td>\n",
       "      <td>2.605260e+04</td>\n",
       "      <td>2.589020e+04</td>\n",
       "      <td>2.668407e+04</td>\n",
       "      <td>2.824186e+04</td>\n",
       "      <td>2.606891e+04</td>\n",
       "      <td>2.511689e+04</td>\n",
       "      <td>...</td>\n",
       "      <td>2.542116e+04</td>\n",
       "      <td>2.639584e+04</td>\n",
       "      <td>2.796146e+04</td>\n",
       "      <td>2.373137e+04</td>\n",
       "      <td>2.577557e+04</td>\n",
       "      <td>2.585177e+04</td>\n",
       "      <td>2.511259e+04</td>\n",
       "      <td>2.348661e+04</td>\n",
       "      <td>2.667475e+04</td>\n",
       "      <td>1230.099836</td>\n",
       "    </tr>\n",
       "    <tr>\n",
       "      <th>ENST00000398774.6</th>\n",
       "      <td>10020.40</td>\n",
       "      <td>8.118373e+03</td>\n",
       "      <td>7.310102e+03</td>\n",
       "      <td>1.325326e+04</td>\n",
       "      <td>1.116124e+04</td>\n",
       "      <td>9.408025e+03</td>\n",
       "      <td>1.014951e+04</td>\n",
       "      <td>1.188741e+04</td>\n",
       "      <td>1.232951e+04</td>\n",
       "      <td>1.012774e+04</td>\n",
       "      <td>...</td>\n",
       "      <td>9.397827e+03</td>\n",
       "      <td>7.380413e+03</td>\n",
       "      <td>8.732930e+03</td>\n",
       "      <td>9.198922e+03</td>\n",
       "      <td>8.362526e+03</td>\n",
       "      <td>1.140980e+04</td>\n",
       "      <td>9.752938e+03</td>\n",
       "      <td>7.854154e+03</td>\n",
       "      <td>8.474348e+03</td>\n",
       "      <td>1534.005722</td>\n",
       "    </tr>\n",
       "    <tr>\n",
       "      <th>ENST00000436759.6</th>\n",
       "      <td>8148.40</td>\n",
       "      <td>8.405562e+03</td>\n",
       "      <td>9.598272e+03</td>\n",
       "      <td>7.420092e+03</td>\n",
       "      <td>7.600784e+03</td>\n",
       "      <td>7.267723e+03</td>\n",
       "      <td>7.493360e+03</td>\n",
       "      <td>7.480854e+03</td>\n",
       "      <td>6.857828e+03</td>\n",
       "      <td>8.488671e+03</td>\n",
       "      <td>...</td>\n",
       "      <td>6.438701e+03</td>\n",
       "      <td>1.144544e+04</td>\n",
       "      <td>8.321185e+03</td>\n",
       "      <td>9.979484e+03</td>\n",
       "      <td>9.173472e+03</td>\n",
       "      <td>7.653407e+03</td>\n",
       "      <td>8.598112e+03</td>\n",
       "      <td>1.002498e+04</td>\n",
       "      <td>8.807623e+03</td>\n",
       "      <td>1051.990115</td>\n",
       "    </tr>\n",
       "    <tr>\n",
       "      <th>ENST00000361624.2</th>\n",
       "      <td>1284370.00</td>\n",
       "      <td>1.283846e+06</td>\n",
       "      <td>1.283464e+06</td>\n",
       "      <td>1.286379e+06</td>\n",
       "      <td>1.284711e+06</td>\n",
       "      <td>1.283136e+06</td>\n",
       "      <td>1.285371e+06</td>\n",
       "      <td>1.285587e+06</td>\n",
       "      <td>1.283647e+06</td>\n",
       "      <td>1.284244e+06</td>\n",
       "      <td>...</td>\n",
       "      <td>1.283550e+06</td>\n",
       "      <td>1.285262e+06</td>\n",
       "      <td>1.283578e+06</td>\n",
       "      <td>1.283593e+06</td>\n",
       "      <td>1.284985e+06</td>\n",
       "      <td>1.285168e+06</td>\n",
       "      <td>1.285865e+06</td>\n",
       "      <td>1.285518e+06</td>\n",
       "      <td>1.286566e+06</td>\n",
       "      <td>1311.230330</td>\n",
       "    </tr>\n",
       "  </tbody>\n",
       "</table>\n",
       "<p>10 rows × 102 columns</p>\n",
       "</div>"
      ],
      "text/plain": [
       "                   est_counts           bs0           bs1          bs10  \\\n",
       "target_id                                                                 \n",
       "ENST00000394936.7    53103.10  5.431762e+04  5.449100e+04  5.345078e+04   \n",
       "ENST00000394934.4    12492.20  1.135424e+04  1.146331e+04  1.245762e+04   \n",
       "ENST00000551295.6    16025.50  1.845370e+04  1.527778e+04  1.733916e+04   \n",
       "ENST00000347616.5     7014.90  4.614467e+03  7.909358e+03  5.710775e+03   \n",
       "ENST00000616213.4     9228.28  1.013257e+04  8.588807e+03  1.105962e+04   \n",
       "ENST00000620145.4    22847.60  2.332454e+04  2.282165e+04  2.051182e+04   \n",
       "ENST00000620879.4    25456.20  2.562646e+04  2.628262e+04  2.404780e+04   \n",
       "ENST00000398774.6    10020.40  8.118373e+03  7.310102e+03  1.325326e+04   \n",
       "ENST00000436759.6     8148.40  8.405562e+03  9.598272e+03  7.420092e+03   \n",
       "ENST00000361624.2  1284370.00  1.283846e+06  1.283464e+06  1.286379e+06   \n",
       "\n",
       "                           bs11          bs12          bs13          bs14  \\\n",
       "target_id                                                                   \n",
       "ENST00000394936.7  5.306860e+04  5.358967e+04  5.241635e+04  5.180252e+04   \n",
       "ENST00000394934.4  1.239158e+04  1.184080e+04  1.266062e+04  1.436882e+04   \n",
       "ENST00000551295.6  1.575618e+04  1.379531e+04  1.499667e+04  1.727363e+04   \n",
       "ENST00000347616.5  7.237097e+03  9.328102e+03  7.906938e+03  5.618917e+03   \n",
       "ENST00000616213.4  8.418738e+03  6.265018e+03  9.436142e+03  1.084407e+04   \n",
       "ENST00000620145.4  2.311270e+04  2.462709e+04  2.183743e+04  2.302901e+04   \n",
       "ENST00000620879.4  2.605260e+04  2.589020e+04  2.668407e+04  2.824186e+04   \n",
       "ENST00000398774.6  1.116124e+04  9.408025e+03  1.014951e+04  1.188741e+04   \n",
       "ENST00000436759.6  7.600784e+03  7.267723e+03  7.493360e+03  7.480854e+03   \n",
       "ENST00000361624.2  1.284711e+06  1.283136e+06  1.285371e+06  1.285587e+06   \n",
       "\n",
       "                           bs15          bs16     ...               bs91  \\\n",
       "target_id                                         ...                      \n",
       "ENST00000394936.7  5.304778e+04  5.288265e+04     ...       5.171168e+04   \n",
       "ENST00000394934.4  1.304275e+04  1.284033e+04     ...       1.418548e+04   \n",
       "ENST00000551295.6  1.593197e+04  1.437894e+04     ...       1.676415e+04   \n",
       "ENST00000347616.5  7.142708e+03  8.432206e+03     ...       6.184586e+03   \n",
       "ENST00000616213.4  9.781201e+03  9.380707e+03     ...       7.761098e+03   \n",
       "ENST00000620145.4  2.128937e+04  2.381597e+04     ...       2.099864e+04   \n",
       "ENST00000620879.4  2.606891e+04  2.511689e+04     ...       2.542116e+04   \n",
       "ENST00000398774.6  1.232951e+04  1.012774e+04     ...       9.397827e+03   \n",
       "ENST00000436759.6  6.857828e+03  8.488671e+03     ...       6.438701e+03   \n",
       "ENST00000361624.2  1.283647e+06  1.284244e+06     ...       1.283550e+06   \n",
       "\n",
       "                           bs92          bs93          bs94          bs95  \\\n",
       "target_id                                                                   \n",
       "ENST00000394936.7  5.479379e+04  5.309850e+04  5.540951e+04  5.140849e+04   \n",
       "ENST00000394934.4  1.104224e+04  1.237355e+04  1.014449e+04  1.422797e+04   \n",
       "ENST00000551295.6  1.593129e+04  1.750158e+04  1.651256e+04  1.496867e+04   \n",
       "ENST00000347616.5  7.307904e+03  5.665882e+03  6.456928e+03  7.858152e+03   \n",
       "ENST00000616213.4  1.007200e+04  8.576923e+03  8.042896e+03  9.394944e+03   \n",
       "ENST00000620145.4  2.218546e+04  2.349443e+04  2.382544e+04  2.214010e+04   \n",
       "ENST00000620879.4  2.639584e+04  2.796146e+04  2.373137e+04  2.577557e+04   \n",
       "ENST00000398774.6  7.380413e+03  8.732930e+03  9.198922e+03  8.362526e+03   \n",
       "ENST00000436759.6  1.144544e+04  8.321185e+03  9.979484e+03  9.173472e+03   \n",
       "ENST00000361624.2  1.285262e+06  1.283578e+06  1.283593e+06  1.284985e+06   \n",
       "\n",
       "                           bs96          bs97          bs98          bs99  \\\n",
       "target_id                                                                   \n",
       "ENST00000394936.7  5.268185e+04  5.306524e+04  5.048639e+04  5.098360e+04   \n",
       "ENST00000394934.4  1.288520e+04  1.287011e+04  1.480318e+04  1.541866e+04   \n",
       "ENST00000551295.6  1.575809e+04  1.505673e+04  1.659010e+04  1.731081e+04   \n",
       "ENST00000347616.5  7.253801e+03  8.009238e+03  6.479335e+03  5.737030e+03   \n",
       "ENST00000616213.4  8.118562e+03  8.547091e+03  1.068081e+04  1.119986e+04   \n",
       "ENST00000620145.4  2.337195e+04  2.447733e+04  2.149420e+04  2.201560e+04   \n",
       "ENST00000620879.4  2.585177e+04  2.511259e+04  2.348661e+04  2.667475e+04   \n",
       "ENST00000398774.6  1.140980e+04  9.752938e+03  7.854154e+03  8.474348e+03   \n",
       "ENST00000436759.6  7.653407e+03  8.598112e+03  1.002498e+04  8.807623e+03   \n",
       "ENST00000361624.2  1.285168e+06  1.285865e+06  1.285518e+06  1.286566e+06   \n",
       "\n",
       "                           std  \n",
       "target_id                       \n",
       "ENST00000394936.7  1469.710795  \n",
       "ENST00000394934.4  1570.888773  \n",
       "ENST00000551295.6  1322.235271  \n",
       "ENST00000347616.5  1330.573682  \n",
       "ENST00000616213.4  1258.403936  \n",
       "ENST00000620145.4  1088.226827  \n",
       "ENST00000620879.4  1230.099836  \n",
       "ENST00000398774.6  1534.005722  \n",
       "ENST00000436759.6  1051.990115  \n",
       "ENST00000361624.2  1311.230330  \n",
       "\n",
       "[10 rows x 102 columns]"
      ]
     },
     "execution_count": 282,
     "metadata": {},
     "output_type": "execute_result"
    }
   ],
   "source": [
    "df[df['std'] > 1000].head(10)"
   ]
  },
  {
   "cell_type": "markdown",
   "metadata": {},
   "source": [
    "Let's take the mean of each transcript and compare it to the est_count value Kallisto prints in the TSV"
   ]
  },
  {
   "cell_type": "code",
   "execution_count": 283,
   "metadata": {
    "collapsed": true
   },
   "outputs": [],
   "source": [
    "df['mean'] = df[bootstrap_h5.keys()].median(axis=1)"
   ]
  },
  {
   "cell_type": "markdown",
   "metadata": {},
   "source": [
    "Let's look at non-zero est_count values (as they're more interesting)"
   ]
  },
  {
   "cell_type": "code",
   "execution_count": 284,
   "metadata": {
    "collapsed": false
   },
   "outputs": [
    {
     "data": {
      "text/html": [
       "<div>\n",
       "<table border=\"1\" class=\"dataframe\">\n",
       "  <thead>\n",
       "    <tr style=\"text-align: right;\">\n",
       "      <th></th>\n",
       "      <th>est_counts</th>\n",
       "      <th>mean</th>\n",
       "      <th>std</th>\n",
       "    </tr>\n",
       "    <tr>\n",
       "      <th>target_id</th>\n",
       "      <th></th>\n",
       "      <th></th>\n",
       "      <th></th>\n",
       "    </tr>\n",
       "  </thead>\n",
       "  <tbody>\n",
       "    <tr>\n",
       "      <th>ENST00000619216.1</th>\n",
       "      <td>35.968500</td>\n",
       "      <td>35.149333</td>\n",
       "      <td>2.036653</td>\n",
       "    </tr>\n",
       "    <tr>\n",
       "      <th>ENST00000473358.1</th>\n",
       "      <td>7.060260</td>\n",
       "      <td>6.436834</td>\n",
       "      <td>4.076943</td>\n",
       "    </tr>\n",
       "    <tr>\n",
       "      <th>ENST00000461467.1</th>\n",
       "      <td>14.130600</td>\n",
       "      <td>15.480425</td>\n",
       "      <td>6.480863</td>\n",
       "    </tr>\n",
       "    <tr>\n",
       "      <th>ENST00000466430.5</th>\n",
       "      <td>243.096000</td>\n",
       "      <td>237.810827</td>\n",
       "      <td>14.499732</td>\n",
       "    </tr>\n",
       "    <tr>\n",
       "      <th>ENST00000495576.1</th>\n",
       "      <td>0.059745</td>\n",
       "      <td>0.625324</td>\n",
       "      <td>9.490752</td>\n",
       "    </tr>\n",
       "  </tbody>\n",
       "</table>\n",
       "</div>"
      ],
      "text/plain": [
       "                   est_counts        mean        std\n",
       "target_id                                           \n",
       "ENST00000619216.1   35.968500   35.149333   2.036653\n",
       "ENST00000473358.1    7.060260    6.436834   4.076943\n",
       "ENST00000461467.1   14.130600   15.480425   6.480863\n",
       "ENST00000466430.5  243.096000  237.810827  14.499732\n",
       "ENST00000495576.1    0.059745    0.625324   9.490752"
      ]
     },
     "execution_count": 284,
     "metadata": {},
     "output_type": "execute_result"
    }
   ],
   "source": [
    "df[['est_counts', 'mean', 'std']][df['est_counts'] > 0].head()"
   ]
  },
  {
   "cell_type": "code",
   "execution_count": 288,
   "metadata": {
    "collapsed": false
   },
   "outputs": [],
   "source": [
    "log_df = df[df.est_counts > 0]"
   ]
  },
  {
   "cell_type": "code",
   "execution_count": 291,
   "metadata": {
    "collapsed": false
   },
   "outputs": [],
   "source": [
    "log_df = np.log(log_df)"
   ]
  },
  {
   "cell_type": "code",
   "execution_count": 292,
   "metadata": {
    "collapsed": true
   },
   "outputs": [],
   "source": [
    "log_df['std'] = log_df[bootstrap_h5.keys()].std(axis=1)"
   ]
  },
  {
   "cell_type": "code",
   "execution_count": 295,
   "metadata": {
    "collapsed": false
   },
   "outputs": [],
   "source": [
    "log_df = log_df.dropna()"
   ]
  },
  {
   "cell_type": "code",
   "execution_count": 296,
   "metadata": {
    "collapsed": false
   },
   "outputs": [
    {
     "data": {
      "text/html": [
       "<div>\n",
       "<table border=\"1\" class=\"dataframe\">\n",
       "  <thead>\n",
       "    <tr style=\"text-align: right;\">\n",
       "      <th></th>\n",
       "      <th>est_counts</th>\n",
       "      <th>bs0</th>\n",
       "      <th>bs1</th>\n",
       "      <th>bs10</th>\n",
       "      <th>bs11</th>\n",
       "      <th>bs12</th>\n",
       "      <th>bs13</th>\n",
       "      <th>bs14</th>\n",
       "      <th>bs15</th>\n",
       "      <th>bs16</th>\n",
       "      <th>...</th>\n",
       "      <th>bs92</th>\n",
       "      <th>bs93</th>\n",
       "      <th>bs94</th>\n",
       "      <th>bs95</th>\n",
       "      <th>bs96</th>\n",
       "      <th>bs97</th>\n",
       "      <th>bs98</th>\n",
       "      <th>bs99</th>\n",
       "      <th>std</th>\n",
       "      <th>mean</th>\n",
       "    </tr>\n",
       "    <tr>\n",
       "      <th>target_id</th>\n",
       "      <th></th>\n",
       "      <th></th>\n",
       "      <th></th>\n",
       "      <th></th>\n",
       "      <th></th>\n",
       "      <th></th>\n",
       "      <th></th>\n",
       "      <th></th>\n",
       "      <th></th>\n",
       "      <th></th>\n",
       "      <th></th>\n",
       "      <th></th>\n",
       "      <th></th>\n",
       "      <th></th>\n",
       "      <th></th>\n",
       "      <th></th>\n",
       "      <th></th>\n",
       "      <th></th>\n",
       "      <th></th>\n",
       "      <th></th>\n",
       "      <th></th>\n",
       "    </tr>\n",
       "  </thead>\n",
       "  <tbody>\n",
       "    <tr>\n",
       "      <th>ENST00000619216.1</th>\n",
       "      <td>1.276101</td>\n",
       "      <td>1.267317</td>\n",
       "      <td>1.281216</td>\n",
       "      <td>1.277758</td>\n",
       "      <td>1.289159</td>\n",
       "      <td>1.273267</td>\n",
       "      <td>1.278121</td>\n",
       "      <td>1.270588</td>\n",
       "      <td>1.258708</td>\n",
       "      <td>1.287820</td>\n",
       "      <td>...</td>\n",
       "      <td>1.249727</td>\n",
       "      <td>1.261355</td>\n",
       "      <td>1.264101</td>\n",
       "      <td>1.246869</td>\n",
       "      <td>1.287005</td>\n",
       "      <td>1.251053</td>\n",
       "      <td>1.236687</td>\n",
       "      <td>1.269879</td>\n",
       "      <td>0.016370</td>\n",
       "      <td>1.269650</td>\n",
       "    </tr>\n",
       "    <tr>\n",
       "      <th>ENST00000466430.5</th>\n",
       "      <td>1.703558</td>\n",
       "      <td>1.690303</td>\n",
       "      <td>1.689049</td>\n",
       "      <td>1.700841</td>\n",
       "      <td>1.688207</td>\n",
       "      <td>1.715929</td>\n",
       "      <td>1.692803</td>\n",
       "      <td>1.703230</td>\n",
       "      <td>1.702596</td>\n",
       "      <td>1.662007</td>\n",
       "      <td>...</td>\n",
       "      <td>1.689384</td>\n",
       "      <td>1.697945</td>\n",
       "      <td>1.705019</td>\n",
       "      <td>1.703436</td>\n",
       "      <td>1.682507</td>\n",
       "      <td>1.698718</td>\n",
       "      <td>1.680224</td>\n",
       "      <td>1.693045</td>\n",
       "      <td>0.011417</td>\n",
       "      <td>1.699548</td>\n",
       "    </tr>\n",
       "    <tr>\n",
       "      <th>ENST00000484859.1</th>\n",
       "      <td>1.786002</td>\n",
       "      <td>1.795081</td>\n",
       "      <td>1.800396</td>\n",
       "      <td>1.770134</td>\n",
       "      <td>1.788137</td>\n",
       "      <td>1.785467</td>\n",
       "      <td>1.782888</td>\n",
       "      <td>1.776645</td>\n",
       "      <td>1.785739</td>\n",
       "      <td>1.783258</td>\n",
       "      <td>...</td>\n",
       "      <td>1.762942</td>\n",
       "      <td>1.777993</td>\n",
       "      <td>1.785468</td>\n",
       "      <td>1.798201</td>\n",
       "      <td>1.784983</td>\n",
       "      <td>1.799318</td>\n",
       "      <td>1.787448</td>\n",
       "      <td>1.793562</td>\n",
       "      <td>0.011954</td>\n",
       "      <td>1.785907</td>\n",
       "    </tr>\n",
       "    <tr>\n",
       "      <th>ENST00000466557.6</th>\n",
       "      <td>1.771970</td>\n",
       "      <td>1.768978</td>\n",
       "      <td>1.775765</td>\n",
       "      <td>1.756862</td>\n",
       "      <td>1.766431</td>\n",
       "      <td>1.773789</td>\n",
       "      <td>1.779823</td>\n",
       "      <td>1.770098</td>\n",
       "      <td>1.774809</td>\n",
       "      <td>1.771627</td>\n",
       "      <td>...</td>\n",
       "      <td>1.774095</td>\n",
       "      <td>1.783860</td>\n",
       "      <td>1.794134</td>\n",
       "      <td>1.754229</td>\n",
       "      <td>1.765330</td>\n",
       "      <td>1.764508</td>\n",
       "      <td>1.766978</td>\n",
       "      <td>1.772583</td>\n",
       "      <td>0.010889</td>\n",
       "      <td>1.769768</td>\n",
       "    </tr>\n",
       "    <tr>\n",
       "      <th>ENST00000491962.1</th>\n",
       "      <td>1.374013</td>\n",
       "      <td>1.365271</td>\n",
       "      <td>1.358339</td>\n",
       "      <td>1.387462</td>\n",
       "      <td>1.406981</td>\n",
       "      <td>1.372857</td>\n",
       "      <td>1.364253</td>\n",
       "      <td>1.349710</td>\n",
       "      <td>1.368748</td>\n",
       "      <td>1.355719</td>\n",
       "      <td>...</td>\n",
       "      <td>1.379666</td>\n",
       "      <td>1.322895</td>\n",
       "      <td>1.371931</td>\n",
       "      <td>1.355755</td>\n",
       "      <td>1.407389</td>\n",
       "      <td>1.376481</td>\n",
       "      <td>1.318451</td>\n",
       "      <td>1.360450</td>\n",
       "      <td>0.029973</td>\n",
       "      <td>1.372455</td>\n",
       "    </tr>\n",
       "  </tbody>\n",
       "</table>\n",
       "<p>5 rows × 103 columns</p>\n",
       "</div>"
      ],
      "text/plain": [
       "                   est_counts       bs0       bs1      bs10      bs11  \\\n",
       "target_id                                                               \n",
       "ENST00000619216.1    1.276101  1.267317  1.281216  1.277758  1.289159   \n",
       "ENST00000466430.5    1.703558  1.690303  1.689049  1.700841  1.688207   \n",
       "ENST00000484859.1    1.786002  1.795081  1.800396  1.770134  1.788137   \n",
       "ENST00000466557.6    1.771970  1.768978  1.775765  1.756862  1.766431   \n",
       "ENST00000491962.1    1.374013  1.365271  1.358339  1.387462  1.406981   \n",
       "\n",
       "                       bs12      bs13      bs14      bs15      bs16    ...     \\\n",
       "target_id                                                              ...      \n",
       "ENST00000619216.1  1.273267  1.278121  1.270588  1.258708  1.287820    ...      \n",
       "ENST00000466430.5  1.715929  1.692803  1.703230  1.702596  1.662007    ...      \n",
       "ENST00000484859.1  1.785467  1.782888  1.776645  1.785739  1.783258    ...      \n",
       "ENST00000466557.6  1.773789  1.779823  1.770098  1.774809  1.771627    ...      \n",
       "ENST00000491962.1  1.372857  1.364253  1.349710  1.368748  1.355719    ...      \n",
       "\n",
       "                       bs92      bs93      bs94      bs95      bs96      bs97  \\\n",
       "target_id                                                                       \n",
       "ENST00000619216.1  1.249727  1.261355  1.264101  1.246869  1.287005  1.251053   \n",
       "ENST00000466430.5  1.689384  1.697945  1.705019  1.703436  1.682507  1.698718   \n",
       "ENST00000484859.1  1.762942  1.777993  1.785468  1.798201  1.784983  1.799318   \n",
       "ENST00000466557.6  1.774095  1.783860  1.794134  1.754229  1.765330  1.764508   \n",
       "ENST00000491962.1  1.379666  1.322895  1.371931  1.355755  1.407389  1.376481   \n",
       "\n",
       "                       bs98      bs99       std      mean  \n",
       "target_id                                                  \n",
       "ENST00000619216.1  1.236687  1.269879  0.016370  1.269650  \n",
       "ENST00000466430.5  1.680224  1.693045  0.011417  1.699548  \n",
       "ENST00000484859.1  1.787448  1.793562  0.011954  1.785907  \n",
       "ENST00000466557.6  1.766978  1.772583  0.010889  1.769768  \n",
       "ENST00000491962.1  1.318451  1.360450  0.029973  1.372455  \n",
       "\n",
       "[5 rows x 103 columns]"
      ]
     },
     "execution_count": 296,
     "metadata": {},
     "output_type": "execute_result"
    }
   ],
   "source": [
    "log_df.head()"
   ]
  },
  {
   "cell_type": "markdown",
   "metadata": {},
   "source": [
    "Compare the mean we get from the bootstraps and the est_counts value to ensure they're not that different"
   ]
  },
  {
   "cell_type": "code",
   "execution_count": 303,
   "metadata": {
    "collapsed": false,
    "scrolled": false
   },
   "outputs": [
    {
     "data": {
      "text/plain": [
       "<seaborn.axisgrid.JointGrid at 0x14b58d090>"
      ]
     },
     "execution_count": 303,
     "metadata": {},
     "output_type": "execute_result"
    },
    {
     "data": {
      "image/png": "[encoded data removed]",
      "text/plain": [
       "<matplotlib.figure.Figure at 0x14bf1b890>"
      ]
     },
     "metadata": {},
     "output_type": "display_data"
    }
   ],
   "source": [
    "sns.jointplot('est_counts', 'mean', log_df, alpha=0.2)"
   ]
  },
  {
   "cell_type": "markdown",
   "metadata": {},
   "source": [
    "Let's look at the relationship between standard deviation of the boot straps and the est_counts value.  We'd assume that there'd be a mostly linear relationship between how large the standard deviations are and the size of the count value."
   ]
  },
  {
   "cell_type": "code",
   "execution_count": 302,
   "metadata": {
    "collapsed": false,
    "scrolled": false
   },
   "outputs": [
    {
     "data": {
      "text/plain": [
       "<seaborn.axisgrid.JointGrid at 0x14b58db90>"
      ]
     },
     "execution_count": 302,
     "metadata": {},
     "output_type": "execute_result"
    },
    {
     "data": {
      "image/png": "[encoded data removed]",
      "text/plain": [
       "<matplotlib.figure.Figure at 0x14b58ded0>"
      ]
     },
     "metadata": {},
     "output_type": "display_data"
    }
   ],
   "source": [
    "sns.jointplot('est_counts', 'std', log_df, alpha=0.2)"
   ]
  },
  {
   "cell_type": "code",
   "execution_count": 299,
   "metadata": {
    "collapsed": false
   },
   "outputs": [
    {
     "data": {
      "text/plain": [
       "PCA(copy=True, n_components=2, whiten=False)"
      ]
     },
     "execution_count": 299,
     "metadata": {},
     "output_type": "execute_result"
    }
   ],
   "source": [
    "from sklearn.decomposition import PCA\n",
    "pca = PCA(n_components=2)\n",
    "pca.fit(log_df[bootstrap_h5.keys()].T)"
   ]
  },
  {
   "cell_type": "code",
   "execution_count": 300,
   "metadata": {
    "collapsed": false
   },
   "outputs": [
    {
     "data": {
      "text/plain": [
       "<matplotlib.collections.PathCollection at 0x14b238d10>"
      ]
     },
     "execution_count": 300,
     "metadata": {},
     "output_type": "execute_result"
    },
    {
     "data": {
      "image/png": "[encoded data removed]",
      "text/plain": [
       "<matplotlib.figure.Figure at 0x14b1f2250>"
      ]
     },
     "metadata": {},
     "output_type": "display_data"
    }
   ],
   "source": [
    "plt.scatter(pca.components_[0], pca.components_[1])"
   ]
  },
  {
   "cell_type": "markdown",
   "metadata": {},
   "source": [
    "## Analysis of 20 Randomly Selected Transcripts across 10 Kallisto Samples\n",
    "I'll pull Kallisto data from 10 samples done in our RNA-seq recompute and analyze the results. "
   ]
  },
  {
   "cell_type": "code",
   "execution_count": 449,
   "metadata": {
    "collapsed": false
   },
   "outputs": [],
   "source": [
    "h5_samples = [os.path.join('samples', x) for x in os.listdir('samples') if 'h5' in x]\n",
    "tsv_samples = [os.path.join('samples', x) for x in os.listdir('samples') if 'tsv' in x]"
   ]
  },
  {
   "cell_type": "markdown",
   "metadata": {},
   "source": [
    "Create dictionary for dataframes and process"
   ]
  },
  {
   "cell_type": "code",
   "execution_count": 450,
   "metadata": {
    "collapsed": true
   },
   "outputs": [],
   "source": [
    "h5 = {}"
   ]
  },
  {
   "cell_type": "code",
   "execution_count": 451,
   "metadata": {
    "collapsed": false,
    "scrolled": true
   },
   "outputs": [
    {
     "name": "stdout",
     "output_type": "stream",
     "text": [
      "Creating Dataframe from file: samples/gtex_1.h5\n",
      "Creating Dataframe from file: samples/gtex_2.h5\n",
      "Creating Dataframe from file: samples/gtex_3.h5\n",
      "Creating Dataframe from file: samples/gtex_4.h5\n",
      "Creating Dataframe from file: samples/target_1.h5\n",
      "Creating Dataframe from file: samples/target_2.h5\n",
      "Creating Dataframe from file: samples/tcga_1.h5\n",
      "Creating Dataframe from file: samples/tcga_2.h5\n",
      "Creating Dataframe from file: samples/tcga_3.h5\n",
      "Creating Dataframe from file: samples/tcga_4.h5\n"
     ]
    }
   ],
   "source": [
    "for h5_sample, tsv_sample in zip(h5_samples, tsv_samples):\n",
    "    print('Creating Dataframe from file: {}'.format(h5_sample))\n",
    "    store = h5py.File(h5_sample)\n",
    "    bootstrap_h5 = store['bootstrap']\n",
    "    df_tsv = pd.read_table(tsv_sample, sep='\\t')\n",
    "    df = pd.DataFrame()\n",
    "    df['est_counts'] = np.log(df_tsv.est_counts)\n",
    "    for key in bootstrap_h5.keys():\n",
    "        df[key] = np.log(bootstrap_h5[key])\n",
    "    df.index = df_tsv.target_id\n",
    "    df['mean'] = df[bootstrap_h5.keys()].median(axis=1)    \n",
    "    df['std'] = df[bootstrap_h5.keys()].std(axis=1)\n",
    "    df = df.replace(-np.inf, np.nan).dropna()\n",
    "    h5[os.path.basename(h5_sample).split('.')[0]] = df"
   ]
  },
  {
   "cell_type": "code",
   "execution_count": 460,
   "metadata": {
    "collapsed": false
   },
   "outputs": [],
   "source": [
    "gtex_h5 = {x: y for x, y in h5.iteritems() if 'gtex' in x}\n",
    "target_h5 = {x: y for x, y in h5.iteritems() if 'target' in x}\n",
    "tcga_h5 = {x: y for x, y in h5.iteritems() if 'tcga' in x}\n",
    "h5_group = [tcga_h5, target_h5, gtex_h5]"
   ]
  },
  {
   "cell_type": "markdown",
   "metadata": {},
   "source": [
    "## Plotting"
   ]
  },
  {
   "cell_type": "markdown",
   "metadata": {},
   "source": [
    "Create union set of non-zero transcripts from all 10 samples"
   ]
  },
  {
   "cell_type": "code",
   "execution_count": 452,
   "metadata": {
    "collapsed": true
   },
   "outputs": [],
   "source": [
    "transcripts = []\n",
    "for key in h5:\n",
    "    transcripts.append(h5[key].index)"
   ]
  },
  {
   "cell_type": "code",
   "execution_count": 453,
   "metadata": {
    "collapsed": false
   },
   "outputs": [],
   "source": [
    "seed = set(transcripts[0])\n",
    "for t in transcripts:\n",
    "    seed = seed.intersection(set(t))"
   ]
  },
  {
   "cell_type": "markdown",
   "metadata": {},
   "source": [
    "Select 10 transcripts at random"
   ]
  },
  {
   "cell_type": "code",
   "execution_count": 454,
   "metadata": {
    "collapsed": true
   },
   "outputs": [],
   "source": [
    "num_transcripts = 10"
   ]
  },
  {
   "cell_type": "code",
   "execution_count": 469,
   "metadata": {
    "collapsed": true
   },
   "outputs": [],
   "source": [
    "random_set = random.sample(seed, num_transcripts)"
   ]
  },
  {
   "cell_type": "code",
   "execution_count": null,
   "metadata": {
    "collapsed": false,
    "scrolled": false
   },
   "outputs": [],
   "source": [
    "sns.set_style('whitegrid')\n",
    "f, axarr = plt.subplots(num_transcripts, 3, figsize=(10, 24))\n",
    "for i, transcript in enumerate(random_set):\n",
    "    for j in xrange(len(h5_group)):\n",
    "        for k, sample in enumerate(h5_group[j].keys()):\n",
    "            sns.distplot(h5_group[j][sample].loc[transcript], ax=axarr[i, j], axlabel=False, label=sample)\n",
    "        axarr[i, j].legend(loc='center left', ncol=1)\n",
    "    axarr[i, 0].set_ylabel(transcript)\n",
    "axarr[0, 0].set_title('TCGA')\n",
    "axarr[0, 1].set_title('TARGET')\n",
    "axarr[0, 2].set_title('GTEx')\n",
    "axarr[-1, 1].set_xlabel('Log of Estimated Counts')\n",
    "plt.savefig('Distributions_set2.pdf')"
   ]
  },
  {
   "cell_type": "code",
   "execution_count": 414,
   "metadata": {
    "collapsed": false
   },
   "outputs": [],
   "source": [
    "random_sample = h5[random.sample(h5.keys(), 1)[0]]"
   ]
  },
  {
   "cell_type": "code",
   "execution_count": 441,
   "metadata": {
    "collapsed": false,
    "scrolled": false
   },
   "outputs": [
    {
     "data": {
      "image/png": "[encoded data removed]",
      "text/plain": [
       "<matplotlib.figure.Figure at 0x24ce3c990>"
      ]
     },
     "metadata": {},
     "output_type": "display_data"
    },
    {
     "data": {
      "image/png": "[encoded data removed]",
      "text/plain": [
       "<matplotlib.figure.Figure at 0x428782d50>"
      ]
     },
     "metadata": {},
     "output_type": "display_data"
    },
    {
     "data": {
      "image/png": "[encoded data removed]",
      "text/plain": [
       "<matplotlib.figure.Figure at 0x21da102d0>"
      ]
     },
     "metadata": {},
     "output_type": "display_data"
    },
    {
     "data": {
      "image/png": "[encoded data removed]",
      "text/plain": [
       "<matplotlib.figure.Figure at 0x2221a7250>"
      ]
     },
     "metadata": {},
     "output_type": "display_data"
    },
    {
     "data": {
      "image/png": "[encoded data removed]",
      "text/plain": [
       "<matplotlib.figure.Figure at 0x2509584d0>"
      ]
     },
     "metadata": {},
     "output_type": "display_data"
    }
   ],
   "source": [
    "for j in xrange(5):\n",
    "    for i in xrange(10):\n",
    "        sns.distplot(random_sample.loc[random.sample(random_sample.index, 1)[0]])\n",
    "    plt.show()"
   ]
  },
  {
   "cell_type": "code",
   "execution_count": null,
   "metadata": {
    "collapsed": true
   },
   "outputs": [],
   "source": []
  },
  {
   "cell_type": "code",
   "execution_count": null,
   "metadata": {
    "collapsed": true
   },
   "outputs": [],
   "source": []
  },
  {
   "cell_type": "code",
   "execution_count": null,
   "metadata": {
    "collapsed": true
   },
   "outputs": [],
   "source": []
  },
  {
   "cell_type": "code",
   "execution_count": null,
   "metadata": {
    "collapsed": true
   },
   "outputs": [],
   "source": []
  },
  {
   "cell_type": "code",
   "execution_count": null,
   "metadata": {
    "collapsed": true
   },
   "outputs": [],
   "source": []
  },
  {
   "cell_type": "code",
   "execution_count": null,
   "metadata": {
    "collapsed": true
   },
   "outputs": [],
   "source": []
  },
  {
   "cell_type": "code",
   "execution_count": null,
   "metadata": {
    "collapsed": true
   },
   "outputs": [],
   "source": []
  },
  {
   "cell_type": "code",
   "execution_count": null,
   "metadata": {
    "collapsed": true
   },
   "outputs": [],
   "source": []
  },
  {
   "cell_type": "code",
   "execution_count": null,
   "metadata": {
    "collapsed": true
   },
   "outputs": [],
   "source": []
  },
  {
   "cell_type": "code",
   "execution_count": null,
   "metadata": {
    "collapsed": true
   },
   "outputs": [],
   "source": []
  },
  {
   "cell_type": "code",
   "execution_count": null,
   "metadata": {
    "collapsed": true
   },
   "outputs": [],
   "source": []
  },
  {
   "cell_type": "code",
   "execution_count": null,
   "metadata": {
    "collapsed": true
   },
   "outputs": [],
   "source": []
  },
  {
   "cell_type": "code",
   "execution_count": null,
   "metadata": {
    "collapsed": true
   },
   "outputs": [],
   "source": []
  },
  {
   "cell_type": "code",
   "execution_count": null,
   "metadata": {
    "collapsed": true
   },
   "outputs": [],
   "source": []
  },
  {
   "cell_type": "code",
   "execution_count": null,
   "metadata": {
    "collapsed": true
   },
   "outputs": [],
   "source": []
  },
  {
   "cell_type": "code",
   "execution_count": null,
   "metadata": {
    "collapsed": true
   },
   "outputs": [],
   "source": []
  },
  {
   "cell_type": "code",
   "execution_count": null,
   "metadata": {
    "collapsed": true
   },
   "outputs": [],
   "source": []
  },
  {
   "cell_type": "code",
   "execution_count": null,
   "metadata": {
    "collapsed": true
   },
   "outputs": [],
   "source": []
  },
  {
   "cell_type": "code",
   "execution_count": null,
   "metadata": {
    "collapsed": true
   },
   "outputs": [],
   "source": []
  },
  {
   "cell_type": "code",
   "execution_count": null,
   "metadata": {
    "collapsed": true
   },
   "outputs": [],
   "source": []
  },
  {
   "cell_type": "code",
   "execution_count": null,
   "metadata": {
    "collapsed": true
   },
   "outputs": [],
   "source": []
  },
  {
   "cell_type": "code",
   "execution_count": null,
   "metadata": {
    "collapsed": true
   },
   "outputs": [],
   "source": []
  },
  {
   "cell_type": "code",
   "execution_count": null,
   "metadata": {
    "collapsed": true
   },
   "outputs": [],
   "source": []
  },
  {
   "cell_type": "code",
   "execution_count": null,
   "metadata": {
    "collapsed": true
   },
   "outputs": [],
   "source": []
  },
  {
   "cell_type": "code",
   "execution_count": null,
   "metadata": {
    "collapsed": true
   },
   "outputs": [],
   "source": []
  },
  {
   "cell_type": "code",
   "execution_count": null,
   "metadata": {
    "collapsed": true
   },
   "outputs": [],
   "source": []
  }
 ],
 "metadata": {
  "kernelspec": {
   "display_name": "Python 2",
   "language": "python",
   "name": "python2"
  },
  "language_info": {
   "codemirror_mode": {
    "name": "ipython",
    "version": 2
   },
   "file_extension": ".py",
   "mimetype": "text/x-python",
   "name": "python",
   "nbconvert_exporter": "python",
   "pygments_lexer": "ipython2",
   "version": "2.7.11"
  }
 },
 "nbformat": 4,
 "nbformat_minor": 0
}
