{
 "cells": [
  {
   "cell_type": "markdown",
   "metadata": {},
   "source": [
    "# A Look at the gTEX RNA-Seq Dataset"
   ]
  },
  {
   "cell_type": "code",
   "execution_count": 75,
   "metadata": {
    "collapsed": true
   },
   "outputs": [],
   "source": [
    "%matplotlib inline\n",
    "import pandas as pd\n",
    "import numpy as np\n",
    "import matplotlib.pyplot as plt\n",
    "import seaborn as sns"
   ]
  },
  {
   "cell_type": "code",
   "execution_count": 76,
   "metadata": {
    "collapsed": false
   },
   "outputs": [
    {
     "data": {
      "text/html": [
       "<style>body {\n",
       "    margin: 0;\n",
       "    font-family: Helvetica;\n",
       "}\n",
       "table.dataframe {\n",
       "    border-collapse: collapse;\n",
       "    border: none;\n",
       "}\n",
       "table.dataframe tr {\n",
       "    border: none;\n",
       "}\n",
       "table.dataframe td, table.dataframe th {\n",
       "    margin: 0;\n",
       "    border: 1px solid white;\n",
       "    padding-left: 0.25em;\n",
       "    padding-right: 0.25em;\n",
       "}\n",
       "table.dataframe th:not(:empty) {\n",
       "    background-color: #fec;\n",
       "    text-align: left;\n",
       "    font-weight: normal;\n",
       "}\n",
       "table.dataframe tr:nth-child(2) th:empty {\n",
       "    border-left: none;\n",
       "    border-right: 1px dashed #888;\n",
       "}\n",
       "table.dataframe td {\n",
       "    border: 2px solid #ccf;\n",
       "    background-color: #f4f4ff;\n",
       "}\n",
       "h3 {\n",
       "    color: white;\n",
       "    background-color: black;\n",
       "    padding: 0.5em;\n",
       "}\n",
       "</style>"
      ],
      "text/plain": [
       "<IPython.core.display.HTML object>"
      ]
     },
     "execution_count": 76,
     "metadata": {},
     "output_type": "execute_result"
    }
   ],
   "source": [
    "from IPython.core.display import HTML\n",
    "css = open('style-table.css').read() + open('style-notebook.css').read()\n",
    "HTML('<style>{}</style>'.format(css))"
   ]
  },
  {
   "cell_type": "code",
   "execution_count": 82,
   "metadata": {
    "collapsed": true
   },
   "outputs": [],
   "source": [
    "df = pd.read_table('SraRunTable.txt', sep='\\t')"
   ]
  },
  {
   "cell_type": "code",
   "execution_count": 83,
   "metadata": {
    "collapsed": false
   },
   "outputs": [],
   "source": [
    "df = df[['BioSample_s', 'LibraryLayout_s', 'MBytes_l', 'Run_s', 'Sample_Name_s', 'sex_s', 'body_site_s', 'Platform_s']]"
   ]
  },
  {
   "cell_type": "code",
   "execution_count": 106,
   "metadata": {
    "collapsed": false
   },
   "outputs": [
    {
     "data": {
      "text/html": [
       "<div>\n",
       "<table border=\"1\" class=\"dataframe\">\n",
       "  <thead>\n",
       "    <tr style=\"text-align: right;\">\n",
       "      <th></th>\n",
       "      <th>BioSample_s</th>\n",
       "      <th>LibraryLayout_s</th>\n",
       "      <th>MBytes_l</th>\n",
       "      <th>Run_s</th>\n",
       "      <th>Sample_Name_s</th>\n",
       "      <th>sex_s</th>\n",
       "      <th>body_site_s</th>\n",
       "      <th>Platform_s</th>\n",
       "    </tr>\n",
       "  </thead>\n",
       "  <tbody>\n",
       "    <tr>\n",
       "      <th>0</th>\n",
       "      <td>SAMN03877663</td>\n",
       "      <td>PAIRED</td>\n",
       "      <td>67</td>\n",
       "      <td>SRR2135283</td>\n",
       "      <td>GTEX-SUCS-0226-SM-5CHQG_rep1</td>\n",
       "      <td>male</td>\n",
       "      <td>Thyroid</td>\n",
       "      <td>ILLUMINA</td>\n",
       "    </tr>\n",
       "    <tr>\n",
       "      <th>1</th>\n",
       "      <td>SAMN03877676</td>\n",
       "      <td>PAIRED</td>\n",
       "      <td>51</td>\n",
       "      <td>SRR2135284</td>\n",
       "      <td>GTEX-SUCS-0226-SM-5CHQG_rep2</td>\n",
       "      <td>male</td>\n",
       "      <td>Thyroid</td>\n",
       "      <td>ILLUMINA</td>\n",
       "    </tr>\n",
       "    <tr>\n",
       "      <th>2</th>\n",
       "      <td>SAMN03877803</td>\n",
       "      <td>PAIRED</td>\n",
       "      <td>36</td>\n",
       "      <td>SRR2135285</td>\n",
       "      <td>GTEX-SUCS-1326-SM-5CHQI_rep1</td>\n",
       "      <td>male</td>\n",
       "      <td>Testis</td>\n",
       "      <td>ILLUMINA</td>\n",
       "    </tr>\n",
       "    <tr>\n",
       "      <th>3</th>\n",
       "      <td>SAMN03878238</td>\n",
       "      <td>PAIRED</td>\n",
       "      <td>47</td>\n",
       "      <td>SRR2135286</td>\n",
       "      <td>GTEX-WEY5-1826-SM-5CHRT_rep2</td>\n",
       "      <td>female</td>\n",
       "      <td>Skin - Sun Exposed (Lower leg)</td>\n",
       "      <td>ILLUMINA</td>\n",
       "    </tr>\n",
       "    <tr>\n",
       "      <th>4</th>\n",
       "      <td>SAMN03877587</td>\n",
       "      <td>PAIRED</td>\n",
       "      <td>55</td>\n",
       "      <td>SRR2135287</td>\n",
       "      <td>GTEX-WFG8-0126-SM-5CHTB_rep1</td>\n",
       "      <td>male</td>\n",
       "      <td>Adrenal Gland</td>\n",
       "      <td>ILLUMINA</td>\n",
       "    </tr>\n",
       "  </tbody>\n",
       "</table>\n",
       "</div>"
      ],
      "text/plain": [
       "    BioSample_s LibraryLayout_s  MBytes_l       Run_s  \\\n",
       "0  SAMN03877663          PAIRED        67  SRR2135283   \n",
       "1  SAMN03877676          PAIRED        51  SRR2135284   \n",
       "2  SAMN03877803          PAIRED        36  SRR2135285   \n",
       "3  SAMN03878238          PAIRED        47  SRR2135286   \n",
       "4  SAMN03877587          PAIRED        55  SRR2135287   \n",
       "\n",
       "                  Sample_Name_s   sex_s                     body_site_s  \\\n",
       "0  GTEX-SUCS-0226-SM-5CHQG_rep1    male                         Thyroid   \n",
       "1  GTEX-SUCS-0226-SM-5CHQG_rep2    male                         Thyroid   \n",
       "2  GTEX-SUCS-1326-SM-5CHQI_rep1    male                          Testis   \n",
       "3  GTEX-WEY5-1826-SM-5CHRT_rep2  female  Skin - Sun Exposed (Lower leg)   \n",
       "4  GTEX-WFG8-0126-SM-5CHTB_rep1    male                   Adrenal Gland   \n",
       "\n",
       "  Platform_s  \n",
       "0   ILLUMINA  \n",
       "1   ILLUMINA  \n",
       "2   ILLUMINA  \n",
       "3   ILLUMINA  \n",
       "4   ILLUMINA  "
      ]
     },
     "execution_count": 106,
     "metadata": {},
     "output_type": "execute_result"
    }
   ],
   "source": [
    "df.head()"
   ]
  },
  {
   "cell_type": "code",
   "execution_count": 85,
   "metadata": {
    "collapsed": false
   },
   "outputs": [
    {
     "name": "stdout",
     "output_type": "stream",
     "text": [
      "Number of samples: 9795\n",
      "Min: 0.00GB\n",
      "Max: 27.00GB\n",
      "Avg: 3.28GB\n",
      "Total: 32142.19GB or 31.39TB\n"
     ]
    }
   ],
   "source": [
    "print('Number of samples: %i' % len(df))\n",
    "print('Min: %.2fGB' % min(df['MBytes_l'] / 1024))\n",
    "print('Max: %.2fGB' % max(df['MBytes_l'] / 1024))\n",
    "print('Avg: %.2fGB' % np.mean(df['MBytes_l'] / 1024))\n",
    "print('Total: %.2fGB or %.2fTB' % (sum(df['MBytes_l'] / 1024), sum(df['MBytes_l'] / 1024 / 1024)))"
   ]
  },
  {
   "cell_type": "code",
   "execution_count": 86,
   "metadata": {
    "collapsed": false
   },
   "outputs": [
    {
     "data": {
      "text/plain": [
       "(0, 30)"
      ]
     },
     "execution_count": 86,
     "metadata": {},
     "output_type": "execute_result"
    },
    {
     "data": {
      "image/png": "[encoded data removed]",
      "text/plain": [
       "<matplotlib.figure.Figure at 0x10a847750>"
      ]
     },
     "metadata": {},
     "output_type": "display_data"
    }
   ],
   "source": [
    "f, (ax1, ax2) = plt.subplots(2)\n",
    "sns.boxplot(df['MBytes_l'] / 1024, ax=ax1)\n",
    "sns.kdeplot(df['MBytes_l'] / 1024, ax=ax2, shade=True)\n",
    "plt.xlim([0,30])"
   ]
  },
  {
   "cell_type": "markdown",
   "metadata": {},
   "source": [
    "How many of these samples are Single versus Paired? The difference will change how we acquire the data from dbGaP."
   ]
  },
  {
   "cell_type": "code",
   "execution_count": 43,
   "metadata": {
    "collapsed": false
   },
   "outputs": [
    {
     "data": {
      "text/plain": [
       "LibraryLayout_s\n",
       "PAIRED    9777\n",
       "SINGLE      18\n",
       "dtype: int64"
      ]
     },
     "execution_count": 43,
     "metadata": {},
     "output_type": "execute_result"
    }
   ],
   "source": [
    "df.groupby('LibraryLayout_s').size()"
   ]
  },
  {
   "cell_type": "code",
   "execution_count": 121,
   "metadata": {
    "collapsed": false
   },
   "outputs": [
    {
     "data": {
      "text/html": [
       "<div>\n",
       "<table border=\"1\" class=\"dataframe\">\n",
       "  <thead>\n",
       "    <tr style=\"text-align: right;\">\n",
       "      <th></th>\n",
       "      <th>BioSample_s</th>\n",
       "      <th>LibraryLayout_s</th>\n",
       "      <th>MBytes_l</th>\n",
       "      <th>Run_s</th>\n",
       "      <th>Sample_Name_s</th>\n",
       "      <th>sex_s</th>\n",
       "      <th>body_site_s</th>\n",
       "      <th>Platform_s</th>\n",
       "    </tr>\n",
       "  </thead>\n",
       "  <tbody>\n",
       "    <tr>\n",
       "      <th>206</th>\n",
       "      <td>SAMN00992539</td>\n",
       "      <td>SINGLE</td>\n",
       "      <td>6966</td>\n",
       "      <td>SRR599025</td>\n",
       "      <td>GTEX-QMRM-0526-SM-2I5GA</td>\n",
       "      <td>male</td>\n",
       "      <td>Heart - Left Ventricle</td>\n",
       "      <td>ILLUMINA</td>\n",
       "    </tr>\n",
       "    <tr>\n",
       "      <th>228</th>\n",
       "      <td>SAMN00992965</td>\n",
       "      <td>SINGLE</td>\n",
       "      <td>5778</td>\n",
       "      <td>SRR599086</td>\n",
       "      <td>GTEX-PSDG-0926-SM-2I5FP</td>\n",
       "      <td>male</td>\n",
       "      <td>Heart - Left Ventricle</td>\n",
       "      <td>ILLUMINA</td>\n",
       "    </tr>\n",
       "    <tr>\n",
       "      <th>236</th>\n",
       "      <td>SAMN00992461</td>\n",
       "      <td>SINGLE</td>\n",
       "      <td>5111</td>\n",
       "      <td>SRR599281</td>\n",
       "      <td>GTEX-OXRO-0006-SM-2I5EM</td>\n",
       "      <td>female</td>\n",
       "      <td>Whole Blood</td>\n",
       "      <td>ILLUMINA</td>\n",
       "    </tr>\n",
       "    <tr>\n",
       "      <th>243</th>\n",
       "      <td>SAMN00992769</td>\n",
       "      <td>SINGLE</td>\n",
       "      <td>6916</td>\n",
       "      <td>SRR599380</td>\n",
       "      <td>GTEX-QLQ7-0526-SM-2I5G3</td>\n",
       "      <td>male</td>\n",
       "      <td>Heart - Left Ventricle</td>\n",
       "      <td>ILLUMINA</td>\n",
       "    </tr>\n",
       "    <tr>\n",
       "      <th>245</th>\n",
       "      <td>SAMN00992450</td>\n",
       "      <td>SINGLE</td>\n",
       "      <td>5207</td>\n",
       "      <td>SRR598894</td>\n",
       "      <td>GTEX-OHPN-0011-R7A-SM-2I5FI</td>\n",
       "      <td>female</td>\n",
       "      <td>Brain - Putamen (basal ganglia)</td>\n",
       "      <td>ILLUMINA</td>\n",
       "    </tr>\n",
       "    <tr>\n",
       "      <th>251</th>\n",
       "      <td>SAMN00992478</td>\n",
       "      <td>SINGLE</td>\n",
       "      <td>11678</td>\n",
       "      <td>SRR599510</td>\n",
       "      <td>GTEX-OHPN-0011-R10A-SM-2I5FL</td>\n",
       "      <td>female</td>\n",
       "      <td>Brain - Frontal Cortex (BA9)</td>\n",
       "      <td>ILLUMINA</td>\n",
       "    </tr>\n",
       "    <tr>\n",
       "      <th>261</th>\n",
       "      <td>SAMN00992437</td>\n",
       "      <td>SINGLE</td>\n",
       "      <td>13427</td>\n",
       "      <td>SRR600493</td>\n",
       "      <td>GTEX-PSDG-0226-SM-2I5FR</td>\n",
       "      <td>male</td>\n",
       "      <td>Skin - Sun Exposed (Lower leg)</td>\n",
       "      <td>ILLUMINA</td>\n",
       "    </tr>\n",
       "    <tr>\n",
       "      <th>264</th>\n",
       "      <td>SAMN00992970</td>\n",
       "      <td>SINGLE</td>\n",
       "      <td>5930</td>\n",
       "      <td>SRR600656</td>\n",
       "      <td>GTEX-QEG5-0426-SM-2I5GJ</td>\n",
       "      <td>male</td>\n",
       "      <td>Muscle - Skeletal</td>\n",
       "      <td>ILLUMINA</td>\n",
       "    </tr>\n",
       "    <tr>\n",
       "      <th>269</th>\n",
       "      <td>SAMN00992778</td>\n",
       "      <td>SINGLE</td>\n",
       "      <td>6506</td>\n",
       "      <td>SRR607219</td>\n",
       "      <td>GTEX-OIZF-0006-SM-2I5GQ</td>\n",
       "      <td>male</td>\n",
       "      <td>Whole Blood</td>\n",
       "      <td>ILLUMINA</td>\n",
       "    </tr>\n",
       "    <tr>\n",
       "      <th>311</th>\n",
       "      <td>SAMN00993116</td>\n",
       "      <td>SINGLE</td>\n",
       "      <td>5785</td>\n",
       "      <td>SRR602217</td>\n",
       "      <td>GTEX-QESD-0006-SM-2I5G6</td>\n",
       "      <td>male</td>\n",
       "      <td>Whole Blood</td>\n",
       "      <td>ILLUMINA</td>\n",
       "    </tr>\n",
       "    <tr>\n",
       "      <th>319</th>\n",
       "      <td>SAMN00993037</td>\n",
       "      <td>SINGLE</td>\n",
       "      <td>5675</td>\n",
       "      <td>SRR601868</td>\n",
       "      <td>GTEX-O5YW-0326-SM-2I5EI</td>\n",
       "      <td>male</td>\n",
       "      <td>Heart - Left Ventricle</td>\n",
       "      <td>ILLUMINA</td>\n",
       "    </tr>\n",
       "    <tr>\n",
       "      <th>331</th>\n",
       "      <td>SAMN00992814</td>\n",
       "      <td>SINGLE</td>\n",
       "      <td>5150</td>\n",
       "      <td>SRR602282</td>\n",
       "      <td>GTEX-Q734-1926-SM-2I5EV</td>\n",
       "      <td>female</td>\n",
       "      <td>Skin - Sun Exposed (Lower leg)</td>\n",
       "      <td>ILLUMINA</td>\n",
       "    </tr>\n",
       "    <tr>\n",
       "      <th>346</th>\n",
       "      <td>SAMN00992679</td>\n",
       "      <td>SINGLE</td>\n",
       "      <td>6755</td>\n",
       "      <td>SRR607647</td>\n",
       "      <td>GTEX-PWO3-0011-R5A-SM-2I5EZ</td>\n",
       "      <td>female</td>\n",
       "      <td>Brain - Caudate (basal ganglia)</td>\n",
       "      <td>ILLUMINA</td>\n",
       "    </tr>\n",
       "    <tr>\n",
       "      <th>372</th>\n",
       "      <td>SAMN00992459</td>\n",
       "      <td>SINGLE</td>\n",
       "      <td>6645</td>\n",
       "      <td>SRR602753</td>\n",
       "      <td>GTEX-OHPN-2626-SM-2I5H1</td>\n",
       "      <td>female</td>\n",
       "      <td>Brain - Cerebellum</td>\n",
       "      <td>ILLUMINA</td>\n",
       "    </tr>\n",
       "    <tr>\n",
       "      <th>471</th>\n",
       "      <td>SAMN00992555</td>\n",
       "      <td>SINGLE</td>\n",
       "      <td>5259</td>\n",
       "      <td>SRR605101</td>\n",
       "      <td>GTEX-PLZ5-1726-SM-2I5F6</td>\n",
       "      <td>male</td>\n",
       "      <td>Muscle - Skeletal</td>\n",
       "      <td>ILLUMINA</td>\n",
       "    </tr>\n",
       "    <tr>\n",
       "      <th>2078</th>\n",
       "      <td>SAMN02465458</td>\n",
       "      <td>SINGLE</td>\n",
       "      <td>3330</td>\n",
       "      <td>SRR1070429</td>\n",
       "      <td>GTEX-Q2AG-1226-SM-4GICA</td>\n",
       "      <td>female</td>\n",
       "      <td>Esophagus - Muscularis</td>\n",
       "      <td>ILLUMINA</td>\n",
       "    </tr>\n",
       "    <tr>\n",
       "      <th>2782</th>\n",
       "      <td>SAMN02465174</td>\n",
       "      <td>SINGLE</td>\n",
       "      <td>3933</td>\n",
       "      <td>SRR1087245</td>\n",
       "      <td>GTEX-TKQ1-1426-SM-4GICK</td>\n",
       "      <td>male</td>\n",
       "      <td>Muscle - Skeletal</td>\n",
       "      <td>ILLUMINA</td>\n",
       "    </tr>\n",
       "    <tr>\n",
       "      <th>3429</th>\n",
       "      <td>SAMN02465761</td>\n",
       "      <td>SINGLE</td>\n",
       "      <td>3017</td>\n",
       "      <td>SRR1120755</td>\n",
       "      <td>GTEX-XOTO-0011-R9A-SM-4GICI</td>\n",
       "      <td>male</td>\n",
       "      <td>Brain - Spinal cord (cervical c-1)</td>\n",
       "      <td>ILLUMINA</td>\n",
       "    </tr>\n",
       "  </tbody>\n",
       "</table>\n",
       "</div>"
      ],
      "text/plain": [
       "       BioSample_s LibraryLayout_s  MBytes_l       Run_s  \\\n",
       "206   SAMN00992539          SINGLE      6966   SRR599025   \n",
       "228   SAMN00992965          SINGLE      5778   SRR599086   \n",
       "236   SAMN00992461          SINGLE      5111   SRR599281   \n",
       "243   SAMN00992769          SINGLE      6916   SRR599380   \n",
       "245   SAMN00992450          SINGLE      5207   SRR598894   \n",
       "251   SAMN00992478          SINGLE     11678   SRR599510   \n",
       "261   SAMN00992437          SINGLE     13427   SRR600493   \n",
       "264   SAMN00992970          SINGLE      5930   SRR600656   \n",
       "269   SAMN00992778          SINGLE      6506   SRR607219   \n",
       "311   SAMN00993116          SINGLE      5785   SRR602217   \n",
       "319   SAMN00993037          SINGLE      5675   SRR601868   \n",
       "331   SAMN00992814          SINGLE      5150   SRR602282   \n",
       "346   SAMN00992679          SINGLE      6755   SRR607647   \n",
       "372   SAMN00992459          SINGLE      6645   SRR602753   \n",
       "471   SAMN00992555          SINGLE      5259   SRR605101   \n",
       "2078  SAMN02465458          SINGLE      3330  SRR1070429   \n",
       "2782  SAMN02465174          SINGLE      3933  SRR1087245   \n",
       "3429  SAMN02465761          SINGLE      3017  SRR1120755   \n",
       "\n",
       "                     Sample_Name_s   sex_s  \\\n",
       "206        GTEX-QMRM-0526-SM-2I5GA    male   \n",
       "228        GTEX-PSDG-0926-SM-2I5FP    male   \n",
       "236        GTEX-OXRO-0006-SM-2I5EM  female   \n",
       "243        GTEX-QLQ7-0526-SM-2I5G3    male   \n",
       "245    GTEX-OHPN-0011-R7A-SM-2I5FI  female   \n",
       "251   GTEX-OHPN-0011-R10A-SM-2I5FL  female   \n",
       "261        GTEX-PSDG-0226-SM-2I5FR    male   \n",
       "264        GTEX-QEG5-0426-SM-2I5GJ    male   \n",
       "269        GTEX-OIZF-0006-SM-2I5GQ    male   \n",
       "311        GTEX-QESD-0006-SM-2I5G6    male   \n",
       "319        GTEX-O5YW-0326-SM-2I5EI    male   \n",
       "331        GTEX-Q734-1926-SM-2I5EV  female   \n",
       "346    GTEX-PWO3-0011-R5A-SM-2I5EZ  female   \n",
       "372        GTEX-OHPN-2626-SM-2I5H1  female   \n",
       "471        GTEX-PLZ5-1726-SM-2I5F6    male   \n",
       "2078       GTEX-Q2AG-1226-SM-4GICA  female   \n",
       "2782       GTEX-TKQ1-1426-SM-4GICK    male   \n",
       "3429   GTEX-XOTO-0011-R9A-SM-4GICI    male   \n",
       "\n",
       "                             body_site_s Platform_s  \n",
       "206               Heart - Left Ventricle   ILLUMINA  \n",
       "228               Heart - Left Ventricle   ILLUMINA  \n",
       "236                          Whole Blood   ILLUMINA  \n",
       "243               Heart - Left Ventricle   ILLUMINA  \n",
       "245      Brain - Putamen (basal ganglia)   ILLUMINA  \n",
       "251         Brain - Frontal Cortex (BA9)   ILLUMINA  \n",
       "261       Skin - Sun Exposed (Lower leg)   ILLUMINA  \n",
       "264                    Muscle - Skeletal   ILLUMINA  \n",
       "269                          Whole Blood   ILLUMINA  \n",
       "311                          Whole Blood   ILLUMINA  \n",
       "319               Heart - Left Ventricle   ILLUMINA  \n",
       "331       Skin - Sun Exposed (Lower leg)   ILLUMINA  \n",
       "346      Brain - Caudate (basal ganglia)   ILLUMINA  \n",
       "372                   Brain - Cerebellum   ILLUMINA  \n",
       "471                    Muscle - Skeletal   ILLUMINA  \n",
       "2078              Esophagus - Muscularis   ILLUMINA  \n",
       "2782                   Muscle - Skeletal   ILLUMINA  \n",
       "3429  Brain - Spinal cord (cervical c-1)   ILLUMINA  "
      ]
     },
     "execution_count": 121,
     "metadata": {},
     "output_type": "execute_result"
    }
   ],
   "source": [
    "singles = df[df.LibraryLayout_s == 'SINGLE']\n",
    "singles"
   ]
  },
  {
   "cell_type": "markdown",
   "metadata": {},
   "source": [
    "Ensure there are no duplicates"
   ]
  },
  {
   "cell_type": "code",
   "execution_count": 66,
   "metadata": {
    "collapsed": false
   },
   "outputs": [
    {
     "data": {
      "text/plain": [
       "True"
      ]
     },
     "execution_count": 66,
     "metadata": {},
     "output_type": "execute_result"
    }
   ],
   "source": [
    "len(df.Sample_Name_s.unique()) == len(df.BioSample_s.unique()) == len(df.Run_s.unique())"
   ]
  },
  {
   "cell_type": "markdown",
   "metadata": {},
   "source": [
    "Save the Run accession values in a file to make transferring easier"
   ]
  },
  {
   "cell_type": "code",
   "execution_count": 165,
   "metadata": {
    "collapsed": false
   },
   "outputs": [],
   "source": [
    "paired = df[(df.LibraryLayout_s == 'PAIRED') & (df.MBytes_l > 50)]"
   ]
  },
  {
   "cell_type": "code",
   "execution_count": 188,
   "metadata": {
    "collapsed": true
   },
   "outputs": [],
   "source": [
    "with open('gTEX_paired_ids.txt', 'w') as f:\n",
    "    for run in paired.Run_s:\n",
    "        f.write(run  + '\\n')"
   ]
  },
  {
   "cell_type": "markdown",
   "metadata": {},
   "source": [
    "Determine Diff between gtex-data bucket and run SRRs"
   ]
  },
  {
   "cell_type": "code",
   "execution_count": 166,
   "metadata": {
    "collapsed": false
   },
   "outputs": [],
   "source": [
    "import boto\n",
    "conn = boto.connect_s3()\n",
    "bucket = conn.get_bucket('gtex-data')\n",
    "keys = [str(x.name).split('.')[0] for x in bucket.list()]"
   ]
  },
  {
   "cell_type": "code",
   "execution_count": 184,
   "metadata": {
    "collapsed": false
   },
   "outputs": [],
   "source": [
    "filtered = paired.drop(df[df.Run_s.isin(keys)].index)"
   ]
  },
  {
   "cell_type": "code",
   "execution_count": 187,
   "metadata": {
    "collapsed": false
   },
   "outputs": [],
   "source": [
    "with open('gTEX_paired_ids.txt', 'w') as f:\n",
    "    for run in filtered.Run_s:\n",
    "        f.write(run  + '\\n')"
   ]
  },
  {
   "cell_type": "code",
   "execution_count": 1,
   "metadata": {
    "collapsed": false
   },
   "outputs": [
    {
     "ename": "NameError",
     "evalue": "name 'sort' is not defined",
     "output_type": "error",
     "traceback": [
      "\u001b[0;31m---------------------------------------------------------------------------\u001b[0m",
      "\u001b[0;31mNameError\u001b[0m                                 Traceback (most recent call last)",
      "\u001b[0;32m<ipython-input-1-3668672323c1>\u001b[0m in \u001b[0;36m<module>\u001b[0;34m()\u001b[0m\n\u001b[0;32m----> 1\u001b[0;31m \u001b[0msort\u001b[0m\u001b[0;34m(\u001b[0m\u001b[0mpaired\u001b[0m\u001b[0;34m.\u001b[0m\u001b[0mRun_s\u001b[0m\u001b[0;34m)\u001b[0m\u001b[0;34m\u001b[0m\u001b[0m\n\u001b[0m",
      "\u001b[0;31mNameError\u001b[0m: name 'sort' is not defined"
     ]
    }
   ],
   "source": []
  },
  {
   "cell_type": "code",
   "execution_count": null,
   "metadata": {
    "collapsed": true
   },
   "outputs": [],
   "source": []
  }
 ],
 "metadata": {
  "kernelspec": {
   "display_name": "Python 2",
   "language": "python",
   "name": "python2"
  },
  "language_info": {
   "codemirror_mode": {
    "name": "ipython",
    "version": 2
   },
   "file_extension": ".py",
   "mimetype": "text/x-python",
   "name": "python",
   "nbconvert_exporter": "python",
   "pygments_lexer": "ipython2",
   "version": "2.7.10"
  }
 },
 "nbformat": 4,
 "nbformat_minor": 0
}
