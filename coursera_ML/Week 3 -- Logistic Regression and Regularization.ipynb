{
 "cells": [
  {
   "cell_type": "markdown",
   "metadata": {},
   "source": [
    "# Logistic Regression\n",
    "### Classification\n",
    "Instead of our output vector y being a continuous range of values, it will only be 0 or 1.\n",
    "\n",
    "$$\\large y \\in \\lbrace 0,1 \\rbrace$$\n",
    "\n",
    "Where 0 is usually taken as the \"negative class\" and 1 as the \"positive class\".\n",
    "One method is to use linear regression and map all predictions greater than 0.5 as a 1 and all less than 0.5 as a 0. This method doesn't work well because classification is not actually a linear function.\n",
    "\n",
    "### Hypothesis Representation\n",
    "Our hypothesis should satisfy:\n",
    "$$\\large 0 \\leq h_\\theta (x) \\leq 1 $$\n",
    "\n",
    "Our new form uses the \"Sigmoid Function,\" also called the \"Logistic Function\":\n",
    "\n",
    "$$\n",
    "\\large\n",
    "\\begin{align*}\n",
    "& h_\\theta (x) =  g ( \\theta^T x ) \\newline \\newline\n",
    "& z = \\theta^T x \\newline\n",
    "& g(z) = \\dfrac{1}{1 + e^{-z}}\n",
    "\\end{align*}$$\n",
    "\n",
    "We start with our old hypothesis (linear regression), except that we want to restrict the range to 0 and 1. This is accomplished by plugging $\\theta^T X$ into the Logistic Function.\n",
    "$h_\\theta$ will give us the probability that our output is 1. For example, $h_\\theta(x)=0.7$ gives us the probability of 70% that our output is 1.\n",
    "\n",
    "The **decision boundary** is the line that separates the area where $y=0$ and where $y=1$. It is created by our hypothesis function.\n",
    "\n",
    "$$\n",
    "\\begin{align*}\n",
    "& \\theta^T x \\geq 0 \\rightarrow y = 1 \\newline\n",
    "& \\theta^T x < 0 \\rightarrow y = 0 \\newline\n",
    "\\end{align*}\n",
    "$$\n",
    "\n",
    "### Cost Function\n",
    "We cannot use the same cost function that we use for linear regression because the Logistic Function will cause the output to be wavy, causing many local optima. In other words, it will not be a convex function.\n",
    "Instead, our cost function for logistic regression looks like:\n",
    "$$\n",
    "\\large\n",
    "\\begin{align*}\n",
    "& J(\\theta) = \\dfrac{1}{m} \\sum_{i=1}^m \\mathrm{Cost}(h_\\theta(x^{(i)}),y^{(i)}) \\newline\n",
    "& \\mathrm{Cost}(h_\\theta(x),y) = -\\log(h_\\theta(x)) \\; & \\text{if y = 1} \\newline\n",
    "& \\mathrm{Cost}(h_\\theta(x),y) = -\\log(1-h_\\theta(x)) \\; & \\text{if y = 0}\n",
    "\\end{align*}$$\n",
    "\n",
    "The more our hypothesis is off from y, the larger the cost function output. If our hypothesis is equal to y, then our cost is 0:\n",
    "\n",
    "$$\n",
    "\\begin{align*}\n",
    "& \\mathrm{Cost}(h_\\theta(x),y) = 0 \\text{  if  } h_\\theta(x) = y \\newline\n",
    "& \\mathrm{Cost}(h_\\theta(x),y) \\rightarrow \\infty \\text{  if  } y = 0 \\; \\mathrm{and} \\; h_\\theta(x) \\rightarrow 1 \\newline\n",
    "& \\mathrm{Cost}(h_\\theta(x),y) \\rightarrow \\infty \\text{  if  } y = 1 \\; \\mathrm{and} \\; h_\\theta(x) \\rightarrow 0 \\newline\n",
    "\\end{align*}\n",
    "$$\n",
    "\n",
    "If our correct answer 'y' is 0, then the cost function will be 0 if our hypothesis function also outputs 0. If our hypothesis approaches 1, then the cost function will approach infinity.\n",
    "If our correct answer 'y' is 1, then the cost function will be 0 if our hypothesis function outputs 1. If our hypothesis approaches 0, then the cost function will approach infinity.\n",
    "Note that writing the cost function in this way guarantees that J(θ) is convex for logistic regression.\n",
    "\n",
    "### Simplified Cost Function and Gradient Descent\n",
    "We can compress our cost function's two conditional cases into one case:\n",
    "\n",
    "$$  \\mathrm{Cost}(h_\\theta(x),y) = - y \\; \\log(h_\\theta(x)) - (1 - y) \\log(1 - h_\\theta(x)) $$\n",
    "\n",
    "Notice that when $y$ is equal to $1$, then the second term $((1−y)log(1−h_\\theta(x)))$ will be zero and will not affect the result. If $y$ is equal to $0$, then the first term $(−ylog(h_\\theta(x)))$ will be zero and will not affect the result.\n",
    "\n",
    "We can fully write it out as:\n",
    "\n",
    "$$ \n",
    "\\large\n",
    "J(\\theta) = - \\frac{1}{m} \\displaystyle \\sum_{i=1}^m [y^{(i)}\\log (h_\\theta (x^{(i)})) + (1 - y^{(i)})\\log (1 - h_\\theta(x^{(i)}))] $$\n",
    "\n",
    "and in vector form:\n",
    "\n",
    "$$ \n",
    "\\large\n",
    "J\\left(\\theta\\right)  =  -\\frac{1}{m}\\left(\\log\\left(g\\left(X\\theta\\right)\\right)^{T}y+\\log\\left(1-g\\left(X\\theta\\right)\\right)^{T}\\left(1-y\\right)\\right) $$\n",
    "\n",
    "### Gradient Descent\n",
    "Remember the general form of gradient descent is:\n",
    "\n",
    "$$ \n",
    "\\begin{align*}\n",
    "& Repeat \\; \\lbrace \\newline\n",
    "& \\; \\theta_j := \\theta_j - \\alpha \\dfrac{\\partial}{\\partial \\theta_j}J(\\theta) \\newline\n",
    "& \\rbrace\n",
    "\\end{align*}$$\n",
    "\n",
    "\n",
    "We can work out the derivative part using calculus to get:\n",
    "\n",
    "$$ \n",
    "\\begin{align*}\n",
    "& Repeat \\; \\lbrace \\newline\n",
    "& \\; \\theta_j := \\theta_j - \\frac{\\alpha}{m} \\sum_{i=1}^m (h_\\theta(x^{(i)}) - y^{(i)}) x_j^{(i)} \\newline & \\rbrace\n",
    "\\end{align*} $$\n",
    "\n",
    "Notice that this algorithm is identical to the one we used in linear regression. We still have to simultaneously update all values in theta.\n",
    "A vectorized implementation is:\n",
    "$$ \n",
    "\\large\n",
    "\\theta := \\theta - \\frac{\\alpha}{m} X^{T} (g(X \\theta ) - \\vec{y}) $$\n",
    "\n",
    "### Multiple Classification\n",
    "Now we will approach the classification of data into more than two categories. Instead of y = {0,1} we will expand our definition so that y = {0,1...n}.\n",
    "In this case we divide our problem into n+1 binary classification problems; in each one, we predict the probability that 'y' is a member of one of our classes.\n",
    "\n",
    "$$\n",
    "\\large\n",
    "\\begin{align*}\n",
    "& y \\in \\lbrace0, 1 ... n\\rbrace \\newline\n",
    "& h_\\theta^{(0)}(x) = P(y = 0 | x ; \\theta) \\newline\n",
    "& h_\\theta^{(1)}(x) = P(y = 1 | x ; \\theta) \\newline\n",
    "& \\cdots \\newline\n",
    "& h_\\theta^{(n)}(x) = P(y = n | x ; \\theta) \\newline\n",
    "& \\mathrm{prediction} = \\max_i( h_\\theta ^{(i)}(x) )\\newline\n",
    "\\end{align*} $$\n",
    "\n",
    "We are basically choosing one class and then lumping all the others into a single second class. We do this repeatedly, applying binary logistic regression to each case, and then use the hypothesis that returned the highest value as our prediction."
   ]
  },
  {
   "cell_type": "markdown",
   "metadata": {},
   "source": [
    "# Assignment 2"
   ]
  },
  {
   "cell_type": "code",
   "execution_count": 1,
   "metadata": {
    "collapsed": true
   },
   "outputs": [],
   "source": [
    "%matplotlib inline\n",
    "import pandas as pd\n",
    "import matplotlib.pyplot as plt\n",
    "import seaborn as sns\n",
    "import numpy as np\n",
    "from IPython import display\n",
    "from pandas.tools.plotting import scatter_matrix\n",
    "import scipy as sp"
   ]
  },
  {
   "cell_type": "code",
   "execution_count": 2,
   "metadata": {
    "collapsed": false
   },
   "outputs": [
    {
     "data": {
      "text/html": [
       "<style>body {\n",
       "    margin: 0;\n",
       "    font-family: Helvetica;\n",
       "}\n",
       "table.dataframe {\n",
       "    border-collapse: collapse;\n",
       "    border: none;\n",
       "}\n",
       "table.dataframe tr {\n",
       "    border: none;\n",
       "}\n",
       "table.dataframe td, table.dataframe th {\n",
       "    margin: 0;\n",
       "    border: 1px solid white;\n",
       "    padding-left: 0.25em;\n",
       "    padding-right: 0.25em;\n",
       "}\n",
       "table.dataframe th:not(:empty) {\n",
       "    background-color: #fec;\n",
       "    text-align: left;\n",
       "    font-weight: normal;\n",
       "}\n",
       "table.dataframe tr:nth-child(2) th:empty {\n",
       "    border-left: none;\n",
       "    border-right: 1px dashed #888;\n",
       "}\n",
       "table.dataframe td {\n",
       "    border: 2px solid #ccf;\n",
       "    background-color: #f4f4ff;\n",
       "}\n",
       "h3 {\n",
       "    color: white;\n",
       "    background-color: black;\n",
       "    padding: 0.5em;\n",
       "}\n",
       "</style>"
      ],
      "text/plain": [
       "<IPython.core.display.HTML object>"
      ]
     },
     "execution_count": 2,
     "metadata": {},
     "output_type": "execute_result"
    }
   ],
   "source": [
    "from IPython.core.display import HTML\n",
    "css = open('style-table.css').read() + open('style-notebook.css').read()\n",
    "HTML('<style>{}</style>'.format(css))"
   ]
  },
  {
   "cell_type": "markdown",
   "metadata": {},
   "source": [
    "First, we'll read in the exam data:"
   ]
  },
  {
   "cell_type": "code",
   "execution_count": 3,
   "metadata": {
    "collapsed": true
   },
   "outputs": [],
   "source": [
    "data = pd.read_csv('Exercises_2/ex2/ex2data1.txt', header=None, names=['Exam1', 'Exam2', 'Admitted'])"
   ]
  },
  {
   "cell_type": "markdown",
   "metadata": {},
   "source": [
    "Let's add in $x_0$ to make the dot product of $X$ and $\\theta$ possible: ($X \\cdot \\theta$)"
   ]
  },
  {
   "cell_type": "code",
   "execution_count": 4,
   "metadata": {
    "collapsed": false,
    "scrolled": true
   },
   "outputs": [],
   "source": [
    "data.insert(0, 'x0', value=np.ones([len(data),1]))"
   ]
  },
  {
   "cell_type": "code",
   "execution_count": 5,
   "metadata": {
    "collapsed": false
   },
   "outputs": [
    {
     "data": {
      "text/html": [
       "<div>\n",
       "<table border=\"1\" class=\"dataframe\">\n",
       "  <thead>\n",
       "    <tr style=\"text-align: right;\">\n",
       "      <th></th>\n",
       "      <th>x0</th>\n",
       "      <th>Exam1</th>\n",
       "      <th>Exam2</th>\n",
       "      <th>Admitted</th>\n",
       "    </tr>\n",
       "  </thead>\n",
       "  <tbody>\n",
       "    <tr>\n",
       "      <th>0</th>\n",
       "      <td>1</td>\n",
       "      <td>34.623660</td>\n",
       "      <td>78.024693</td>\n",
       "      <td>0</td>\n",
       "    </tr>\n",
       "    <tr>\n",
       "      <th>1</th>\n",
       "      <td>1</td>\n",
       "      <td>30.286711</td>\n",
       "      <td>43.894998</td>\n",
       "      <td>0</td>\n",
       "    </tr>\n",
       "    <tr>\n",
       "      <th>2</th>\n",
       "      <td>1</td>\n",
       "      <td>35.847409</td>\n",
       "      <td>72.902198</td>\n",
       "      <td>0</td>\n",
       "    </tr>\n",
       "    <tr>\n",
       "      <th>3</th>\n",
       "      <td>1</td>\n",
       "      <td>60.182599</td>\n",
       "      <td>86.308552</td>\n",
       "      <td>1</td>\n",
       "    </tr>\n",
       "    <tr>\n",
       "      <th>4</th>\n",
       "      <td>1</td>\n",
       "      <td>79.032736</td>\n",
       "      <td>75.344376</td>\n",
       "      <td>1</td>\n",
       "    </tr>\n",
       "  </tbody>\n",
       "</table>\n",
       "</div>"
      ],
      "text/plain": [
       "   x0      Exam1      Exam2  Admitted\n",
       "0   1  34.623660  78.024693         0\n",
       "1   1  30.286711  43.894998         0\n",
       "2   1  35.847409  72.902198         0\n",
       "3   1  60.182599  86.308552         1\n",
       "4   1  79.032736  75.344376         1"
      ]
     },
     "execution_count": 5,
     "metadata": {},
     "output_type": "execute_result"
    }
   ],
   "source": [
    "data.head()"
   ]
  },
  {
   "cell_type": "markdown",
   "metadata": {},
   "source": [
    "Let's plot the data, labelleling which students were / were not admitted."
   ]
  },
  {
   "cell_type": "code",
   "execution_count": 6,
   "metadata": {
    "collapsed": false,
    "scrolled": true
   },
   "outputs": [
    {
     "data": {
      "image/png": "[encoded data removed]",
      "text/plain": [
       "<matplotlib.figure.Figure at 0x108d478d0>"
      ]
     },
     "metadata": {},
     "output_type": "display_data"
    }
   ],
   "source": [
    "sns.lmplot(x='Exam1', y='Exam2', data=data, hue='Admitted', fit_reg=False);"
   ]
  },
  {
   "cell_type": "markdown",
   "metadata": {},
   "source": [
    "Seaborn is great and we can redo that plot with regression fits for our differently labelled data. This emphasizes the separation between the two sets of data (although it will not often be this obvious). "
   ]
  },
  {
   "cell_type": "code",
   "execution_count": 7,
   "metadata": {
    "collapsed": false
   },
   "outputs": [
    {
     "data": {
      "image/png": "[encoded data removed]",
      "text/plain": [
       "<matplotlib.figure.Figure at 0x1043ec710>"
      ]
     },
     "metadata": {},
     "output_type": "display_data"
    }
   ],
   "source": [
    "sns.lmplot(x='Exam1', y='Exam2', data=data, hue='Admitted', fit_reg=True);"
   ]
  },
  {
   "cell_type": "markdown",
   "metadata": {},
   "source": [
    "Now let's define the sigmoid function $g(z) = \\frac{1}{1+e^{-z}}$ so we can use it in our hypothesis."
   ]
  },
  {
   "cell_type": "code",
   "execution_count": 8,
   "metadata": {
    "collapsed": true
   },
   "outputs": [],
   "source": [
    "def sigmoid(x):\n",
    "    return 1 / (1 + np.exp(-x))"
   ]
  },
  {
   "cell_type": "markdown",
   "metadata": {},
   "source": [
    "Let's plot the sigmoid function to visualize the fact that when $H(x) > 0$, $y \\rightarrow 1$, whereas when $H(x) < 0$, $y \\rightarrow 0$."
   ]
  },
  {
   "cell_type": "code",
   "execution_count": 9,
   "metadata": {
    "collapsed": false
   },
   "outputs": [
    {
     "data": {
      "image/png": "[encoded data removed]",
      "text/plain": [
       "<matplotlib.figure.Figure at 0x108eadf50>"
      ]
     },
     "metadata": {},
     "output_type": "display_data"
    }
   ],
   "source": [
    "x = [i for i in xrange(-6, 7)]\n",
    "y = [sigmoid(i) for i in xrange(-6,7)]\n",
    "plt.title('Sigmoid/Logistic Function')\n",
    "plt.plot(x,y);"
   ]
  },
  {
   "cell_type": "markdown",
   "metadata": {},
   "source": [
    "To ensure our function is working, we'll test it with a few values. Larger values should asymptote to 1 whereas smaller values should approach 0.  As shown above, $g(0) = 0.5$"
   ]
  },
  {
   "cell_type": "code",
   "execution_count": 10,
   "metadata": {
    "collapsed": false
   },
   "outputs": [
    {
     "name": "stdout",
     "output_type": "stream",
     "text": [
      "Sigmoid  0: 0.5\n",
      "Sigmoid  1: 0.73\n",
      "Sigmoid -1: 0.27\n",
      "Sigmoid 10: 0.99995\n"
     ]
    }
   ],
   "source": [
    "print 'Sigmoid  0: %s' % sigmoid(0) \n",
    "print 'Sigmoid  1: %.2f' % sigmoid(1)\n",
    "print 'Sigmoid -1: %.2f' % sigmoid(-1)\n",
    "print 'Sigmoid 10: %.5f' % sigmoid(10)"
   ]
  },
  {
   "cell_type": "markdown",
   "metadata": {},
   "source": [
    "Our code even works with matrices and vectors!"
   ]
  },
  {
   "cell_type": "code",
   "execution_count": 11,
   "metadata": {
    "collapsed": false
   },
   "outputs": [
    {
     "name": "stdout",
     "output_type": "stream",
     "text": [
      "[[ 0  1]\n",
      " [-1 10]]\n",
      "\n",
      "[[ 0.5         0.73105858]\n",
      " [ 0.26894142  0.9999546 ]]\n"
     ]
    }
   ],
   "source": [
    "a = np.array([[0,1], [-1,10]])\n",
    "print a\n",
    "print \n",
    "print sigmoid(a)"
   ]
  },
  {
   "cell_type": "markdown",
   "metadata": {},
   "source": [
    "Now we'll implement the Cost Function for Logistic Regression:\n",
    "$$ J(\\theta) = -\\frac{1}{m} \\big( log(g(X\\theta))^T \\cdot \\vec{y} + log(1-g(X\\theta))^T\\cdot(1-\\vec{y})\\big) $$"
   ]
  },
  {
   "cell_type": "code",
   "execution_count": 12,
   "metadata": {
    "collapsed": false
   },
   "outputs": [],
   "source": [
    "def cost_function(theta, X, Y):\n",
    "    g_xo = sigmoid(np.dot(X, theta))\n",
    "    p1 = np.dot(np.log(g_xo).T, Y)\n",
    "    p2 = np.dot(np.log(1-g_xo).T, (1-Y))\n",
    "    return float((-1.0/(len(X))) * (p1 + p2))"
   ]
  },
  {
   "cell_type": "markdown",
   "metadata": {},
   "source": [
    "A. Ng says we should get a value of .693 if we were starting with a $\\theta$ initialized at zero."
   ]
  },
  {
   "cell_type": "code",
   "execution_count": 13,
   "metadata": {
    "collapsed": false
   },
   "outputs": [
    {
     "name": "stdout",
     "output_type": "stream",
     "text": [
      "Cost_Fn should return 0.693, and we get: 0.693\n"
     ]
    }
   ],
   "source": [
    "X = np.array(data.drop('Admitted', 1))\n",
    "Y = np.array([data['Admitted']]).T\n",
    "theta = np.array([[0,0,0]]).T\n",
    "print 'Cost_Fn should return 0.693, and we get: %.3f' % cost_function(theta, X, Y)"
   ]
  },
  {
   "cell_type": "markdown",
   "metadata": {},
   "source": [
    "Now we'll optimize our parameters ($\\theta$) by utilizing a minimization algorithm."
   ]
  },
  {
   "cell_type": "code",
   "execution_count": 14,
   "metadata": {
    "collapsed": false
   },
   "outputs": [
    {
     "data": {
      "text/plain": [
       "(3, 1)"
      ]
     },
     "execution_count": 14,
     "metadata": {},
     "output_type": "execute_result"
    }
   ],
   "source": [
    "np.shape(theta)"
   ]
  },
  {
   "cell_type": "code",
   "execution_count": 15,
   "metadata": {
    "collapsed": false
   },
   "outputs": [
    {
     "data": {
      "text/plain": [
       "  status: 0\n",
       "    nfev: 287\n",
       " success: True\n",
       "     fun: 0.20349770159021519\n",
       "       x: array([-25.16130062,   0.20623142,   0.20147143])\n",
       " message: 'Optimization terminated successfully.'\n",
       "     nit: 157"
      ]
     },
     "execution_count": 15,
     "metadata": {},
     "output_type": "execute_result"
    }
   ],
   "source": [
    "sp.optimize.minimize(cost_function, theta, args=(X, Y), method = 'Nelder-Mead')"
   ]
  },
  {
   "cell_type": "markdown",
   "metadata": {},
   "source": [
    "Now that we've optimized for our $\\theta$ parameters, we can draw the boundary line. This is not as intuitive as it may appear since we now have 3 values for both $\\theta$ and $X$. We know that when $\\theta\\cdot X = 0$, the sigmoid function returns $0.5$, which defines our boundary line.  So: \n",
    "\n",
    "$0 = -25.16(x_0) + 0.206(x_1) + 0.201(x_2)$.  Since we want to solve for a line, we'll solve for $x_2$.\n",
    "\n",
    "$$x_2 = \\frac{-25.16x_0 + 0.206x_1}{0.201}$$\n",
    "\n",
    "$$x_2 = \\frac{-25.16}{0.201} + \\frac{0.206}{0.201}x_1$$\n",
    "\n",
    "$$x_2 = mx + b = -1.025x_1 + 125.17$$"
   ]
  },
  {
   "cell_type": "code",
   "execution_count": 16,
   "metadata": {
    "collapsed": false
   },
   "outputs": [
    {
     "data": {
      "image/png": "[encoded data removed]",
      "text/plain": [
       "<matplotlib.figure.Figure at 0x109099190>"
      ]
     },
     "metadata": {},
     "output_type": "display_data"
    }
   ],
   "source": [
    "y = [x*-1.025 + 125.17 for x in xrange(110)]\n",
    "x = [x for x in xrange(110)]\n",
    "g = sns.lmplot(x='Exam1', y='Exam2', data=data, hue='Admitted', fit_reg=False)\n",
    "plt.xlim([20,110])\n",
    "plt.ylim([20,110])\n",
    "plt.plot(x,y);"
   ]
  },
  {
   "cell_type": "markdown",
   "metadata": {},
   "source": [
    "A. Ng says the probability of a student being admitted with an Exam1 of 45 and an Exam2 of 85 is 0.776. \n",
    "\n",
    "$H(x) = g(\\theta\\cdot X) = sigmoid(\\theta\\cdot X)$"
   ]
  },
  {
   "cell_type": "code",
   "execution_count": 17,
   "metadata": {
    "collapsed": false
   },
   "outputs": [
    {
     "name": "stdout",
     "output_type": "stream",
     "text": [
      "Student should have a 78% chance of passing. We get 0.776259504629\n"
     ]
    }
   ],
   "source": [
    "print 'Student should have a 78% chance of passing. We get {}'.format(sigmoid(-25.1613 + 45*.20623 + 85*.20147))"
   ]
  },
  {
   "cell_type": "code",
   "execution_count": 18,
   "metadata": {
    "collapsed": false
   },
   "outputs": [],
   "source": [
    "def predict(X, Y, theta):\n",
    "    guesses = 0\n",
    "    for i in xrange(len(X)):\n",
    "        row = np.array([X[i]])\n",
    "        if sigmoid(np.dot(row, theta)) >= 0.5:\n",
    "            if Y[i] == 1:\n",
    "                guesses += 1\n",
    "        else:\n",
    "            if Y[i] == 0:\n",
    "                guesses += 1\n",
    "    return guesses*1.0 / len(X)"
   ]
  },
  {
   "cell_type": "code",
   "execution_count": 19,
   "metadata": {
    "collapsed": false
   },
   "outputs": [
    {
     "name": "stdout",
     "output_type": "stream",
     "text": [
      "Our ability to predict admittance is: 89.0%\n"
     ]
    }
   ],
   "source": [
    "theta = np.array([[-25.1613, .20623, .20147]]).T # From optimization\n",
    "print 'Our ability to predict admittance is: {}%'.format(predict(X, Y, theta)*100)"
   ]
  },
  {
   "cell_type": "markdown",
   "metadata": {},
   "source": [
    "# Regularization\n",
    "\n",
    "Regularization is designed to address the problem of overfitting.\n",
    "**High bias** or **underfitting** is when the form of our hypothesis maps poorly to the trend of the data. It is usually caused by a function that is too simple or uses too few features.\n",
    "At the other extreme, **overfitting** or **high variance** is caused by a hypothesis function that fits the available data but does not generalize well to predict new data. It is usually caused by a complicated function that creates a lot of unnecessary curves and angles unrelated to the data.\n",
    "This terminology is applied to both linear and logistic regression.\n",
    "There are two main options to address the issue of overfitting:\n",
    "\n",
    "\n",
    "    1.Reduce the number of features.\n",
    "        Manually select which features to keep.\n",
    "        Use a model selection algorithm (studied later in the course).\n",
    "    2.Regularization\n",
    "        Keep all the features, but reduce the parameters $\\theta_j$\n",
    "        Regularization works well when we have a lot of slightly useful features."
   ]
  },
  {
   "cell_type": "markdown",
   "metadata": {},
   "source": [
    "# Regularized Logistic Regression"
   ]
  },
  {
   "cell_type": "markdown",
   "metadata": {},
   "source": [
    "In this part of the exercise, we will implement regularized logistic regression to predict whether microchips from a fabrication plant passes quality assurance (QA). During QA, each microchip goes through various tests to ensure it is functioning correctly.\n",
    "\n",
    "Suppose you are the product manager of the factory and you have the test results for some microchips on two different tests. From these two tests, you would like to determine whether the microchips should be accepted or rejected. To help you make the decision, you have a dataset of test results on past microchips, from which you can build a logistic regression model."
   ]
  },
  {
   "cell_type": "code",
   "execution_count": 20,
   "metadata": {
    "collapsed": true
   },
   "outputs": [],
   "source": [
    "data = pd.read_csv('Exercises_2/ex2/ex2data2.txt', header=None, names=['Test1', 'Test2', 'Accepted'])"
   ]
  },
  {
   "cell_type": "code",
   "execution_count": 21,
   "metadata": {
    "collapsed": false
   },
   "outputs": [
    {
     "data": {
      "text/html": [
       "<div>\n",
       "<table border=\"1\" class=\"dataframe\">\n",
       "  <thead>\n",
       "    <tr style=\"text-align: right;\">\n",
       "      <th></th>\n",
       "      <th>Test1</th>\n",
       "      <th>Test2</th>\n",
       "      <th>Accepted</th>\n",
       "    </tr>\n",
       "  </thead>\n",
       "  <tbody>\n",
       "    <tr>\n",
       "      <th>0</th>\n",
       "      <td>0.051267</td>\n",
       "      <td>0.69956</td>\n",
       "      <td>1</td>\n",
       "    </tr>\n",
       "    <tr>\n",
       "      <th>1</th>\n",
       "      <td>-0.092742</td>\n",
       "      <td>0.68494</td>\n",
       "      <td>1</td>\n",
       "    </tr>\n",
       "    <tr>\n",
       "      <th>2</th>\n",
       "      <td>-0.213710</td>\n",
       "      <td>0.69225</td>\n",
       "      <td>1</td>\n",
       "    </tr>\n",
       "    <tr>\n",
       "      <th>3</th>\n",
       "      <td>-0.375000</td>\n",
       "      <td>0.50219</td>\n",
       "      <td>1</td>\n",
       "    </tr>\n",
       "    <tr>\n",
       "      <th>4</th>\n",
       "      <td>-0.513250</td>\n",
       "      <td>0.46564</td>\n",
       "      <td>1</td>\n",
       "    </tr>\n",
       "  </tbody>\n",
       "</table>\n",
       "</div>"
      ],
      "text/plain": [
       "      Test1    Test2  Accepted\n",
       "0  0.051267  0.69956         1\n",
       "1 -0.092742  0.68494         1\n",
       "2 -0.213710  0.69225         1\n",
       "3 -0.375000  0.50219         1\n",
       "4 -0.513250  0.46564         1"
      ]
     },
     "execution_count": 21,
     "metadata": {},
     "output_type": "execute_result"
    }
   ],
   "source": [
    "data.head()"
   ]
  },
  {
   "cell_type": "code",
   "execution_count": 22,
   "metadata": {
    "collapsed": false
   },
   "outputs": [
    {
     "data": {
      "image/png": "[encoded data removed]",
      "text/plain": [
       "<matplotlib.figure.Figure at 0x109af4210>"
      ]
     },
     "metadata": {},
     "output_type": "display_data"
    }
   ],
   "source": [
    "sns.lmplot(x='Test1', y='Test2', data=data, hue='Accepted', fit_reg=False);"
   ]
  },
  {
   "cell_type": "markdown",
   "metadata": {},
   "source": [
    "One way to fit the data better is to create more features from each data point. We will map the features into all polynomial terms of $x_1$ and $x_2$ up to the sixth power. News to me, this does not actually mean up to $(x_1^6) (x_2^6)$ but the exponents added equals up to 6."
   ]
  },
  {
   "cell_type": "code",
   "execution_count": 23,
   "metadata": {
    "collapsed": false
   },
   "outputs": [],
   "source": [
    "degrees = 6\n",
    "for i in xrange(0,degrees+1):\n",
    "    for j in xrange(0,i+1):\n",
    "        data['(x1^{})(x2^{})'.format(i-j,j)] = (data['Test1']**(i-j)) * (data['Test2']**j)"
   ]
  },
  {
   "cell_type": "code",
   "execution_count": 24,
   "metadata": {
    "collapsed": false
   },
   "outputs": [
    {
     "data": {
      "text/html": [
       "<div>\n",
       "<table border=\"1\" class=\"dataframe\">\n",
       "  <thead>\n",
       "    <tr style=\"text-align: right;\">\n",
       "      <th></th>\n",
       "      <th>Test1</th>\n",
       "      <th>Test2</th>\n",
       "      <th>Accepted</th>\n",
       "      <th>(x1^0)(x2^0)</th>\n",
       "      <th>(x1^1)(x2^0)</th>\n",
       "      <th>(x1^0)(x2^1)</th>\n",
       "      <th>(x1^2)(x2^0)</th>\n",
       "      <th>(x1^1)(x2^1)</th>\n",
       "      <th>(x1^0)(x2^2)</th>\n",
       "      <th>(x1^3)(x2^0)</th>\n",
       "      <th>...</th>\n",
       "      <th>(x1^2)(x2^3)</th>\n",
       "      <th>(x1^1)(x2^4)</th>\n",
       "      <th>(x1^0)(x2^5)</th>\n",
       "      <th>(x1^6)(x2^0)</th>\n",
       "      <th>(x1^5)(x2^1)</th>\n",
       "      <th>(x1^4)(x2^2)</th>\n",
       "      <th>(x1^3)(x2^3)</th>\n",
       "      <th>(x1^2)(x2^4)</th>\n",
       "      <th>(x1^1)(x2^5)</th>\n",
       "      <th>(x1^0)(x2^6)</th>\n",
       "    </tr>\n",
       "  </thead>\n",
       "  <tbody>\n",
       "    <tr>\n",
       "      <th>0</th>\n",
       "      <td>0.051267</td>\n",
       "      <td>0.69956</td>\n",
       "      <td>1</td>\n",
       "      <td>1</td>\n",
       "      <td>0.051267</td>\n",
       "      <td>0.69956</td>\n",
       "      <td>0.002628</td>\n",
       "      <td>0.035864</td>\n",
       "      <td>0.489384</td>\n",
       "      <td>0.000135</td>\n",
       "      <td>...</td>\n",
       "      <td>0.000900</td>\n",
       "      <td>0.012278</td>\n",
       "      <td>0.167542</td>\n",
       "      <td>1.815630e-08</td>\n",
       "      <td>2.477505e-07</td>\n",
       "      <td>0.000003</td>\n",
       "      <td>0.000046</td>\n",
       "      <td>0.000629</td>\n",
       "      <td>0.008589</td>\n",
       "      <td>0.117206</td>\n",
       "    </tr>\n",
       "    <tr>\n",
       "      <th>1</th>\n",
       "      <td>-0.092742</td>\n",
       "      <td>0.68494</td>\n",
       "      <td>1</td>\n",
       "      <td>1</td>\n",
       "      <td>-0.092742</td>\n",
       "      <td>0.68494</td>\n",
       "      <td>0.008601</td>\n",
       "      <td>-0.063523</td>\n",
       "      <td>0.469143</td>\n",
       "      <td>-0.000798</td>\n",
       "      <td>...</td>\n",
       "      <td>0.002764</td>\n",
       "      <td>-0.020412</td>\n",
       "      <td>0.150752</td>\n",
       "      <td>6.362953e-07</td>\n",
       "      <td>-4.699318e-06</td>\n",
       "      <td>0.000035</td>\n",
       "      <td>-0.000256</td>\n",
       "      <td>0.001893</td>\n",
       "      <td>-0.013981</td>\n",
       "      <td>0.103256</td>\n",
       "    </tr>\n",
       "    <tr>\n",
       "      <th>2</th>\n",
       "      <td>-0.213710</td>\n",
       "      <td>0.69225</td>\n",
       "      <td>1</td>\n",
       "      <td>1</td>\n",
       "      <td>-0.213710</td>\n",
       "      <td>0.69225</td>\n",
       "      <td>0.045672</td>\n",
       "      <td>-0.147941</td>\n",
       "      <td>0.479210</td>\n",
       "      <td>-0.009761</td>\n",
       "      <td>...</td>\n",
       "      <td>0.015151</td>\n",
       "      <td>-0.049077</td>\n",
       "      <td>0.158970</td>\n",
       "      <td>9.526844e-05</td>\n",
       "      <td>-3.085938e-04</td>\n",
       "      <td>0.001000</td>\n",
       "      <td>-0.003238</td>\n",
       "      <td>0.010488</td>\n",
       "      <td>-0.033973</td>\n",
       "      <td>0.110047</td>\n",
       "    </tr>\n",
       "    <tr>\n",
       "      <th>3</th>\n",
       "      <td>-0.375000</td>\n",
       "      <td>0.50219</td>\n",
       "      <td>1</td>\n",
       "      <td>1</td>\n",
       "      <td>-0.375000</td>\n",
       "      <td>0.50219</td>\n",
       "      <td>0.140625</td>\n",
       "      <td>-0.188321</td>\n",
       "      <td>0.252195</td>\n",
       "      <td>-0.052734</td>\n",
       "      <td>...</td>\n",
       "      <td>0.017810</td>\n",
       "      <td>-0.023851</td>\n",
       "      <td>0.031940</td>\n",
       "      <td>2.780914e-03</td>\n",
       "      <td>-3.724126e-03</td>\n",
       "      <td>0.004987</td>\n",
       "      <td>-0.006679</td>\n",
       "      <td>0.008944</td>\n",
       "      <td>-0.011978</td>\n",
       "      <td>0.016040</td>\n",
       "    </tr>\n",
       "    <tr>\n",
       "      <th>4</th>\n",
       "      <td>-0.513250</td>\n",
       "      <td>0.46564</td>\n",
       "      <td>1</td>\n",
       "      <td>1</td>\n",
       "      <td>-0.513250</td>\n",
       "      <td>0.46564</td>\n",
       "      <td>0.263426</td>\n",
       "      <td>-0.238990</td>\n",
       "      <td>0.216821</td>\n",
       "      <td>-0.135203</td>\n",
       "      <td>...</td>\n",
       "      <td>0.026596</td>\n",
       "      <td>-0.024128</td>\n",
       "      <td>0.021890</td>\n",
       "      <td>1.827990e-02</td>\n",
       "      <td>-1.658422e-02</td>\n",
       "      <td>0.015046</td>\n",
       "      <td>-0.013650</td>\n",
       "      <td>0.012384</td>\n",
       "      <td>-0.011235</td>\n",
       "      <td>0.010193</td>\n",
       "    </tr>\n",
       "  </tbody>\n",
       "</table>\n",
       "<p>5 rows × 31 columns</p>\n",
       "</div>"
      ],
      "text/plain": [
       "      Test1    Test2  Accepted  (x1^0)(x2^0)  (x1^1)(x2^0)  (x1^0)(x2^1)  \\\n",
       "0  0.051267  0.69956         1             1      0.051267       0.69956   \n",
       "1 -0.092742  0.68494         1             1     -0.092742       0.68494   \n",
       "2 -0.213710  0.69225         1             1     -0.213710       0.69225   \n",
       "3 -0.375000  0.50219         1             1     -0.375000       0.50219   \n",
       "4 -0.513250  0.46564         1             1     -0.513250       0.46564   \n",
       "\n",
       "   (x1^2)(x2^0)  (x1^1)(x2^1)  (x1^0)(x2^2)  (x1^3)(x2^0)      ...       \\\n",
       "0      0.002628      0.035864      0.489384      0.000135      ...        \n",
       "1      0.008601     -0.063523      0.469143     -0.000798      ...        \n",
       "2      0.045672     -0.147941      0.479210     -0.009761      ...        \n",
       "3      0.140625     -0.188321      0.252195     -0.052734      ...        \n",
       "4      0.263426     -0.238990      0.216821     -0.135203      ...        \n",
       "\n",
       "   (x1^2)(x2^3)  (x1^1)(x2^4)  (x1^0)(x2^5)  (x1^6)(x2^0)  (x1^5)(x2^1)  \\\n",
       "0      0.000900      0.012278      0.167542  1.815630e-08  2.477505e-07   \n",
       "1      0.002764     -0.020412      0.150752  6.362953e-07 -4.699318e-06   \n",
       "2      0.015151     -0.049077      0.158970  9.526844e-05 -3.085938e-04   \n",
       "3      0.017810     -0.023851      0.031940  2.780914e-03 -3.724126e-03   \n",
       "4      0.026596     -0.024128      0.021890  1.827990e-02 -1.658422e-02   \n",
       "\n",
       "   (x1^4)(x2^2)  (x1^3)(x2^3)  (x1^2)(x2^4)  (x1^1)(x2^5)  (x1^0)(x2^6)  \n",
       "0      0.000003      0.000046      0.000629      0.008589      0.117206  \n",
       "1      0.000035     -0.000256      0.001893     -0.013981      0.103256  \n",
       "2      0.001000     -0.003238      0.010488     -0.033973      0.110047  \n",
       "3      0.004987     -0.006679      0.008944     -0.011978      0.016040  \n",
       "4      0.015046     -0.013650      0.012384     -0.011235      0.010193  \n",
       "\n",
       "[5 rows x 31 columns]"
      ]
     },
     "execution_count": 24,
     "metadata": {},
     "output_type": "execute_result"
    }
   ],
   "source": [
    "data.head()"
   ]
  },
  {
   "cell_type": "markdown",
   "metadata": {},
   "source": [
    "As a result of this mapping, our vector of two features (the scores on two QA tests) has been transformed into a 28-dimensional vector. A logistic regression classifier trained on this higher-dimension feature vector will have a more complex decision boundary and will appear nonlinear when drawn in our 2-dimensional plot.\n",
    "\n",
    "While the feature mapping allows us to build a more expressive classifier, it also more susceptible to overfitting. We will implement regularized logistic regression to fit the data and see how regularization can help combat the overfitting problem."
   ]
  },
  {
   "cell_type": "markdown",
   "metadata": {},
   "source": [
    "Recall that the regularized cost function in logistic regression is:\n",
    "\n",
    "$$J(\\theta) = - \\frac{1}{m} \\sum_{i=1}^m \\large[ y^{(i)}\\ \\log (h_\\theta (x^{(i)})) + (1 - y^{(i)})\\ \\log (1 - h_\\theta(x^{(i)}))\\large] + \\frac{\\lambda}{2m}\\sum_{j=1}^n \\theta_j^2$$"
   ]
  },
  {
   "cell_type": "code",
   "execution_count": 68,
   "metadata": {
    "collapsed": false
   },
   "outputs": [],
   "source": [
    "def reg_cost_fn(theta, X, y, lam):\n",
    "    J, reg = 0, 0\n",
    "    for i in xrange(len(data)):\n",
    "        x = np.atleast_2d(X[i])\n",
    "        p1 = y[i] * np.log( sigmoid(np.dot(x, theta)) )\n",
    "        p2 = (1-y[i]) * np.log(1 - sigmoid(np.dot(x, theta)))\n",
    "        J += p1 + p2\n",
    "    J *= -(1.0/len(data))\n",
    "    \n",
    "    # Add the regularization component\n",
    "    for j in xrange(1,len(X[0])):\n",
    "        reg += theta[j]**2\n",
    "    reg *= lam*1.0/(2*len(data))\n",
    "    \n",
    "    return float(J + reg)"
   ]
  },
  {
   "cell_type": "markdown",
   "metadata": {},
   "source": [
    "When converting from panda series/columns to numpy be aware of the fact that a traditonal 1d vector in numpy cannot be transposed. A vector can be forced to take on an additional dimension by using `np.atleast_2d()` when converting from dataframe to numpy array.  This transformation always creates a **row vector**.  Therefore, if we want to produce a single number from vector multiplication, we transpose the second element into a column vector. $X * \\theta^T$.\n",
    "\n",
    "Let's define our values for the cost function: $X$, $y$, and $\\theta$."
   ]
  },
  {
   "cell_type": "code",
   "execution_count": 69,
   "metadata": {
    "collapsed": false
   },
   "outputs": [],
   "source": [
    "y = data['Accepted'].values\n",
    "\n",
    "X = data.drop(['Test1', 'Test2', 'Accepted'], 1)\n",
    "X = np.array(X)\n",
    "\n",
    "theta = np.array([[0 for x in xrange(28)]]).T"
   ]
  },
  {
   "cell_type": "markdown",
   "metadata": {},
   "source": [
    "A. Ng says that with a $\\theta$ initialized at zero ($\\lambda$ can be anything since all of our thetas are zero) should produce a base cost of 0.693. (Which matches our result for unregularized regression)."
   ]
  },
  {
   "cell_type": "code",
   "execution_count": 70,
   "metadata": {
    "collapsed": false,
    "scrolled": true
   },
   "outputs": [
    {
     "data": {
      "text/plain": [
       "0.6931471805599461"
      ]
     },
     "execution_count": 70,
     "metadata": {},
     "output_type": "execute_result"
    }
   ],
   "source": [
    "reg_cost_fn(theta, X, y, 0)"
   ]
  },
  {
   "cell_type": "markdown",
   "metadata": {},
   "source": [
    "Now we'll attempt to solve for $\\theta$ using the the same minimization algorithm we used for standard logistic regression.   We'll solve for $\\lambda = 0, 1, 100$"
   ]
  },
  {
   "cell_type": "code",
   "execution_count": 133,
   "metadata": {
    "collapsed": false,
    "scrolled": true
   },
   "outputs": [],
   "source": [
    "opts = {}\n",
    "for i in [0,1,100]:\n",
    "    opts[i] = sp.optimize.minimize(reg_cost_fn, theta, args=(X, y, i), method = 'Nelder-Mead', options={'maxfev' : 100000, 'maxiter' : 100000})"
   ]
  },
  {
   "cell_type": "markdown",
   "metadata": {},
   "source": [
    "Now we'll store the output arrays as 2D vectors."
   ]
  },
  {
   "cell_type": "code",
   "execution_count": 134,
   "metadata": {
    "collapsed": false
   },
   "outputs": [],
   "source": [
    "thetas = {}\n",
    "for i in [0,1,100]:\n",
    "    thetas[i] = np.atleast_2d(opts[i].x)"
   ]
  },
  {
   "cell_type": "markdown",
   "metadata": {},
   "source": [
    "Unlike the first example, we cannot solve for one of the features explicitly (I spent a long time on this before finding out there is no solution for a $6^{th}$ order polynomial pair). Instead, we'll iterate over our *grid space* of $x_1$ and $x_2$ and determine the value at each of those points. This will create a 3-dimensional surface, but we will flatten it into 2D by plotting it as a contour and visualizing only the $0^{th}$ level."
   ]
  },
  {
   "cell_type": "code",
   "execution_count": 135,
   "metadata": {
    "collapsed": false
   },
   "outputs": [],
   "source": [
    "def map_fn(x1,x2):\n",
    "    out = []\n",
    "    degrees = 6\n",
    "    for i in xrange(0,degrees+1):\n",
    "        for j in xrange(0,i+1):\n",
    "            out.append( (x1**(i-j)) * (x2**j))\n",
    "    return np.atleast_2d(out)"
   ]
  },
  {
   "cell_type": "code",
   "execution_count": 141,
   "metadata": {
    "collapsed": false
   },
   "outputs": [],
   "source": [
    "def contour_values(theta):\n",
    "    x = np.arange(-1,1.5,0.1)\n",
    "    y = np.arange(-1,1.5,0.1)\n",
    "    xx, yy = np.meshgrid(x,y,indexing='ij')\n",
    "    z = np.zeros([len(x), len(y)])\n",
    "\n",
    "    for i in xrange(len(x)):\n",
    "        for j in xrange(len(y)):\n",
    "            val = 0\n",
    "            z[i][j] = np.dot(map_fn(x[i], y[j]), theta.T)\n",
    "    return xx, yy, z"
   ]
  },
  {
   "cell_type": "markdown",
   "metadata": {},
   "source": [
    "With the $\\lambda$ value set to 0, no regularization is being applied. This will produce a fit that is *too specific* and is prone to overfitting. Setting $\\lambda = 1$ smooths out our fit to be more general and $\\lambda = 100$ produces a fit that is too general and thus underfitting. "
   ]
  },
  {
   "cell_type": "code",
   "execution_count": 142,
   "metadata": {
    "collapsed": false,
    "scrolled": false
   },
   "outputs": [
    {
     "data": {
      "image/png": "[encoded data removed]",
      "text/plain": [
       "<matplotlib.figure.Figure at 0x10dcee7d0>"
      ]
     },
     "metadata": {},
     "output_type": "display_data"
    },
    {
     "data": {
      "image/png": "[encoded data removed]",
      "text/plain": [
       "<matplotlib.figure.Figure at 0x10dcbd290>"
      ]
     },
     "metadata": {},
     "output_type": "display_data"
    },
    {
     "data": {
      "image/png": "[encoded data removed]",
      "text/plain": [
       "<matplotlib.figure.Figure at 0x10d206ad0>"
      ]
     },
     "metadata": {},
     "output_type": "display_data"
    }
   ],
   "source": [
    "for i in [0,1,100]:\n",
    "    xx, yy, z = contour_values(thetas[i])\n",
    "    g = sns.lmplot(x='Test1', y='Test2', data=data, hue='Accepted', fit_reg=False);\n",
    "    plt.contour(xx, yy, z, 0, linewidth='2', colors='k');\n",
    "    plt.title('Lambda = {}'.format(i))"
   ]
  },
  {
   "cell_type": "markdown",
   "metadata": {},
   "source": [
    "And for fun let's utilize last week's code to visualize our polynomial surface and see what it looks like.  The boundary line that gets visualized in 2D is where this surface touches 0 on the $Z$ axis. "
   ]
  },
  {
   "cell_type": "code",
   "execution_count": 180,
   "metadata": {
    "collapsed": false,
    "scrolled": false
   },
   "outputs": [
    {
     "data": {
      "image/png": "[encoded data removed]",
      "text/plain": [
       "<matplotlib.figure.Figure at 0x10d730d10>"
      ]
     },
     "metadata": {},
     "output_type": "display_data"
    }
   ],
   "source": [
    "xx, yy, z = contour_values(thetas[1])\n",
    "from mpl_toolkits.mplot3d import Axes3D\n",
    "fig = plt.figure()\n",
    "ax = Axes3D(fig)\n",
    "ax.plot_surface(xx, yy, z, alpha=0.75, cmap='Blues')\n",
    "for ii in xrange(0,360,5):\n",
    "    ax.view_init(elev=10., azim=ii)\n",
    "    display.display(plt.gcf())\n",
    "    display.clear_output(wait=True)"
   ]
  },
  {
   "cell_type": "code",
   "execution_count": null,
   "metadata": {
    "collapsed": true
   },
   "outputs": [],
   "source": []
  }
 ],
 "metadata": {
  "kernelspec": {
   "display_name": "Python 2",
   "language": "python",
   "name": "python2"
  },
  "language_info": {
   "codemirror_mode": {
    "name": "ipython",
    "version": 2
   },
   "file_extension": ".py",
   "mimetype": "text/x-python",
   "name": "python",
   "nbconvert_exporter": "python",
   "pygments_lexer": "ipython2",
   "version": "2.7.10"
  }
 },
 "nbformat": 4,
 "nbformat_minor": 0
}
