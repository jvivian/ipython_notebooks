{
 "cells": [
  {
   "cell_type": "markdown",
   "metadata": {},
   "source": [
    "# Introduction\n",
    "### Supervised Learning\n",
    "\n",
    "The algorithm has a data set where the \"right answers\" are available.\n",
    "\n",
    "Examples:\n",
    "\n",
    "1. Given square feet of a house, predict the value. \n",
    "2. Given a tumor size, predict whether malignant or benign.\n",
    "\n",
    "The first example is a **regression** problem -- trying to predict a continuous value. <br> The second example is a **classification** problem -- discrete valued output. In this case, malignant(1) or benign(0). </br> \n",
    "\n",
    "This can be expanded when there are more **features** in the data set. Given *age* and *tumor size*, a 2d plot could be constructed showing where benign and malignant tumors fall on this plot.  A good learning algorithm is one that can handle any number of features to help you make predictions. \n",
    "\n",
    "**Support Vector Machines**, for example, can handle any number of features by using a clever mathematical trick. \n"
   ]
  },
  {
   "cell_type": "markdown",
   "metadata": {},
   "source": [
    "### Unsupervised Learning\n",
    "\n",
    "\n",
    "In unsupervised learning, there are no \"truth\" labels associated with any of the data. Given a dataset, can interesting structures be found in the data. These are generally called **clustering algorithms**.\n",
    "\n",
    "With unsupervised learning there is no feedback based on the prediction results, i.e., there is no teacher to correct you. It’s not just about clustering. For example, associative memory is unsupervised learning.\n",
    "\n",
    "**Example:**\n",
    "\n",
    "Clustering: Take a collection of 1000 essays written on the US Economy, and find a way to automatically group these essays into a small number that are somehow similar or related by different variables, such as word frequency, sentence length, page count, and so on.\n"
   ]
  },
  {
   "cell_type": "markdown",
   "metadata": {
    "collapsed": true
   },
   "source": [
    "# Linear Regression with One Variable\n",
    "\n",
    "###Model Representation\n",
    "\n",
    "Recall that in *regression problems*, we are taking input variables and trying to map the output onto a *continuous* expected result function.\n",
    "\n",
    "Linear regression with one variable is also known as \"univariate linear regression.\"\n",
    "\n",
    "Univariate linear regression is used when you want to predict a **single output** value from a **single input** value. We're doing **supervised learning** here, so that means we already have an idea what the input/output cause and effect should be.\n",
    "\n",
    "###The Hypothesis Function\n",
    "\n",
    "Our hypothesis function has the general form:\n",
    "\n",
    "$$ h_\\theta(x) = \\theta_0 + \\theta_1x $$\n",
    "\n",
    "We give $h\\theta$ values for $\\theta_0$ and $\\theta_1$ to get our output **y**.  In other words, we are trying to create a function called $h_\\theta$ that is able to reliably map our input data (the **x**'s) to our output data (the **y**'s)\n",
    "\n",
    "|  x (output) | y (output) |\n",
    "|-------------|------------|\n",
    "| 0           | 4          |\n",
    "| 1           | 7          |\n",
    "| 2           | 7          |\n",
    "| 3           | 8          |\n",
    "\n",
    "\n",
    "Now we can make a random guess about our $h_\\theta$ function: $\\theta_0 = 2$ and $\\theta_1 = 2$. The hypothesis function becomes: $h_\\theta(x) = 2 + 2x$.   For an input of 1 to our hypothesis, **y** will be 4. This is off by 3. \n",
    "\n",
    "### Cost Function\n",
    "We can measure the accuracy of our hypothesis function by using a **cost function**. This takes an average (actually a fancier version of an average) of all the results of the hypothesis with inputs from x's compared to the actual output y's. Note: I will not be using the notation in the course ($x^i, y^i$) and will subscript ($x_i, y_i$) as $i$ is iterated over and refers to the training sample not an exponent value.\n",
    "\n",
    "$$ J(\\theta_0, \\theta_1) = \\frac{1}{2m} \\sum_{i=1}^m (h_\\theta(x_i) - y_i)^2$$\n",
    "\n",
    "To break it apart, it is $\\frac{1}{2}\\bar{x}$ where $\\bar{x}$ is the mean of the squares of $h_\\theta(x^i) - y^i)$, or the difference between the predicted value and the actual value. \n",
    "\n",
    "This function is otherwise called the Squared error function, or Mean squared error. The mean is halved $(\\frac{1}{2m})$ as a convenience for the computation of gradient descent, as the derivative term of the square function will cancel out the $\\frac{1}{2}$ term. \n",
    "\n",
    "Now we are able to concretely measure the accuracy of our predictor function against the correct results we have so that we can predict new results we don't have. \n",
    "\n",
    "### Gradient Descent\n",
    "So we have our hypothesis function and we have a way of measuring how accurate it is. Now what we need is a way to automatically improve our hypothesis function. That's where gradient descent comes in.\n",
    "\n",
    "Imagine that we graph our hypothesis function based on its fields $\\theta_0$ and $\\theta_1$ (actually we are graphing the cost function for the combinations of parameters). This can be kind of confusing; we are moving up to a higher level of abstraction. We are not graphing x and y itself, but the guesses of our hypothesis function.\n",
    "\n",
    "We put $\\theta_0$ on the x axis and $\\theta_1$ on the z axis, with the cost function on the vertical y axis. The points on our graph will be the result of the **cost function** using our hypothesis with those specific theta parameters.\n",
    "\n",
    "We will know that we have succeeded when our cost function is at the very bottom of the pits in our graph, i.e. when its value is the minimum.\n",
    "\n",
    "The way we do this is by taking the **derivative** (the line tangent to a function) of our cost function. The slope of the tangent is the derivative at that point and it will give us a direction to move towards. We make steps down that derivative by the parameter α, called the learning rate.\n",
    "\n",
    "The gradient descent equation is: \n",
    "**repeat until convergence**\n",
    "$$ \\theta_j := \\theta_j - \\alpha \\frac{\\partial}{\\partial\\theta_j} J(\\theta_0, \\theta_1)$$\n",
    "for j=0 and j=1\n",
    "\n",
    "Intuitively, this could be thought of as: $\\theta_j := \\theta_j - \\alpha$[Slope of tangent aka derivative].\n",
    "\n",
    "### Gradient Descent for Linear Regression\n",
    "When specifically applied to the case of linear regression, a new form of the gradient descent equation can be derived. We can substitute our actual cost function and our actual hypothesis function and modify the equation to (the derivation of the formulas are out of the scope of this course, but a really great one can be [found here](http://math.stackexchange.com/questions/70728/partial-derivative-in-gradient-descent-for-two-variables/189792#189792). Repeat until convergence:\n",
    "\n",
    "$$ \\theta_0 := \\theta_0 - \\alpha\\frac{1}{m} \\sum_{i=1}^m (h_\\theta(x_i) - y_i) $$\n",
    "\n",
    "$$ \\theta_1 := \\theta_1 - \\alpha\\frac{1}{m} \\sum_{i=1}^m ((h_\\theta(x_i) - y_i)x^i)$$ \n",
    "\n",
    "where **m** is the size of the training set, $\\theta_0$ a constant that will be changing simultaneously with $\\theta_1$ and $x^i$, $y^i$ are values of the given training set (data).\n",
    "\n",
    "Note that we have separated out the two cases for $\\theta_j$ and that for $\\theta_1$ we are multiplying $x^i$ at the end due to the derivative.\n",
    "\n",
    "The point of all this is that if we start with a guess for our hypothesis and then repeatedly apply these gradient descent equations, our hypothesis will become more and more accurate."
   ]
  },
  {
   "cell_type": "markdown",
   "metadata": {
    "collapsed": true
   },
   "source": [
    "#### Quiz\n",
    "Suppose $\\theta_0 = 1$, $\\theta_1 = 2$, and we simultaneously update $\\theta_0$ and $\\theta_1$ using hte rule\n",
    "$\\theta_j := \\theta_j + \\sqrt{\\theta_0 \\theta_1}$ (for $j=0$ and $j=1$). What are the resulting values of $\\theta_0$ and $\\theta_1$?\n",
    "\n",
    "$\\theta_0$ = 1\n",
    "<br>$\\theta_1$ = 2</br>\n",
    "<br>temp_$\\theta_0$ = 1 + $\\sqrt{1*2}$</br>\n",
    "<br>temp_$\\theta_1$ = 2 + $\\sqrt{1*2}$</br> \n",
    "<br>$\\theta_0$ = 1 + $\\sqrt{1*2}$</br>\n",
    "<br>$\\theta_1$ = 2 + $\\sqrt{1*2}$</br>\n"
   ]
  },
  {
   "cell_type": "code",
   "execution_count": null,
   "metadata": {
    "collapsed": true
   },
   "outputs": [],
   "source": []
  }
 ],
 "metadata": {
  "kernelspec": {
   "display_name": "Python 2",
   "language": "python",
   "name": "python2"
  },
  "language_info": {
   "codemirror_mode": {
    "name": "ipython",
    "version": 2
   },
   "file_extension": ".py",
   "mimetype": "text/x-python",
   "name": "python",
   "nbconvert_exporter": "python",
   "pygments_lexer": "ipython2",
   "version": "2.7.10"
  }
 },
 "nbformat": 4,
 "nbformat_minor": 0
}
