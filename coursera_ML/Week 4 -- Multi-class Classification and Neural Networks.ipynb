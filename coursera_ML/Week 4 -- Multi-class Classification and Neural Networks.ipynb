{
 "cells": [
  {
   "cell_type": "code",
   "execution_count": 286,
   "metadata": {
    "collapsed": true
   },
   "outputs": [],
   "source": [
    "%matplotlib inline\n",
    "import pandas as pd\n",
    "import matplotlib.pyplot as plt\n",
    "import seaborn as sns\n",
    "import numpy as np\n",
    "from IPython import display\n",
    "from pandas.tools.plotting import scatter_matrix\n",
    "import scipy as sp\n",
    "import scipy.io"
   ]
  },
  {
   "cell_type": "code",
   "execution_count": 37,
   "metadata": {
    "collapsed": false
   },
   "outputs": [
    {
     "data": {
      "text/html": [
       "<style>body {\n",
       "    margin: 0;\n",
       "    font-family: Helvetica;\n",
       "}\n",
       "table.dataframe {\n",
       "    border-collapse: collapse;\n",
       "    border: none;\n",
       "}\n",
       "table.dataframe tr {\n",
       "    border: none;\n",
       "}\n",
       "table.dataframe td, table.dataframe th {\n",
       "    margin: 0;\n",
       "    border: 1px solid white;\n",
       "    padding-left: 0.25em;\n",
       "    padding-right: 0.25em;\n",
       "}\n",
       "table.dataframe th:not(:empty) {\n",
       "    background-color: #fec;\n",
       "    text-align: left;\n",
       "    font-weight: normal;\n",
       "}\n",
       "table.dataframe tr:nth-child(2) th:empty {\n",
       "    border-left: none;\n",
       "    border-right: 1px dashed #888;\n",
       "}\n",
       "table.dataframe td {\n",
       "    border: 2px solid #ccf;\n",
       "    background-color: #f4f4ff;\n",
       "}\n",
       "h3 {\n",
       "    color: white;\n",
       "    background-color: black;\n",
       "    padding: 0.5em;\n",
       "}\n",
       "</style>"
      ],
      "text/plain": [
       "<IPython.core.display.HTML object>"
      ]
     },
     "execution_count": 37,
     "metadata": {},
     "output_type": "execute_result"
    }
   ],
   "source": [
    "from IPython.core.display import HTML\n",
    "css = open('style-table.css').read() + open('style-notebook.css').read()\n",
    "HTML('<style>{}</style>'.format(css))"
   ]
  },
  {
   "cell_type": "markdown",
   "metadata": {},
   "source": [
    "# Multi-class Classification\n",
    "We will use logistic regression and neural networks to recognize handwritten digits (from 0 to 9). Automated handwritten digit recognition is widely used today - from recognizing zip codes (postal codes) on mail envelopes to recognizing amounts written on bank checks."
   ]
  },
  {
   "cell_type": "code",
   "execution_count": 178,
   "metadata": {
    "collapsed": false
   },
   "outputs": [],
   "source": [
    "mat = scipy.io.loadmat('Exercises_3/ex3/ex3data1.mat')\n",
    "X, y = mat['X'], mat['y']"
   ]
  },
  {
   "cell_type": "markdown",
   "metadata": {},
   "source": [
    "There are 5000 training examples in `ex3data1.mat`, where each training example is a 20 pixel by 20 pixel grayscale image of the digit. Each pixel is represented by a floating point number indicating the grayscale intensity at that location. The 20 by 20 grid of pixels is “unrolled” into a 400-dimensional vector. Each of these training examples becomes a single row in our data matrix $X$. This gives us a 5000 by 400 matrix $X$ where every row is a training example for a handwritten digit image.\n",
    "\n",
    "Indexing at 1 instead of 0 is probably a sin so we'll fix that by changing all of the \"10\" values in the $y$ vector, meant to represent 0, with a 0 for consistency. "
   ]
  },
  {
   "cell_type": "code",
   "execution_count": 204,
   "metadata": {
    "collapsed": false
   },
   "outputs": [],
   "source": [
    "y[y==10] = 0"
   ]
  },
  {
   "cell_type": "markdown",
   "metadata": {},
   "source": [
    "### Visualize Data\n",
    "We'll define a function that let's us visualize a 100 random samples from our dataset X."
   ]
  },
  {
   "cell_type": "code",
   "execution_count": 179,
   "metadata": {
    "collapsed": true
   },
   "outputs": [],
   "source": [
    "def displayData( X, theta = None ):\n",
    "    \"\"\"\n",
    "    Display Function taken from:\n",
    "    https://github.com/subokita/mlclass/blob/master/ex3.py#L42\n",
    "    \"\"\"\n",
    "    width = 20\n",
    "    rows, cols = 10, 10\n",
    "    out = np.zeros(( width * rows, width*cols ))\n",
    "\n",
    "    rand_indices = np.random.permutation( 5000 )[0:rows * cols]\n",
    "\n",
    "    counter = 0\n",
    "    for y in range(0, rows):\n",
    "        for x in range(0, cols):\n",
    "            start_x = x * width\n",
    "            start_y = y * width\n",
    "            out[start_x:start_x+width, start_y:start_y+width] = X[rand_indices[counter]].reshape(width, width).T\n",
    "            counter += 1\n",
    "\n",
    "    img = scipy.misc.toimage( out )\n",
    "    figure  = plt.figure()\n",
    "    axes    = figure.add_subplot(111)\n",
    "    axes.imshow( img )\n",
    "\n",
    "\n",
    "    if theta is not None:\n",
    "        result_matrix = []\n",
    "        X_biased = c_[ ones( shape(X)[0] ), X ]\n",
    "\n",
    "        for idx in rand_indices:\n",
    "            result = (argmax( theta.T.dot(X_biased[idx]) ) + 1) % 10\n",
    "            result_matrix.append( result )\n",
    "\n",
    "        result_matrix = array( result_matrix ).reshape( rows, cols ).transpose()\n",
    "        print result_matrix\n",
    "\n",
    "    plt.show()"
   ]
  },
  {
   "cell_type": "code",
   "execution_count": 205,
   "metadata": {
    "collapsed": false
   },
   "outputs": [
    {
     "data": {
      "image/png": "[encoded data removed]",
      "text/plain": [
       "<matplotlib.figure.Figure at 0x10998f4d0>"
      ]
     },
     "metadata": {},
     "output_type": "display_data"
    }
   ],
   "source": [
    "displayData(X)"
   ]
  },
  {
   "cell_type": "markdown",
   "metadata": {},
   "source": [
    "### Scikit Learn\n",
    "Because this is the modern age, we won't waste our time reimplemnting every algorithm from scratch."
   ]
  },
  {
   "cell_type": "code",
   "execution_count": 219,
   "metadata": {
    "collapsed": false
   },
   "outputs": [],
   "source": [
    "from sklearn import linear_model"
   ]
  },
  {
   "cell_type": "code",
   "execution_count": 321,
   "metadata": {
    "collapsed": false
   },
   "outputs": [],
   "source": [
    "logreg = linear_model.LogisticRegression(C=.1)\n",
    "y = y.ravel()"
   ]
  },
  {
   "cell_type": "code",
   "execution_count": 322,
   "metadata": {
    "collapsed": false
   },
   "outputs": [
    {
     "data": {
      "text/plain": [
       "LogisticRegression(C=0.1, class_weight=None, dual=False, fit_intercept=True,\n",
       "          intercept_scaling=1, max_iter=100, multi_class='ovr',\n",
       "          penalty='l2', random_state=None, solver='liblinear', tol=0.0001,\n",
       "          verbose=0)"
      ]
     },
     "execution_count": 322,
     "metadata": {},
     "output_type": "execute_result"
    }
   ],
   "source": [
    "logreg.fit(X, y)"
   ]
  },
  {
   "cell_type": "code",
   "execution_count": 323,
   "metadata": {
    "collapsed": true
   },
   "outputs": [],
   "source": [
    "from sklearn import cross_validation\n",
    "from sklearn import metrics"
   ]
  },
  {
   "cell_type": "code",
   "execution_count": 324,
   "metadata": {
    "collapsed": false
   },
   "outputs": [
    {
     "data": {
      "text/plain": [
       "array([ 0.87724551,  0.90359281,  0.89036145])"
      ]
     },
     "execution_count": 324,
     "metadata": {},
     "output_type": "execute_result"
    }
   ],
   "source": [
    "cross_validation.cross_val_score(logreg, X, y)"
   ]
  },
  {
   "cell_type": "code",
   "execution_count": 260,
   "metadata": {
    "collapsed": false
   },
   "outputs": [],
   "source": [
    "predicted = cross_validation.cross_val_predict(logreg, X, y)"
   ]
  },
  {
   "cell_type": "code",
   "execution_count": 284,
   "metadata": {
    "collapsed": true
   },
   "outputs": [],
   "source": [
    "def plot_confusion_matrix(cm, title='Confusion matrix', cmap=plt.cm.Blues):\n",
    "    plt.imshow(cm, interpolation='nearest', cmap=cmap)\n",
    "    plt.title(title)\n",
    "    plt.colorbar()\n",
    "    tick_marks = np.arange(10)\n",
    "    plt.xticks(tick_marks, xrange(10), rotation=45)\n",
    "    plt.yticks(tick_marks, xrange(10))\n",
    "    plt.tight_layout()\n",
    "    plt.ylabel('True label')\n",
    "    plt.xlabel('Predicted label')"
   ]
  },
  {
   "cell_type": "code",
   "execution_count": 285,
   "metadata": {
    "collapsed": false
   },
   "outputs": [
    {
     "data": {
      "text/plain": [
       "array([[462,   0,   4,   6,   1,  15,   4,   2,   3,   3],\n",
       "       [  1, 465,   3,   4,   3,   5,   0,   2,  16,   1],\n",
       "       [ 11,  11, 393,  13,  10,   4,  10,   9,  30,   9],\n",
       "       [  5,  11,  22, 379,   5,  34,   1,   6,  21,  16],\n",
       "       [  4,   3,   8,   1, 409,   5,  10,   4,  20,  36],\n",
       "       [  8,   5,   4,  32,   8, 387,  11,   2,  28,  15],\n",
       "       [  7,   2,  15,   0,   7,  18, 440,   0,   7,   4],\n",
       "       [  5,   9,   2,  10,  11,   0,   1, 427,   2,  33],\n",
       "       [  9,  18,  13,  16,  12,  21,  12,   3, 376,  20],\n",
       "       [ 10,   5,   3,   8,  29,  17,   3,  32,  15, 378]])"
      ]
     },
     "execution_count": 285,
     "metadata": {},
     "output_type": "execute_result"
    },
    {
     "data": {
      "image/png": "[encoded data removed]",
      "text/plain": [
       "<matplotlib.figure.Figure at 0x110325810>"
      ]
     },
     "metadata": {},
     "output_type": "display_data"
    }
   ],
   "source": [
    "cm = metrics.confusion_matrix(y, predicted)\n",
    "plot_confusion_matrix(cm)\n",
    "cm"
   ]
  },
  {
   "cell_type": "markdown",
   "metadata": {},
   "source": [
    "### Improve our accuracy\n",
    "For fun, we'll follow SKLearn's recommendation for digit identification and use Support Vector Machine"
   ]
  },
  {
   "cell_type": "code",
   "execution_count": 288,
   "metadata": {
    "collapsed": true
   },
   "outputs": [],
   "source": [
    "from sklearn import svm"
   ]
  },
  {
   "cell_type": "code",
   "execution_count": 332,
   "metadata": {
    "collapsed": false
   },
   "outputs": [],
   "source": [
    "classifier = svm.SVC(gamma=.1)"
   ]
  },
  {
   "cell_type": "code",
   "execution_count": 333,
   "metadata": {
    "collapsed": false
   },
   "outputs": [
    {
     "data": {
      "text/plain": [
       "SVC(C=1.0, cache_size=200, class_weight=None, coef0=0.0, degree=3, gamma=0.1,\n",
       "  kernel='rbf', max_iter=-1, probability=False, random_state=None,\n",
       "  shrinking=True, tol=0.001, verbose=False)"
      ]
     },
     "execution_count": 333,
     "metadata": {},
     "output_type": "execute_result"
    }
   ],
   "source": [
    "classifier.fit(X, y)"
   ]
  },
  {
   "cell_type": "code",
   "execution_count": 334,
   "metadata": {
    "collapsed": false
   },
   "outputs": [
    {
     "data": {
      "text/plain": [
       "array([ 0.94071856,  0.95568862,  0.95421687])"
      ]
     },
     "execution_count": 334,
     "metadata": {},
     "output_type": "execute_result"
    }
   ],
   "source": [
    "cross_validation.cross_val_score(classifier, X, y)"
   ]
  },
  {
   "cell_type": "code",
   "execution_count": 339,
   "metadata": {
    "collapsed": true
   },
   "outputs": [],
   "source": [
    "predicted = cross_validation.cross_val_predict(classifier, X, y)"
   ]
  },
  {
   "cell_type": "code",
   "execution_count": 340,
   "metadata": {
    "collapsed": false,
    "scrolled": false
   },
   "outputs": [
    {
     "name": "stdout",
     "output_type": "stream",
     "text": [
      "Classification report for classifier SVC(C=1.0, cache_size=200, class_weight=None, coef0=0.0, degree=3, gamma=0.1,\n",
      "  kernel='rbf', max_iter=-1, probability=False, random_state=None,\n",
      "  shrinking=True, tol=0.001, verbose=False):\n",
      "             precision    recall  f1-score   support\n",
      "\n",
      "          0       0.97      0.98      0.98       500\n",
      "          1       0.98      0.97      0.98       500\n",
      "          2       0.88      0.96      0.92       500\n",
      "          3       0.95      0.92      0.93       500\n",
      "          4       0.95      0.95      0.95       500\n",
      "          5       0.94      0.95      0.95       500\n",
      "          6       0.97      0.96      0.97       500\n",
      "          7       0.96      0.94      0.95       500\n",
      "          8       0.95      0.94      0.94       500\n",
      "          9       0.95      0.92      0.94       500\n",
      "\n",
      "avg / total       0.95      0.95      0.95      5000\n",
      "\n",
      "\n",
      "Confusion matrix:\n",
      "[[489   0   3   1   1   1   2   0   3   0]\n",
      " [  0 485   5   1   2   1   1   2   3   0]\n",
      " [  3   1 482   4   3   1   0   1   4   1]\n",
      " [  0   0  14 460   1  11   1   6   5   2]\n",
      " [  0   1  10   1 474   0   2   1   1  10]\n",
      " [  2   0   3   8   2 477   4   0   4   0]\n",
      " [  3   1   8   0   1   5 481   0   1   0]\n",
      " [  1   2   7   0   5   2   0 472   1  10]\n",
      " [  1   1  11   5   2   6   3   0 470   1]\n",
      " [  4   2   4   5  10   1   1   8   4 461]]\n"
     ]
    }
   ],
   "source": [
    "print(\"Classification report for classifier %s:\\n%s\\n\"\n",
    "      % (classifier, metrics.classification_report(y, predicted)))\n",
    "print(\"Confusion matrix:\\n%s\" % metrics.confusion_matrix(y, predicted))"
   ]
  },
  {
   "cell_type": "markdown",
   "metadata": {},
   "source": [
    "### Dimensionality Reduction"
   ]
  },
  {
   "cell_type": "code",
   "execution_count": 341,
   "metadata": {
    "collapsed": true
   },
   "outputs": [],
   "source": [
    "from sklearn import decomposition"
   ]
  },
  {
   "cell_type": "code",
   "execution_count": 347,
   "metadata": {
    "collapsed": true
   },
   "outputs": [],
   "source": [
    "pca = decomposition.PCA(n_components=2)"
   ]
  },
  {
   "cell_type": "code",
   "execution_count": 348,
   "metadata": {
    "collapsed": false
   },
   "outputs": [
    {
     "data": {
      "text/plain": [
       "PCA(copy=True, n_components=2, whiten=False)"
      ]
     },
     "execution_count": 348,
     "metadata": {},
     "output_type": "execute_result"
    }
   ],
   "source": [
    "pca.fit(X)"
   ]
  },
  {
   "cell_type": "code",
   "execution_count": 349,
   "metadata": {
    "collapsed": false
   },
   "outputs": [
    {
     "name": "stdout",
     "output_type": "stream",
     "text": [
      "[ 0.11060631  0.07975676]\n"
     ]
    }
   ],
   "source": [
    "print(pca.explained_variance_ratio_) "
   ]
  },
  {
   "cell_type": "markdown",
   "metadata": {},
   "source": [
    "### Vectorizing Logistic Regression\n",
    "We'll go ahead and try and vectorize regularized logistic regression.  We defined unregularized logistic regression (in vector form) last week.  We'll follow the standard now that all vectors are column vectors (i.e. row = 1, r,x).\n",
    "\n",
    "Our vector implementation for regularization is trying to emulate: $\\frac{\\lambda}{2m}\\sum_{j=1}^n \\theta_j^2$, so we need to make sure not to affect our 0th, or bias, term. "
   ]
  },
  {
   "cell_type": "code",
   "execution_count": 207,
   "metadata": {
    "collapsed": false
   },
   "outputs": [],
   "source": [
    "def reg_cost_fn(theta, X, y, lam):\n",
    "    m = len(y)\n",
    "    g_xo = sigmoid(np.dot(X, theta))\n",
    "    p1 = np.dot(np.log(g_xo).T, y)\n",
    "    p2 = np.dot(np.log(1-g_xo).T, (1-y))\n",
    "    \n",
    "    # Regularization term\n",
    "    reg = theta.T.dot( theta ) * (lam / (2*m))\n",
    "    return float((-1.0/(len(X))) * (p1 + p2)) + reg\n",
    "\n",
    "def sigmoid(x):\n",
    "    return 1 / (1 + np.exp(-x))"
   ]
  },
  {
   "cell_type": "markdown",
   "metadata": {},
   "source": [
    "### One-vs-all Classification"
   ]
  },
  {
   "cell_type": "markdown",
   "metadata": {},
   "source": [
    "We will implement one-vs-all classification by training multiple regularized logistic regression classifiers, one for each of the $K$ classes in our dataset.  We'll return a matrix $\\Theta \\in \\mathbb{R}^{K x (n+1)}$, where each row of $\\Theta$ corresponds to the learned logistic regression parameters for one class."
   ]
  }
 ],
 "metadata": {
  "kernelspec": {
   "display_name": "Python 2",
   "language": "python",
   "name": "python2"
  },
  "language_info": {
   "codemirror_mode": {
    "name": "ipython",
    "version": 2
   },
   "file_extension": ".py",
   "mimetype": "text/x-python",
   "name": "python",
   "nbconvert_exporter": "python",
   "pygments_lexer": "ipython2",
   "version": "2.7.10"
  }
 },
 "nbformat": 4,
 "nbformat_minor": 0
}
