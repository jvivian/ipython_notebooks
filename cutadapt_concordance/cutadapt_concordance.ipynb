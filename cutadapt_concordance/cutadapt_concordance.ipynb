{
 "cells": [
  {
   "cell_type": "code",
   "execution_count": 1,
   "metadata": {
    "collapsed": true
   },
   "outputs": [],
   "source": [
    "%matplotlib inline\n",
    "import matplotlib.pyplot as plt\n",
    "import seaborn as sns\n",
    "import pandas as pd\n",
    "import numpy as np\n",
    "import os"
   ]
  },
  {
   "cell_type": "markdown",
   "metadata": {},
   "source": [
    "# RNA-seq Expression Concordance when Using CutAdapt\n",
    "\n",
    "CutAdapt is a pre-processing step in the `toil-rnaseq` pipeline that trims adapters. How different are the expression values between samples run with cutadapt vs. without?"
   ]
  },
  {
   "cell_type": "code",
   "execution_count": 2,
   "metadata": {
    "collapsed": true
   },
   "outputs": [],
   "source": [
    "cut = pd.read_csv('cutadapt-sample/rsem_genes.results', sep='\\t')\n",
    "non = pd.read_csv('sample/rsem_genes.results', sep='\\t')"
   ]
  },
  {
   "cell_type": "code",
   "execution_count": 3,
   "metadata": {
    "collapsed": false
   },
   "outputs": [],
   "source": [
    "assert list(cut.index) == list(non.index)"
   ]
  },
  {
   "cell_type": "code",
   "execution_count": 4,
   "metadata": {
    "collapsed": true
   },
   "outputs": [],
   "source": [
    "df = pd.DataFrame()\n",
    "df['cut'] = cut.expected_count.apply(lambda x: np.log2(x + 1))\n",
    "df['non'] = non.expected_count.apply(lambda x: np.log2(x + 1))\n",
    "df.index = cut.index"
   ]
  },
  {
   "cell_type": "code",
   "execution_count": 5,
   "metadata": {
    "collapsed": false,
    "scrolled": true
   },
   "outputs": [
    {
     "data": {
      "image/png": "[encoded data removed]",
      "text/plain": [
       "<matplotlib.figure.Figure at 0x10ac95910>"
      ]
     },
     "metadata": {},
     "output_type": "display_data"
    }
   ],
   "source": [
    "g = sns.jointplot('cut', 'non', data=df)\n",
    "g.set_axis_labels(xlabel='Expression Values w/ CutAdapt', ylabel='Expression Values w/out CutAdapt')\n",
    "g.ax_joint.collections[0].set_alpha(0.1)"
   ]
  },
  {
   "cell_type": "code",
   "execution_count": 8,
   "metadata": {
    "collapsed": false
   },
   "outputs": [
    {
     "data": {
      "text/html": [
       "<div>\n",
       "<table border=\"1\" class=\"dataframe\">\n",
       "  <thead>\n",
       "    <tr style=\"text-align: right;\">\n",
       "      <th></th>\n",
       "      <th>gene_id</th>\n",
       "      <th>transcript_id(s)</th>\n",
       "      <th>length</th>\n",
       "      <th>effective_length</th>\n",
       "      <th>expected_count</th>\n",
       "      <th>TPM</th>\n",
       "      <th>FPKM</th>\n",
       "    </tr>\n",
       "  </thead>\n",
       "  <tbody>\n",
       "    <tr>\n",
       "      <th>0</th>\n",
       "      <td>ENSG00000000003.14</td>\n",
       "      <td>ENST00000373020.8,ENST00000494424.1,ENST000004...</td>\n",
       "      <td>2205.11</td>\n",
       "      <td>2049.03</td>\n",
       "      <td>9798.00</td>\n",
       "      <td>3.58</td>\n",
       "      <td>17.98</td>\n",
       "    </tr>\n",
       "    <tr>\n",
       "      <th>1</th>\n",
       "      <td>ENSG00000000005.5</td>\n",
       "      <td>ENST00000373031.4,ENST00000485971.1</td>\n",
       "      <td>1339.00</td>\n",
       "      <td>1182.92</td>\n",
       "      <td>38.00</td>\n",
       "      <td>0.02</td>\n",
       "      <td>0.12</td>\n",
       "    </tr>\n",
       "    <tr>\n",
       "      <th>2</th>\n",
       "      <td>ENSG00000000419.12</td>\n",
       "      <td>ENST00000371582.8,ENST00000371584.8,ENST000003...</td>\n",
       "      <td>1072.84</td>\n",
       "      <td>916.76</td>\n",
       "      <td>5776.00</td>\n",
       "      <td>4.71</td>\n",
       "      <td>23.69</td>\n",
       "    </tr>\n",
       "    <tr>\n",
       "      <th>3</th>\n",
       "      <td>ENSG00000000457.13</td>\n",
       "      <td>ENST00000367770.5,ENST00000367771.10,ENST00000...</td>\n",
       "      <td>3827.70</td>\n",
       "      <td>3671.62</td>\n",
       "      <td>3864.06</td>\n",
       "      <td>0.79</td>\n",
       "      <td>3.96</td>\n",
       "    </tr>\n",
       "    <tr>\n",
       "      <th>4</th>\n",
       "      <td>ENSG00000000460.16</td>\n",
       "      <td>ENST00000286031.10,ENST00000359326.8,ENST00000...</td>\n",
       "      <td>2272.22</td>\n",
       "      <td>2116.14</td>\n",
       "      <td>5451.94</td>\n",
       "      <td>1.93</td>\n",
       "      <td>9.69</td>\n",
       "    </tr>\n",
       "  </tbody>\n",
       "</table>\n",
       "</div>"
      ],
      "text/plain": [
       "              gene_id                                   transcript_id(s)  \\\n",
       "0  ENSG00000000003.14  ENST00000373020.8,ENST00000494424.1,ENST000004...   \n",
       "1   ENSG00000000005.5                ENST00000373031.4,ENST00000485971.1   \n",
       "2  ENSG00000000419.12  ENST00000371582.8,ENST00000371584.8,ENST000003...   \n",
       "3  ENSG00000000457.13  ENST00000367770.5,ENST00000367771.10,ENST00000...   \n",
       "4  ENSG00000000460.16  ENST00000286031.10,ENST00000359326.8,ENST00000...   \n",
       "\n",
       "    length  effective_length  expected_count   TPM   FPKM  \n",
       "0  2205.11           2049.03         9798.00  3.58  17.98  \n",
       "1  1339.00           1182.92           38.00  0.02   0.12  \n",
       "2  1072.84            916.76         5776.00  4.71  23.69  \n",
       "3  3827.70           3671.62         3864.06  0.79   3.96  \n",
       "4  2272.22           2116.14         5451.94  1.93   9.69  "
      ]
     },
     "execution_count": 8,
     "metadata": {},
     "output_type": "execute_result"
    }
   ],
   "source": [
    "non.head()"
   ]
  },
  {
   "cell_type": "markdown",
   "metadata": {},
   "source": [
    "Some deviation, but heteroskedasity skews the variance towards the lower expression end where you'd expect the most error."
   ]
  },
  {
   "cell_type": "code",
   "execution_count": 7,
   "metadata": {
    "collapsed": false
   },
   "outputs": [
    {
     "data": {
      "text/html": [
       "<div>\n",
       "<table border=\"1\" class=\"dataframe\">\n",
       "  <thead>\n",
       "    <tr style=\"text-align: right;\">\n",
       "      <th></th>\n",
       "      <th>gene_id</th>\n",
       "      <th>transcript_id(s)</th>\n",
       "      <th>length</th>\n",
       "      <th>effective_length</th>\n",
       "      <th>expected_count</th>\n",
       "      <th>TPM</th>\n",
       "      <th>FPKM</th>\n",
       "    </tr>\n",
       "  </thead>\n",
       "  <tbody>\n",
       "    <tr>\n",
       "      <th>0</th>\n",
       "      <td>ENSG00000000003.14</td>\n",
       "      <td>ENST00000373020.8,ENST00000494424.1,ENST000004...</td>\n",
       "      <td>2205.12</td>\n",
       "      <td>2049.04</td>\n",
       "      <td>9798.00</td>\n",
       "      <td>3.58</td>\n",
       "      <td>17.99</td>\n",
       "    </tr>\n",
       "    <tr>\n",
       "      <th>1</th>\n",
       "      <td>ENSG00000000005.5</td>\n",
       "      <td>ENST00000373031.4,ENST00000485971.1</td>\n",
       "      <td>1339.00</td>\n",
       "      <td>1182.92</td>\n",
       "      <td>38.00</td>\n",
       "      <td>0.02</td>\n",
       "      <td>0.12</td>\n",
       "    </tr>\n",
       "    <tr>\n",
       "      <th>2</th>\n",
       "      <td>ENSG00000000419.12</td>\n",
       "      <td>ENST00000371582.8,ENST00000371584.8,ENST000003...</td>\n",
       "      <td>1072.78</td>\n",
       "      <td>916.70</td>\n",
       "      <td>5765.00</td>\n",
       "      <td>4.71</td>\n",
       "      <td>23.65</td>\n",
       "    </tr>\n",
       "    <tr>\n",
       "      <th>3</th>\n",
       "      <td>ENSG00000000457.13</td>\n",
       "      <td>ENST00000367770.5,ENST00000367771.10,ENST00000...</td>\n",
       "      <td>3828.60</td>\n",
       "      <td>3672.52</td>\n",
       "      <td>3862.22</td>\n",
       "      <td>0.79</td>\n",
       "      <td>3.96</td>\n",
       "    </tr>\n",
       "    <tr>\n",
       "      <th>4</th>\n",
       "      <td>ENSG00000000460.16</td>\n",
       "      <td>ENST00000286031.10,ENST00000359326.8,ENST00000...</td>\n",
       "      <td>2272.15</td>\n",
       "      <td>2116.07</td>\n",
       "      <td>5451.78</td>\n",
       "      <td>1.93</td>\n",
       "      <td>9.69</td>\n",
       "    </tr>\n",
       "  </tbody>\n",
       "</table>\n",
       "</div>"
      ],
      "text/plain": [
       "              gene_id                                   transcript_id(s)  \\\n",
       "0  ENSG00000000003.14  ENST00000373020.8,ENST00000494424.1,ENST000004...   \n",
       "1   ENSG00000000005.5                ENST00000373031.4,ENST00000485971.1   \n",
       "2  ENSG00000000419.12  ENST00000371582.8,ENST00000371584.8,ENST000003...   \n",
       "3  ENSG00000000457.13  ENST00000367770.5,ENST00000367771.10,ENST00000...   \n",
       "4  ENSG00000000460.16  ENST00000286031.10,ENST00000359326.8,ENST00000...   \n",
       "\n",
       "    length  effective_length  expected_count   TPM   FPKM  \n",
       "0  2205.12           2049.04         9798.00  3.58  17.99  \n",
       "1  1339.00           1182.92           38.00  0.02   0.12  \n",
       "2  1072.78            916.70         5765.00  4.71  23.65  \n",
       "3  3828.60           3672.52         3862.22  0.79   3.96  \n",
       "4  2272.15           2116.07         5451.78  1.93   9.69  "
      ]
     },
     "execution_count": 7,
     "metadata": {},
     "output_type": "execute_result"
    }
   ],
   "source": [
    "cut.head()\n"
   ]
  },
  {
   "cell_type": "code",
   "execution_count": 17,
   "metadata": {
    "collapsed": false
   },
   "outputs": [
    {
     "data": {
      "text/plain": [
       "array([ -1.10000000e+01,  -1.84000000e+00,  -1.60000000e-01, ...,\n",
       "         2.00000000e-02,  -1.00000000e-02,  -3.05000000e+00])"
      ]
     },
     "execution_count": 17,
     "metadata": {},
     "output_type": "execute_result"
    }
   ],
   "source": [
    "diff[np.nonzero(diff)]"
   ]
  },
  {
   "cell_type": "code",
   "execution_count": 19,
   "metadata": {
    "collapsed": false
   },
   "outputs": [
    {
     "name": "stdout",
     "output_type": "stream",
     "text": [
      "Number of nonzero diffs: 13559\n",
      "Largest diff: 6505.73\n"
     ]
    },
    {
     "data": {
      "image/png": "[encoded data removed]",
      "text/plain": [
       "<matplotlib.figure.Figure at 0x117e2f250>"
      ]
     },
     "metadata": {},
     "output_type": "display_data"
    }
   ],
   "source": [
    "assert list(cut.gene_id) == list(non.gene_id)\n",
    "diff = np.array(cut.expected_count) - np.array(non.expected_count)\n",
    "print 'Number of nonzero diffs: ' + str(np.shape(np.nonzero(diff))[1])\n",
    "print 'Largest diff: ' + str(np.max([np.abs(x) for x in diff]))\n",
    "plt.hist(diff[np.nonzero(diff)], bins=10000)\n",
    "plt.xlim([-100, 100])\n",
    "plt.show()"
   ]
  },
  {
   "cell_type": "code",
   "execution_count": null,
   "metadata": {
    "collapsed": true
   },
   "outputs": [],
   "source": []
  }
 ],
 "metadata": {
  "kernelspec": {
   "display_name": "Python 2",
   "language": "python",
   "name": "python2"
  },
  "language_info": {
   "codemirror_mode": {
    "name": "ipython",
    "version": 2
   },
   "file_extension": ".py",
   "mimetype": "text/x-python",
   "name": "python",
   "nbconvert_exporter": "python",
   "pygments_lexer": "ipython2",
   "version": "2.7.11"
  }
 },
 "nbformat": 4,
 "nbformat_minor": 0
}
