{
 "cells": [
  {
   "cell_type": "markdown",
   "metadata": {},
   "source": [
    "# RSEM Mapping\n",
    "Subset a table of quantification values, output by RSEM, from Gencode/Ensemble names to HUGO"
   ]
  },
  {
   "cell_type": "code",
   "execution_count": 2,
   "metadata": {
    "collapsed": true
   },
   "outputs": [],
   "source": [
    "import os\n",
    "import pandas as pd\n",
    "import itertools\n",
    "import random"
   ]
  },
  {
   "cell_type": "code",
   "execution_count": 3,
   "metadata": {
    "collapsed": false
   },
   "outputs": [
    {
     "data": {
      "text/html": [
       "<style>body {\n",
       "    margin: 0;\n",
       "    font-family: Helvetica;\n",
       "}\n",
       "table.dataframe {\n",
       "    border-collapse: collapse;\n",
       "    border: none;\n",
       "}\n",
       "table.dataframe tr {\n",
       "    border: none;\n",
       "}\n",
       "table.dataframe td, table.dataframe th {\n",
       "    margin: 0;\n",
       "    border: 1px solid white;\n",
       "    padding-left: 0.25em;\n",
       "    padding-right: 0.25em;\n",
       "}\n",
       "table.dataframe th:not(:empty) {\n",
       "    background-color: #fec;\n",
       "    text-align: left;\n",
       "    font-weight: normal;\n",
       "}\n",
       "table.dataframe tr:nth-child(2) th:empty {\n",
       "    border-left: none;\n",
       "    border-right: 1px dashed #888;\n",
       "}\n",
       "table.dataframe td {\n",
       "    border: 2px solid #ccf;\n",
       "    background-color: #f4f4ff;\n",
       "}\n",
       "h3 {\n",
       "    color: white;\n",
       "    background-color: black;\n",
       "    padding: 0.5em;\n",
       "}\n",
       "</style>"
      ],
      "text/plain": [
       "<IPython.core.display.HTML object>"
      ]
     },
     "execution_count": 3,
     "metadata": {},
     "output_type": "execute_result"
    }
   ],
   "source": [
    "from IPython.core.display import HTML\n",
    "css = open('style-table.css').read() + open('style-notebook.css').read()\n",
    "HTML('<style>{}</style>'.format(css))"
   ]
  },
  {
   "cell_type": "code",
   "execution_count": 4,
   "metadata": {
    "collapsed": false
   },
   "outputs": [],
   "source": [
    "tab_paths, results_paths = [], []\n",
    "for root, sub, files in os.walk('.'):\n",
    "    for f in files:\n",
    "        if 'gene' in f:\n",
    "            tab_paths.append(os.path.join(root, f))\n",
    "        elif 'isoform' in f:\n",
    "            results_paths.append(os.path.join(root, f))"
   ]
  },
  {
   "cell_type": "code",
   "execution_count": 5,
   "metadata": {
    "collapsed": false
   },
   "outputs": [],
   "source": [
    "id_map = pd.read_table('attrs.tsv', sep='\\t')"
   ]
  },
  {
   "cell_type": "code",
   "execution_count": 6,
   "metadata": {
    "collapsed": false
   },
   "outputs": [
    {
     "data": {
      "text/html": [
       "<div>\n",
       "<table border=\"1\" class=\"dataframe\">\n",
       "  <thead>\n",
       "    <tr style=\"text-align: right;\">\n",
       "      <th></th>\n",
       "      <th>geneId</th>\n",
       "      <th>geneName</th>\n",
       "      <th>geneType</th>\n",
       "      <th>geneStatus</th>\n",
       "      <th>transcriptId</th>\n",
       "      <th>transcriptName</th>\n",
       "      <th>transcriptType</th>\n",
       "      <th>transcriptStatus</th>\n",
       "      <th>havanaGeneId</th>\n",
       "      <th>havanaTranscriptId</th>\n",
       "      <th>ccdsId</th>\n",
       "      <th>level</th>\n",
       "      <th>transcriptClass</th>\n",
       "    </tr>\n",
       "  </thead>\n",
       "  <tbody>\n",
       "    <tr>\n",
       "      <th>0</th>\n",
       "      <td>ENSG00000223972.5</td>\n",
       "      <td>DDX11L1</td>\n",
       "      <td>transcribed_unprocessed_pseudogene</td>\n",
       "      <td>KNOWN</td>\n",
       "      <td>ENST00000456328.2</td>\n",
       "      <td>DDX11L1-002</td>\n",
       "      <td>processed_transcript</td>\n",
       "      <td>KNOWN</td>\n",
       "      <td>OTTHUMG00000000961.2</td>\n",
       "      <td>OTTHUMT00000362751.1</td>\n",
       "      <td>NaN</td>\n",
       "      <td>2</td>\n",
       "      <td>pseudo</td>\n",
       "    </tr>\n",
       "    <tr>\n",
       "      <th>1</th>\n",
       "      <td>ENSG00000223972.5</td>\n",
       "      <td>DDX11L1</td>\n",
       "      <td>transcribed_unprocessed_pseudogene</td>\n",
       "      <td>KNOWN</td>\n",
       "      <td>ENST00000450305.2</td>\n",
       "      <td>DDX11L1-001</td>\n",
       "      <td>transcribed_unprocessed_pseudogene</td>\n",
       "      <td>KNOWN</td>\n",
       "      <td>OTTHUMG00000000961.2</td>\n",
       "      <td>OTTHUMT00000002844.2</td>\n",
       "      <td>NaN</td>\n",
       "      <td>2</td>\n",
       "      <td>pseudo</td>\n",
       "    </tr>\n",
       "    <tr>\n",
       "      <th>2</th>\n",
       "      <td>ENSG00000227232.5</td>\n",
       "      <td>WASH7P</td>\n",
       "      <td>unprocessed_pseudogene</td>\n",
       "      <td>KNOWN</td>\n",
       "      <td>ENST00000488147.1</td>\n",
       "      <td>WASH7P-001</td>\n",
       "      <td>unprocessed_pseudogene</td>\n",
       "      <td>KNOWN</td>\n",
       "      <td>OTTHUMG00000000958.1</td>\n",
       "      <td>OTTHUMT00000002839.1</td>\n",
       "      <td>NaN</td>\n",
       "      <td>2</td>\n",
       "      <td>pseudo</td>\n",
       "    </tr>\n",
       "    <tr>\n",
       "      <th>3</th>\n",
       "      <td>ENSG00000278267.1</td>\n",
       "      <td>MIR6859-1</td>\n",
       "      <td>miRNA</td>\n",
       "      <td>KNOWN</td>\n",
       "      <td>ENST00000619216.1</td>\n",
       "      <td>MIR6859-1-201</td>\n",
       "      <td>miRNA</td>\n",
       "      <td>KNOWN</td>\n",
       "      <td>NaN</td>\n",
       "      <td>NaN</td>\n",
       "      <td>NaN</td>\n",
       "      <td>3</td>\n",
       "      <td>nonCoding</td>\n",
       "    </tr>\n",
       "    <tr>\n",
       "      <th>4</th>\n",
       "      <td>ENSG00000243485.3</td>\n",
       "      <td>RP11-34P13.3</td>\n",
       "      <td>lincRNA</td>\n",
       "      <td>KNOWN</td>\n",
       "      <td>ENST00000473358.1</td>\n",
       "      <td>RP11-34P13.3-001</td>\n",
       "      <td>lincRNA</td>\n",
       "      <td>KNOWN</td>\n",
       "      <td>OTTHUMG00000000959.2</td>\n",
       "      <td>OTTHUMT00000002840.1</td>\n",
       "      <td>NaN</td>\n",
       "      <td>2</td>\n",
       "      <td>nonCoding</td>\n",
       "    </tr>\n",
       "  </tbody>\n",
       "</table>\n",
       "</div>"
      ],
      "text/plain": [
       "              geneId      geneName                            geneType  \\\n",
       "0  ENSG00000223972.5       DDX11L1  transcribed_unprocessed_pseudogene   \n",
       "1  ENSG00000223972.5       DDX11L1  transcribed_unprocessed_pseudogene   \n",
       "2  ENSG00000227232.5        WASH7P              unprocessed_pseudogene   \n",
       "3  ENSG00000278267.1     MIR6859-1                               miRNA   \n",
       "4  ENSG00000243485.3  RP11-34P13.3                             lincRNA   \n",
       "\n",
       "  geneStatus       transcriptId    transcriptName  \\\n",
       "0      KNOWN  ENST00000456328.2       DDX11L1-002   \n",
       "1      KNOWN  ENST00000450305.2       DDX11L1-001   \n",
       "2      KNOWN  ENST00000488147.1        WASH7P-001   \n",
       "3      KNOWN  ENST00000619216.1     MIR6859-1-201   \n",
       "4      KNOWN  ENST00000473358.1  RP11-34P13.3-001   \n",
       "\n",
       "                       transcriptType transcriptStatus          havanaGeneId  \\\n",
       "0                processed_transcript            KNOWN  OTTHUMG00000000961.2   \n",
       "1  transcribed_unprocessed_pseudogene            KNOWN  OTTHUMG00000000961.2   \n",
       "2              unprocessed_pseudogene            KNOWN  OTTHUMG00000000958.1   \n",
       "3                               miRNA            KNOWN                   NaN   \n",
       "4                             lincRNA            KNOWN  OTTHUMG00000000959.2   \n",
       "\n",
       "     havanaTranscriptId ccdsId  level transcriptClass  \n",
       "0  OTTHUMT00000362751.1    NaN      2          pseudo  \n",
       "1  OTTHUMT00000002844.2    NaN      2          pseudo  \n",
       "2  OTTHUMT00000002839.1    NaN      2          pseudo  \n",
       "3                   NaN    NaN      3       nonCoding  \n",
       "4  OTTHUMT00000002840.1    NaN      2       nonCoding  "
      ]
     },
     "execution_count": 6,
     "metadata": {},
     "output_type": "execute_result"
    }
   ],
   "source": [
    "id_map.head()"
   ]
  },
  {
   "cell_type": "code",
   "execution_count": 5,
   "metadata": {
    "collapsed": false
   },
   "outputs": [],
   "source": [
    "gene_mappings = {x: y for x, y in itertools.izip(id_map['geneId'], id_map['geneName'])}\n",
    "isoform_mappings = {x: y for x, y in itertools.izip(id_map['transcriptId'], id_map['transcriptName'])}"
   ]
  },
  {
   "cell_type": "code",
   "execution_count": 6,
   "metadata": {
    "collapsed": false
   },
   "outputs": [],
   "source": [
    "genes = {x: pd.read_table(x, sep='\\t') for x in tab_paths }\n",
    "isoforms = {x: pd.read_table(x, sep='\\t') for x in results_paths}"
   ]
  },
  {
   "cell_type": "code",
   "execution_count": 7,
   "metadata": {
    "collapsed": false,
    "scrolled": true
   },
   "outputs": [
    {
     "data": {
      "text/html": [
       "<div>\n",
       "<table border=\"1\" class=\"dataframe\">\n",
       "  <thead>\n",
       "    <tr style=\"text-align: right;\">\n",
       "      <th></th>\n",
       "      <th>gene_id</th>\n",
       "      <th>01563ead-2437-4282-81b1-f0db63d72e9c</th>\n",
       "    </tr>\n",
       "  </thead>\n",
       "  <tbody>\n",
       "    <tr>\n",
       "      <th>0</th>\n",
       "      <td>ENSG00000000003.14</td>\n",
       "      <td>0.0000</td>\n",
       "    </tr>\n",
       "    <tr>\n",
       "      <th>1</th>\n",
       "      <td>ENSG00000000005.5</td>\n",
       "      <td>0.0000</td>\n",
       "    </tr>\n",
       "    <tr>\n",
       "      <th>2</th>\n",
       "      <td>ENSG00000000419.12</td>\n",
       "      <td>1435.1225</td>\n",
       "    </tr>\n",
       "    <tr>\n",
       "      <th>3</th>\n",
       "      <td>ENSG00000000457.13</td>\n",
       "      <td>180.8233</td>\n",
       "    </tr>\n",
       "    <tr>\n",
       "      <th>4</th>\n",
       "      <td>ENSG00000000460.16</td>\n",
       "      <td>150.0782</td>\n",
       "    </tr>\n",
       "  </tbody>\n",
       "</table>\n",
       "</div>"
      ],
      "text/plain": [
       "              gene_id  01563ead-2437-4282-81b1-f0db63d72e9c\n",
       "0  ENSG00000000003.14                                0.0000\n",
       "1   ENSG00000000005.5                                0.0000\n",
       "2  ENSG00000000419.12                             1435.1225\n",
       "3  ENSG00000000457.13                              180.8233\n",
       "4  ENSG00000000460.16                              150.0782"
      ]
     },
     "execution_count": 7,
     "metadata": {},
     "output_type": "execute_result"
    }
   ],
   "source": [
    "genes[random.choice(genes.keys())].head()"
   ]
  },
  {
   "cell_type": "code",
   "execution_count": 8,
   "metadata": {
    "collapsed": false
   },
   "outputs": [
    {
     "data": {
      "text/html": [
       "<div>\n",
       "<table border=\"1\" class=\"dataframe\">\n",
       "  <thead>\n",
       "    <tr style=\"text-align: right;\">\n",
       "      <th></th>\n",
       "      <th>gene_id/transcript_id</th>\n",
       "      <th>01563ead-2437-4282-81b1-f0db63d72e9c</th>\n",
       "    </tr>\n",
       "  </thead>\n",
       "  <tbody>\n",
       "    <tr>\n",
       "      <th>0</th>\n",
       "      <td>ENSG00000000003.14/ENST00000373020.8</td>\n",
       "      <td>0</td>\n",
       "    </tr>\n",
       "    <tr>\n",
       "      <th>1</th>\n",
       "      <td>ENSG00000000003.14/ENST00000494424.1</td>\n",
       "      <td>0</td>\n",
       "    </tr>\n",
       "    <tr>\n",
       "      <th>2</th>\n",
       "      <td>ENSG00000000003.14/ENST00000496771.5</td>\n",
       "      <td>0</td>\n",
       "    </tr>\n",
       "    <tr>\n",
       "      <th>3</th>\n",
       "      <td>ENSG00000000003.14/ENST00000612152.4</td>\n",
       "      <td>0</td>\n",
       "    </tr>\n",
       "    <tr>\n",
       "      <th>4</th>\n",
       "      <td>ENSG00000000003.14/ENST00000614008.4</td>\n",
       "      <td>0</td>\n",
       "    </tr>\n",
       "  </tbody>\n",
       "</table>\n",
       "</div>"
      ],
      "text/plain": [
       "                  gene_id/transcript_id  01563ead-2437-4282-81b1-f0db63d72e9c\n",
       "0  ENSG00000000003.14/ENST00000373020.8                                     0\n",
       "1  ENSG00000000003.14/ENST00000494424.1                                     0\n",
       "2  ENSG00000000003.14/ENST00000496771.5                                     0\n",
       "3  ENSG00000000003.14/ENST00000612152.4                                     0\n",
       "4  ENSG00000000003.14/ENST00000614008.4                                     0"
      ]
     },
     "execution_count": 8,
     "metadata": {},
     "output_type": "execute_result"
    }
   ],
   "source": [
    "isoforms[random.choice(isoforms.keys())].head()"
   ]
  },
  {
   "cell_type": "code",
   "execution_count": 9,
   "metadata": {
    "collapsed": false
   },
   "outputs": [],
   "source": [
    "def replace_gene_names(table, gene_mappings):\n",
    "    gene_names = []\n",
    "    keyerrors = 0.0\n",
    "    for gene_id in table['gene_id']:\n",
    "        try:    \n",
    "            gene_names.append(gene_mappings[gene_id])\n",
    "        except KeyError:\n",
    "            keyerrors += 1\n",
    "            # gene_names.append(gene_id)\n",
    "            table.drop(table[table['gene_id'] == gene_id].index, inplace=True)\n",
    "    print \"Number of unmapped genes: {}, of {} total genes.\".format(keyerrors, len(table['gene_id']))\n",
    "    print \"{}% of genes succesfully mapped.\".format(100*round(1-(keyerrors/len(table['gene_id'])),4))\n",
    "    table['gene_id'] = gene_names\n",
    "    return table"
   ]
  },
  {
   "cell_type": "code",
   "execution_count": 10,
   "metadata": {
    "collapsed": true
   },
   "outputs": [],
   "source": [
    "def replace_isoform_names(table, isoform_mappings, tabs=True):\n",
    "    isoform_names = []\n",
    "    keyerrors = 0.0\n",
    "    name = 'gene_id/transcript_id' if tabs else 'transcript_id'\n",
    "    for transcript_id in table[name]:\n",
    "        try:    \n",
    "            if tabs:\n",
    "                isoform_names.append(isoform_mappings[transcript_id.split('/')[1]])\n",
    "            else:\n",
    "                isoform_names.append(isoform_mappings[transcript_id])\n",
    "        except KeyError:\n",
    "            keyerrors += 1\n",
    "            # isoform_names.append(transcript_id)\n",
    "            table.drop(table[table[name]==transcript_id].index, inplace=True)\n",
    "    print \"Number of unmapped isoforms: {}, of {} total genes.\".format(keyerrors, len(table[name]))\n",
    "    print \"{}% of isoforms succesfully mapped.\".format(100*round(1-(keyerrors/len(table[name])),4))\n",
    "    table[name] = isoform_names\n",
    "    return table"
   ]
  },
  {
   "cell_type": "code",
   "execution_count": null,
   "metadata": {
    "collapsed": false
   },
   "outputs": [],
   "source": []
  },
  {
   "cell_type": "code",
   "execution_count": 11,
   "metadata": {
    "collapsed": false,
    "scrolled": false
   },
   "outputs": [
    {
     "name": "stdout",
     "output_type": "stream",
     "text": [
      "Number of unmapped genes: 50.0, of 60448 total genes.\n",
      "99.92% of genes succesfully mapped.\n",
      "Number of unmapped genes: 50.0, of 60448 total genes.\n",
      "99.92% of genes succesfully mapped.\n",
      "Number of unmapped genes: 50.0, of 60448 total genes.\n",
      "99.92% of genes succesfully mapped.\n",
      "Number of unmapped genes: 50.0, of 60448 total genes.\n",
      "99.92% of genes succesfully mapped.\n",
      "Number of unmapped genes: 50.0, of 60448 total genes.\n",
      "99.92% of genes succesfully mapped.\n"
     ]
    }
   ],
   "source": [
    "for gene in genes:\n",
    "    replace_gene_names(genes[gene], gene_mappings)"
   ]
  },
  {
   "cell_type": "code",
   "execution_count": 12,
   "metadata": {
    "collapsed": false
   },
   "outputs": [
    {
     "name": "stdout",
     "output_type": "stream",
     "text": [
      "Number of unmapped isoforms: 164.0, of 198455 total genes.\n",
      "99.92% of isoforms succesfully mapped.\n",
      "Number of unmapped isoforms: 164.0, of 198455 total genes.\n",
      "99.92% of isoforms succesfully mapped.\n",
      "Number of unmapped isoforms: 164.0, of 198455 total genes.\n",
      "99.92% of isoforms succesfully mapped.\n",
      "Number of unmapped isoforms: 164.0, of 198455 total genes.\n",
      "99.92% of isoforms succesfully mapped.\n",
      "Number of unmapped isoforms: 164.0, of 198455 total genes.\n",
      "99.92% of isoforms succesfully mapped.\n"
     ]
    }
   ],
   "source": [
    "for isoform in isoforms:\n",
    "    if '.tab' in isoform:\n",
    "        replace_isoform_names(isoforms[isoform], isoform_mappings)\n",
    "    else:\n",
    "        replace_isoform_names(isoforms[isoform], isoform_mappings, tabs=False)"
   ]
  },
  {
   "cell_type": "code",
   "execution_count": 13,
   "metadata": {
    "collapsed": false
   },
   "outputs": [
    {
     "name": "stdout",
     "output_type": "stream",
     "text": [
      "./01563ead-2437-4282-81b1-f0db63d72e9c/RSEM/01563ead-2437-4282-81b1-f0db63d72e9c.rsem.genes.norm_fpkm.HUGO.tab\n",
      "./01563ead-2437-4282-81b1-f0db63d72e9c/RSEM/01563ead-2437-4282-81b1-f0db63d72e9c.rsem.genes.norm_tpm.HUGO.tab\n",
      "./01563ead-2437-4282-81b1-f0db63d72e9c/RSEM/01563ead-2437-4282-81b1-f0db63d72e9c.rsem_genes.HUGO.results\n",
      "./01563ead-2437-4282-81b1-f0db63d72e9c/RSEM/01563ead-2437-4282-81b1-f0db63d72e9c.rsem.genes.norm_counts.HUGO.tab\n",
      "./01563ead-2437-4282-81b1-f0db63d72e9c/RSEM/01563ead-2437-4282-81b1-f0db63d72e9c.rsem.genes.raw_counts.HUGO.tab\n"
     ]
    }
   ],
   "source": [
    "# os.mkdir(os.path.join(os.path.split(random.choice(genes.keys()))[0], 'HUGO_names'))\n",
    "for gene in genes:\n",
    "    fpath = os.path.join(os.path.splitext(gene)[0] + '.HUGO' + os.path.splitext(gene)[1])\n",
    "    print fpath\n",
    "    genes[gene].to_csv(fpath, sep='\\t', index=False)"
   ]
  },
  {
   "cell_type": "code",
   "execution_count": 14,
   "metadata": {
    "collapsed": false
   },
   "outputs": [
    {
     "name": "stdout",
     "output_type": "stream",
     "text": [
      "./01563ead-2437-4282-81b1-f0db63d72e9c/RSEM/01563ead-2437-4282-81b1-f0db63d72e9c.rsem.isoform.raw_counts.HUGO.tab\n",
      "./01563ead-2437-4282-81b1-f0db63d72e9c/RSEM/01563ead-2437-4282-81b1-f0db63d72e9c.rsem.isoform.norm_counts.HUGO.tab\n",
      "./01563ead-2437-4282-81b1-f0db63d72e9c/RSEM/01563ead-2437-4282-81b1-f0db63d72e9c.rsem.isoform.norm_tpm.HUGO.tab\n",
      "./01563ead-2437-4282-81b1-f0db63d72e9c/RSEM/01563ead-2437-4282-81b1-f0db63d72e9c.rsem_isoforms.HUGO.results\n",
      "./01563ead-2437-4282-81b1-f0db63d72e9c/RSEM/01563ead-2437-4282-81b1-f0db63d72e9c.rsem.isoform.norm_fpkm.HUGO.tab\n"
     ]
    }
   ],
   "source": [
    "for isoform in isoforms:\n",
    "    fpath = os.path.join(os.path.splitext(isoform)[0] + '.HUGO' + os.path.splitext(isoform)[1])\n",
    "    print fpath\n",
    "    isoforms[isoform].to_csv(fpath, sep='\\t', index=False)"
   ]
  },
  {
   "cell_type": "code",
   "execution_count": null,
   "metadata": {
    "collapsed": true
   },
   "outputs": [],
   "source": []
  },
  {
   "cell_type": "code",
   "execution_count": null,
   "metadata": {
    "collapsed": true
   },
   "outputs": [],
   "source": []
  }
 ],
 "metadata": {
  "kernelspec": {
   "display_name": "Python 2",
   "language": "python",
   "name": "python2"
  },
  "language_info": {
   "codemirror_mode": {
    "name": "ipython",
    "version": 2
   },
   "file_extension": ".py",
   "mimetype": "text/x-python",
   "name": "python",
   "nbconvert_exporter": "python",
   "pygments_lexer": "ipython2",
   "version": "2.7.10"
  }
 },
 "nbformat": 4,
 "nbformat_minor": 0
}
